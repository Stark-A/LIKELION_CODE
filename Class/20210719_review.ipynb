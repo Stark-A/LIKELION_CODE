{
 "cells": [
  {
   "cell_type": "markdown",
   "metadata": {},
   "source": [
    "### 라이브러리"
   ]
  },
  {
   "cell_type": "markdown",
   "metadata": {},
   "source": [
    "### scikit-learn"
   ]
  },
  {
   "cell_type": "markdown",
   "metadata": {},
   "source": [
    "### Pandas, Matplitlib, Numpy"
   ]
  },
  {
   "cell_type": "markdown",
   "metadata": {},
   "source": [
    "### 데이터 나누기\n",
    "  * 훈련 데이터\n",
    "  * 테스트 데이터\n",
    "  * 모델에 대한 평가를 위해서~\n",
    "  * 75%, 25%\n",
    "    * test_size\n",
    "    * stratify = ___\n",
    "\n",
    "### 머신러닝 모델 만들기\n",
    "  * knn -> sklearn.neighbors\n",
    "  * LinearRegresiion -> sklearn.linear_model\n",
    "  * RandomForest -> sklearn.ensemble\n",
    "  * RandomFoerstClassifier. RandomForestRegressor\n",
    "  *\n",
    "  * m = ____()\n",
    "  * m.fit(입력, 출력)\n",
    "  * pred = m.predict(새로운데이터의입력)\n",
    "\n",
    "### 머신러닝 모델 평가\n",
    "  * MSE, MAE, RMSE, RLMSE\n",
    "  * MAE : |실제값 - 예측값| 전부 더 하고 데이터의 개수로 나누어준다.\n",
    "  * MSE : (실제값 - 예측값) **2 전부 더하고 데이터의 개수로 나누어준다.\n",
    "  * RMSE : MSE에 루트\n",
    "  * RMLSE : ( log(실제값+1) - log(예측값+1) )**2 전부 더하고 데이터의 개수로 나누어준다."
   ]
  },
  {
   "cell_type": "markdown",
   "metadata": {},
   "source": [
    "### knn 모델"
   ]
  },
  {
   "cell_type": "markdown",
   "metadata": {},
   "source": [
    "### 과대적합(overfitting)"
   ]
  },
  {
   "cell_type": "markdown",
   "metadata": {},
   "source": [
    "### 과소적합(underfitting)"
   ]
  },
  {
   "cell_type": "markdown",
   "metadata": {},
   "source": [
    "### score 함수\n",
    " * 분류 모델의 score() : 정확도\n",
    " * 회귀 모델의 score() : 결정계수 (0~1)\n",
    "    * 결정계수는 어떤 값의 제곱한 값과 같다.(상관계수)"
   ]
  },
  {
   "cell_type": "markdown",
   "metadata": {},
   "source": [
    "### 선형 모델 - linear model"
   ]
  },
  {
   "cell_type": "markdown",
   "metadata": {},
   "source": [
    " * y = w1 * x1 + w2 * x2 + b\n",
    " * 평균 제곱 오차(MSE)"
   ]
  },
  {
   "cell_type": "markdown",
   "metadata": {},
   "source": [
    " * 선형모델의 과대적합\n",
    "     * 사용되는 특징이 많아질때,\n",
    "        * 14개 -> 약 100여개 특징."
   ]
  },
  {
   "cell_type": "markdown",
   "metadata": {},
   "source": [
    "### 선형모델의 과대적합 해결 알고리즘\n",
    "  * 리지, 랏소\n",
    "    * 공통점 - 가중치 규제\n",
    "       * y = w1 * x1 + w2 * x2 + b\n",
    "       * w1, w2... 가중치의 절대값을 0에 가깝게 만든다.\n",
    "    * 차이점 -\n",
    "       * 라쏘 - 실제로 0이 되는 친구가 있고, (L1)\n",
    "       * 릿지 - 실제로 0이 되는 친구가 없다. (L2)\n",
    "    * alpha 값\n",
    "       * alpha 값이 작을수록 규제가 약해져서 단순선형회귀에 가까워집니다.\n",
    "       \n",
    "### 정규화\n",
    "   * 0 ~ 1 : "
   ]
  },
  {
   "cell_type": "markdown",
   "metadata": {},
   "source": [
    "### 결정트리 설명"
   ]
  },
  {
   "cell_type": "code",
   "execution_count": null,
   "metadata": {},
   "outputs": [],
   "source": []
  }
 ],
 "metadata": {
  "kernelspec": {
   "display_name": "Python 3",
   "language": "python",
   "name": "python3"
  },
  "language_info": {
   "codemirror_mode": {
    "name": "ipython",
    "version": 3
   },
   "file_extension": ".py",
   "mimetype": "text/x-python",
   "name": "python",
   "nbconvert_exporter": "python",
   "pygments_lexer": "ipython3",
   "version": "3.8.5"
  }
 },
 "nbformat": 4,
 "nbformat_minor": 4
}
