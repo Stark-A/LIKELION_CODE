{
 "cells": [
  {
   "cell_type": "code",
   "execution_count": 1,
   "metadata": {},
   "outputs": [],
   "source": [
    "import os"
   ]
  },
  {
   "cell_type": "code",
   "execution_count": 2,
   "metadata": {},
   "outputs": [
    {
     "data": {
      "text/plain": [
       "'C:\\\\Users\\\\ahw48\\\\Documents\\\\GitHub\\\\LIKELION_CODE\\\\Class'"
      ]
     },
     "execution_count": 2,
     "metadata": {},
     "output_type": "execute_result"
    }
   ],
   "source": [
    "os.getcwd()"
   ]
  },
  {
   "cell_type": "code",
   "execution_count": 3,
   "metadata": {},
   "outputs": [],
   "source": [
    "from selenium import webdriver\n",
    "from bs4 import BeautifulSoup"
   ]
  },
  {
   "cell_type": "code",
   "execution_count": 4,
   "metadata": {},
   "outputs": [],
   "source": [
    "driver = webdriver.Chrome('./chromedriver_90')"
   ]
  },
  {
   "cell_type": "code",
   "execution_count": 6,
   "metadata": {},
   "outputs": [],
   "source": [
    "url = 'https://www.amazon.com/'\n",
    "driver.get(url)"
   ]
  },
  {
   "cell_type": "code",
   "execution_count": 7,
   "metadata": {},
   "outputs": [],
   "source": [
    "# //*[@id=\"twotabsearchtextbox\"]\n",
    "# //*[@id=\"nav-search-submit-button\"]"
   ]
  },
  {
   "cell_type": "code",
   "execution_count": 10,
   "metadata": {},
   "outputs": [
    {
     "name": "stdout",
     "output_type": "stream",
     "text": [
      "input input\n"
     ]
    }
   ],
   "source": [
    "sel_search = driver.find_element_by_xpath('//*[@id=\"twotabsearchtextbox\"]')\n",
    "sel_btn = driver.find_element_by_xpath('//*[@id=\"nav-search-submit-button\"]')\n",
    "\n",
    "print(sel_search.tag_name, sel_btn.tag_name)"
   ]
  },
  {
   "cell_type": "code",
   "execution_count": 11,
   "metadata": {},
   "outputs": [],
   "source": [
    "sel_search.clear()\n",
    "sel_search.send_keys(\"earphone\")\n",
    "sel_btn.click()"
   ]
  },
  {
   "cell_type": "markdown",
   "metadata": {},
   "source": [
    "#### (실습) 첫번째 제품의 href 정보를 가져와 보기"
   ]
  },
  {
   "cell_type": "code",
   "execution_count": 21,
   "metadata": {},
   "outputs": [
    {
     "name": "stdout",
     "output_type": "stream",
     "text": [
      "https://www.amazon.com/gp/slredirect/picassoRedirect.html/ref=pa_sp_atf_aps_sr_pg1_1?ie=UTF8&adId=A0870194129TKFEDZ8MAO&url=%2FHeadphones-Bluetooth-Reduction-Microphone-Compatible%2Fdp%2FB095RHGZKB%2Fref%3Dsr_1_1_sspa%3Fdchild%3D1%26keywords%3Dearphones%26qid%3D1624238833%26sr%3D8-1-spons%26psc%3D1&qualifier=1624238833&id=2068465645653425&widgetName=sp_atf\n"
     ]
    }
   ],
   "source": [
    "# //*[@id=\"search\"]/div[1]/div/div[1]/div/span[3]/div[2]/div[3]/div/span/div/div/div/div/div[2]/div[2]/div/div[1]/h2/a\n",
    "sel_url = driver.find_element_by_xpath('//*[@id=\"search\"]/div[1]/div/div[1]/div/span[3]/div[2]/div[3]/div/span/div/div/div/div/div[2]/div[2]/div/div[1]/h2/a')\n",
    "print(sel_url.get_attribute(\"href\"))\n"
   ]
  },
  {
   "cell_type": "code",
   "execution_count": 20,
   "metadata": {},
   "outputs": [
    {
     "name": "stdout",
     "output_type": "stream",
     "text": [
      "<title>Amazon.com : earphone</title>\n"
     ]
    },
    {
     "data": {
      "text/plain": [
       "'https://www.amazon.com/s?k=earphone&ref=nb_sb_noss_2'"
      ]
     },
     "execution_count": 20,
     "metadata": {},
     "output_type": "execute_result"
    }
   ],
   "source": [
    "page = driver.page_source\n",
    "soup = BeautifulSoup(page, 'html.parser')\n",
    "print(soup.title)\n",
    "\n",
    "current_url = driver.current_url\n",
    "current_url"
   ]
  },
  {
   "cell_type": "code",
   "execution_count": 43,
   "metadata": {},
   "outputs": [],
   "source": [
    "url = 'https://www.amazon.com/gp/slredirect/picassoRedirect.html/ref=pa_sp_atf_aps_sr_pg1_1?ie=UTF8&adId=A0870194129TKFEDZ8MAO&url=%2FHeadphones-Bluetooth-Reduction-Microphone-Compatible%2Fdp%2FB095RHGZKB%2Fref%3Dsr_1_1_sspa%3Fdchild%3D1%26keywords%3Dearphones%26qid%3D1624238959%26sr%3D8-1-spons%26psc%3D1&qualifier=1624238959&id=4455813896748011&widgetName=sp_atf'\n",
    "driver.get(url)"
   ]
  },
  {
   "cell_type": "code",
   "execution_count": 44,
   "metadata": {},
   "outputs": [],
   "source": [
    "import time\n",
    "time.sleep(3)"
   ]
  },
  {
   "cell_type": "code",
   "execution_count": 45,
   "metadata": {},
   "outputs": [],
   "source": [
    "# //*[@id=\"acrCustomerReviewText\"]\n",
    "sel_rate = driver.find_element_by_xpath('//*[@id=\"acrCustomerReviewText\"]')\n",
    "sel_rate.click()"
   ]
  },
  {
   "cell_type": "code",
   "execution_count": 46,
   "metadata": {},
   "outputs": [],
   "source": [
    "# //*[@id=\"reviews-medley-footer\"]/div[2]/a\n",
    "sel_all_review = driver.find_element_by_xpath('//*[@id=\"reviews-medley-footer\"]/div[2]/a')\n",
    "sel_all_review.click()"
   ]
  },
  {
   "cell_type": "code",
   "execution_count": 47,
   "metadata": {},
   "outputs": [
    {
     "data": {
      "text/plain": [
       "<title>Amazon.com: Customer reviews: Earbuds Earphone,Wired in-Ear Headphones with Bluetooth,Noise Reduction Function with Built-in Microphone and Volume Control Compatible with iPhone12/ 12 Pro/11/11 Pro/XR/XS Max/X /8 Plus (2 Pack)</title>"
      ]
     },
     "execution_count": 47,
     "metadata": {},
     "output_type": "execute_result"
    }
   ],
   "source": [
    "page = driver.page_source\n",
    "soup = BeautifulSoup(page, \"html.parser\")\n",
    "soup.title"
   ]
  },
  {
   "cell_type": "code",
   "execution_count": 48,
   "metadata": {},
   "outputs": [
    {
     "data": {
      "text/plain": [
       "10"
      ]
     },
     "execution_count": 48,
     "metadata": {},
     "output_type": "execute_result"
    }
   ],
   "source": [
    "all_r = soup.findAll(\"span\", class_=\"a-size-base review-text review-text-content\")\n",
    "len(all_r)"
   ]
  },
  {
   "cell_type": "code",
   "execution_count": 49,
   "metadata": {},
   "outputs": [
    {
     "data": {
      "text/plain": [
       "['  We made hot chocolate bombs. Love the size and how the mold peels right off the chocolate without breaking it! Kids had a blast! Would recommend!',\n",
       " \"  Ok I was skeptical and watched so many videos to not mess up the process. Turns out that I believe what's important is the quality of chocolate you use. Anything that stays solid at room temperature and is semi gourmet is perfect! Candy bars not so much as they melt while handling. Stuffed full with baby marshmallows and hot chocolate nesquick mix and some brown sugar. My boys loved the rich bombs made in milk. The balls are large and perfect size to fit in a big mug. I stored ours in the fridge.We also painted on two layers of chocolate and cooled in the fridge after each layer. Areas to be careful with are the bomb edges that seal as well as the bottom center, i ended up with a couple holes. No harm done still tasty just not pretty. Yes i recommend it and yes i would buy it again.\",\n",
       " '  I love how easy these are to use!! Great for beginners!!',\n",
       " '  These were so easy to use. Easy to clean as well. The chocolate popped right out once set. I think this is a great price and value. My first time making hot cocoa bombs was a success because of these molds. There are so many to choose from on Amazon but I think I made the right choice for sure!',\n",
       " '  The mold was the perfect size for a hot chocolate bomb! I read so many reviews before purchasing trying to get something that would be the right size, delivered quickly, & was easy to use. This mold was all of the above. As some mentioned, it is thin, buy that allows for easy removal of the molded item. It does also make it a little flattened on the ends because of that, so we used a cookie sheet underneath to help as it was so flexible and also put some bunched up parchment paper underneath to help take the pressure off of it sitting on the flat surface and it worked great. Kind of a pain to have to do that, but if the mold was harder it would make getting the stuff out of the molds harder. I am very happy with these molds and would purchase them again.',\n",
       " '  This product shipped fast and arrived on time. Good quality and makes an over 2\" hot cocoa bomb.Very happy with this purchase. I bought 2 sets of 3 !! Easy to clean, easy to use.',\n",
       " '  Too flimsy, received a refund. A $10 gift card is offered for a five star review!',\n",
       " \"  Great product!  Worked well!  Update The product works fine...nothing extraordinary, but I only wrote this review because they promised a Amazon gift card but never delivered on it...so I'm giving it 1 star because they lied and didn't fulfill their promise.  That is all.\",\n",
       " '  First time making chocolate bombs and while the first one didn’t turn out great because my hands were too warm, the silicone molds made it very easy to remove!  These spheres are 2.5 inches in diameter and are the perfect size for chocolate bombs! Also very easy to wash - just put them in the dishwasher!  I didn’t have any silicone smell after I put it in the dishwasher as soon as I got it.',\n",
       " '  Unlike other seller which never delivered, after 2 weeks we ordered from them.  Super fast delivery even during Christmas! The mold worked great for the cocoa bomb even my 8 year old was able to make them.  Very happy!']"
      ]
     },
     "execution_count": 49,
     "metadata": {},
     "output_type": "execute_result"
    }
   ],
   "source": [
    "all_review = []\n",
    "\n",
    "for one in all_r:\n",
    "    tmp = one.text\n",
    "    review = tmp.replace('\\n', \"\")\n",
    "    #print(review)\n",
    "    all_review.append(review)\n",
    "\n",
    "all_review"
   ]
  },
  {
   "cell_type": "code",
   "execution_count": 50,
   "metadata": {},
   "outputs": [],
   "source": [
    "import pandas as pd"
   ]
  },
  {
   "cell_type": "code",
   "execution_count": 51,
   "metadata": {},
   "outputs": [
    {
     "data": {
      "text/html": [
       "<div>\n",
       "<style scoped>\n",
       "    .dataframe tbody tr th:only-of-type {\n",
       "        vertical-align: middle;\n",
       "    }\n",
       "\n",
       "    .dataframe tbody tr th {\n",
       "        vertical-align: top;\n",
       "    }\n",
       "\n",
       "    .dataframe thead th {\n",
       "        text-align: right;\n",
       "    }\n",
       "</style>\n",
       "<table border=\"1\" class=\"dataframe\">\n",
       "  <thead>\n",
       "    <tr style=\"text-align: right;\">\n",
       "      <th></th>\n",
       "      <th>review</th>\n",
       "    </tr>\n",
       "  </thead>\n",
       "  <tbody>\n",
       "    <tr>\n",
       "      <th>0</th>\n",
       "      <td>We made hot chocolate bombs. Love the size a...</td>\n",
       "    </tr>\n",
       "    <tr>\n",
       "      <th>1</th>\n",
       "      <td>Ok I was skeptical and watched so many video...</td>\n",
       "    </tr>\n",
       "    <tr>\n",
       "      <th>2</th>\n",
       "      <td>I love how easy these are to use!! Great for...</td>\n",
       "    </tr>\n",
       "    <tr>\n",
       "      <th>3</th>\n",
       "      <td>These were so easy to use. Easy to clean as ...</td>\n",
       "    </tr>\n",
       "    <tr>\n",
       "      <th>4</th>\n",
       "      <td>The mold was the perfect size for a hot choc...</td>\n",
       "    </tr>\n",
       "    <tr>\n",
       "      <th>5</th>\n",
       "      <td>This product shipped fast and arrived on tim...</td>\n",
       "    </tr>\n",
       "    <tr>\n",
       "      <th>6</th>\n",
       "      <td>Too flimsy, received a refund. A $10 gift ca...</td>\n",
       "    </tr>\n",
       "    <tr>\n",
       "      <th>7</th>\n",
       "      <td>Great product!  Worked well!  Update The pro...</td>\n",
       "    </tr>\n",
       "    <tr>\n",
       "      <th>8</th>\n",
       "      <td>First time making chocolate bombs and while ...</td>\n",
       "    </tr>\n",
       "    <tr>\n",
       "      <th>9</th>\n",
       "      <td>Unlike other seller which never delivered, a...</td>\n",
       "    </tr>\n",
       "  </tbody>\n",
       "</table>\n",
       "</div>"
      ],
      "text/plain": [
       "                                              review\n",
       "0    We made hot chocolate bombs. Love the size a...\n",
       "1    Ok I was skeptical and watched so many video...\n",
       "2    I love how easy these are to use!! Great for...\n",
       "3    These were so easy to use. Easy to clean as ...\n",
       "4    The mold was the perfect size for a hot choc...\n",
       "5    This product shipped fast and arrived on tim...\n",
       "6    Too flimsy, received a refund. A $10 gift ca...\n",
       "7    Great product!  Worked well!  Update The pro...\n",
       "8    First time making chocolate bombs and while ...\n",
       "9    Unlike other seller which never delivered, a..."
      ]
     },
     "execution_count": 51,
     "metadata": {},
     "output_type": "execute_result"
    }
   ],
   "source": [
    "dat_r = {'review' : all_review }\n",
    "dat = pd.DataFrame(dat_r)\n",
    "dat"
   ]
  },
  {
   "cell_type": "code",
   "execution_count": 52,
   "metadata": {},
   "outputs": [],
   "source": [
    "dat.to_csv(\"review.csv\", index=False)"
   ]
  },
  {
   "cell_type": "code",
   "execution_count": 75,
   "metadata": {},
   "outputs": [],
   "source": [
    "import os, warnings\n",
    "import re\n",
    "warnings.filterwarnings(action='ignore')"
   ]
  },
  {
   "cell_type": "code",
   "execution_count": 76,
   "metadata": {},
   "outputs": [],
   "source": [
    "from selenium import webdriver\n",
    "from bs4 import BeautifulSoup"
   ]
  },
  {
   "cell_type": "code",
   "execution_count": 77,
   "metadata": {},
   "outputs": [],
   "source": [
    "driver = webdriver.Chrome('./chromedriver_90')\n",
    "\n",
    "## https://www.amazon.com/\n",
    "url = 'https://www.amazon.com/I-Love-You-Through/dp/0439673631/ref=pd_bkstr_rtpb_11?_encoding=UTF8&pd_rd_i=0439673631&pd_rd_r=b6408368-b4ad-4216-a355-4a9b5d3783ed&pd_rd_w=ctM06&pd_rd_wg=IqFxz&pf_rd_p=bde336d5-3a2a-4b7b-8e18-de1f4aaea610&pf_rd_r=65N1HJRRQHTWVKNBT9W6&psc=1&refRID=2XWPSHYF7973Q8W8T00B'\n",
    "driver.get(url)"
   ]
  },
  {
   "cell_type": "code",
   "execution_count": 81,
   "metadata": {},
   "outputs": [],
   "source": [
    "sel_rate = driver.find_element_by_xpath('//*[@id=\"acrCustomerReviewText\"]')\n",
    "sel_rate.click()"
   ]
  },
  {
   "cell_type": "code",
   "execution_count": 82,
   "metadata": {},
   "outputs": [],
   "source": [
    "sel_review = driver.find_element_by_xpath('//*[@id=\"cr-pagination-footer-0\"]/a')\n",
    "sel_review.click()"
   ]
  },
  {
   "cell_type": "markdown",
   "metadata": {},
   "source": [
    "## 리뷰 한 페이지 가져오기"
   ]
  },
  {
   "cell_type": "code",
   "execution_count": 84,
   "metadata": {},
   "outputs": [
    {
     "data": {
      "text/plain": [
       "<title>Amazon.com: Customer reviews: I Love You Through and Through (Caroline Jayne Church)</title>"
      ]
     },
     "execution_count": 84,
     "metadata": {},
     "output_type": "execute_result"
    }
   ],
   "source": [
    "page = driver.page_source\n",
    "soup = BeautifulSoup(page,'html.parser')\n",
    "soup.title"
   ]
  },
  {
   "cell_type": "code",
   "execution_count": 94,
   "metadata": {},
   "outputs": [
    {
     "name": "stdout",
     "output_type": "stream",
     "text": [
      "리뷰 개수 :  16\n",
      "4.9 out of 5 stars\n",
      "3.0 out of 5 stars\n",
      "['Amazon Customer', '2B4Elise', 'Amazon Customer', 'Noha Anous', '2B4Elise', 'Amazon Customer', 'R. P.', 'Sparky127', 'Amazon Customer', 'CK', 'Anne', 'Renata']\n",
      "['4.9 out of 5 stars', '5.0 out of 5 stars', '2.0 out of 5 stars', '5.0 out of 5 stars', '4.0 out of 5 stars', '4.0 out of 5 stars', '2.0 out of 5 stars', '5.0 out of 5 stars', '5.0 out of 5 stars', '5.0 out of 5 stars', '4.0 out of 5 stars', '4.0 out of 5 stars', '5.0 out of 5 stars', '5.0 out of 5 stars', '5.0 out of 5 stars', '3.0 out of 5 stars']\n",
      "['Reviewed in the United States on September 7, 2020', 'Reviewed in the United States on March 12, 2020', 'Reviewed in the United States on September 7, 2020', 'Reviewed in the United States on February 8, 2021', 'Reviewed in the United States on March 12, 2020', 'Reviewed in the United States on September 25, 2016', 'Reviewed in the United States on July 23, 2018', 'Reviewed in the United States on March 16, 2012', 'Reviewed in the United States on December 18, 2019', 'Reviewed in the United States on August 10, 2016', 'Reviewed in the United States on December 31, 2020', 'Reviewed in the United States on January 14, 2021']\n"
     ]
    }
   ],
   "source": [
    "all_r = soup.findAll(\"span\", class_=\"a-size-base review-text review-text-content\")\n",
    "all_p = soup.findAll(\"span\", class_=\"a-profile-name\")\n",
    "all_r = soup.findAll(\"span\", class_=\"a-icon-alt\")\n",
    "all_d = soup.findAll(\"span\", class_=\"a-size-base a-color-secondary review-date\")\n",
    "all_review = []\n",
    "all_profile = []\n",
    "all_rating = []\n",
    "all_date = []\n",
    "for one in all_r:\n",
    "    tmp = one.text\n",
    "    review = tmp.strip()\n",
    "    all_review.append(review)\n",
    "for two in all_p:\n",
    "    pro = two.text\n",
    "    profile = pro.strip()\n",
    "    all_profile.append(profile)\n",
    "for three in all_r:\n",
    "    rati = three.text\n",
    "    rating = rati.strip()\n",
    "    all_rating.append(rating)\n",
    "for four in all_d:\n",
    "    day = four.text\n",
    "    date = day.strip()\n",
    "    all_date.append(date)\n",
    "print(\"리뷰 개수 : \", len(all_review))\n",
    "print(all_review[0], all_review[-1], sep='\\n')\n",
    "print(all_profile)\n",
    "print(all_rating)\n",
    "print(all_date)"
   ]
  },
  {
   "cell_type": "markdown",
   "metadata": {},
   "source": [
    "### (실습)추가 정보 가져오기\n",
    " * 사용자 정보\n",
    " * 평점\n",
    " * 날짜"
   ]
  },
  {
   "cell_type": "markdown",
   "metadata": {},
   "source": [
    "### 사용자 추가"
   ]
  },
  {
   "cell_type": "code",
   "execution_count": 102,
   "metadata": {},
   "outputs": [
    {
     "data": {
      "text/plain": [
       "'Renata'"
      ]
     },
     "execution_count": 102,
     "metadata": {},
     "output_type": "execute_result"
    }
   ],
   "source": [
    "soup.findAll(\"span\", class_=\"a-profile-name\")[-1].text"
   ]
  },
  {
   "cell_type": "markdown",
   "metadata": {},
   "source": [
    "### 평점"
   ]
  },
  {
   "cell_type": "code",
   "execution_count": 101,
   "metadata": {},
   "outputs": [
    {
     "name": "stdout",
     "output_type": "stream",
     "text": [
      "5.0 out of 5 stars\n"
     ]
    },
    {
     "data": {
      "text/plain": [
       "'5'"
      ]
     },
     "execution_count": 101,
     "metadata": {},
     "output_type": "execute_result"
    }
   ],
   "source": [
    "all_r = soup.findAll(\"div\", class_=\"a-section celwidget\")\n",
    "tmp = all_r[0].find(\"span\", class_=\"a-icon-alt\").text\n",
    "print(tmp)\n",
    "rating = re.findall(\"\\d+\", tmp)\n",
    "rating[0]"
   ]
  },
  {
   "cell_type": "markdown",
   "metadata": {},
   "source": [
    "### 날짜"
   ]
  },
  {
   "cell_type": "code",
   "execution_count": 112,
   "metadata": {},
   "outputs": [
    {
     "data": {
      "text/plain": [
       "'September 7, 2020'"
      ]
     },
     "execution_count": 112,
     "metadata": {},
     "output_type": "execute_result"
    }
   ],
   "source": [
    "tmp = all_r[0].find(\"span\", class_=\"a-size-base a-color-secondary review-date\").text.split('on')[-1]\n",
    "tmp.strip()"
   ]
  },
  {
   "cell_type": "markdown",
   "metadata": {},
   "source": [
    "### 한 페이지의 정보 가져오기"
   ]
  },
  {
   "cell_type": "code",
   "execution_count": 130,
   "metadata": {},
   "outputs": [
    {
     "data": {
      "text/plain": [
       "[<div class=\"a-section celwidget\" data-csa-c-id=\"rt0s7u-v5lvo4-lyi1c8-3agrcb\" id=\"customer_review-RYPF37ZWJZK1T\"><div class=\"a-row a-spacing-mini\" data-hook=\"genome-widget\"><a class=\"a-profile\" data-a-size=\"small\" href=\"/gp/profile/amzn1.account.AG4QBUTK5WSZ5D5EQJLHSU7JDYTA/ref=cm_cr_getr_d_gw_btm?ie=UTF8\"><div aria-hidden=\"true\" class=\"a-profile-avatar-wrapper\"><div class=\"a-profile-avatar\"><img class=\"\" data-src=\"https://images-na.ssl-images-amazon.com/images/S/amazon-avatars-global/default._CR0,0,1024,1024_SX48_.png\" src=\"https://images-na.ssl-images-amazon.com/images/S/amazon-avatars-global/default._CR0,0,1024,1024_SX48_.png\"/><noscript><img src=\"https://images-na.ssl-images-amazon.com/images/S/amazon-avatars-global/default._CR0,0,1024,1024_SX48_.png\"/></noscript></div></div><div class=\"a-profile-content\"><span class=\"a-profile-name\">Bob</span></div></a></div><div class=\"a-row\"><a class=\"a-link-normal\" href=\"/gp/customer-reviews/RYPF37ZWJZK1T/ref=cm_cr_getr_d_rvw_ttl?ie=UTF8&amp;ASIN=0439673631\" title=\"5.0 out of 5 stars\"><i class=\"a-icon a-icon-star a-star-5 review-rating\" data-hook=\"review-star-rating\"><span class=\"a-icon-alt\">5.0 out of 5 stars</span></i></a><span class=\"a-letter-space\"></span><a class=\"a-size-base a-link-normal review-title a-color-base review-title-content a-text-bold\" data-hook=\"review-title\" href=\"/gp/customer-reviews/RYPF37ZWJZK1T/ref=cm_cr_getr_d_rvw_ttl?ie=UTF8&amp;ASIN=0439673631\">\n",
       " <span>very cute book</span>\n",
       " </a></div><span class=\"a-size-base a-color-secondary review-date\" data-hook=\"review-date\">Reviewed in the United States on June 7, 2020</span><div class=\"a-row a-spacing-mini review-data review-format-strip\"><span class=\"a-declarative\" data-action=\"reviews:filter-action:push-state\" data-reviews:filter-action:push-state=\"{}\"><a class=\"a-link-normal\" data-reftag=\"cm_cr_getr_d_rvw_rvwer\" data-reviews-state-param='{\"pageNumber\":\"1\",\"reviewerType\":\"avp_only_reviews\"}' href=\"/I-Love-You-Through/product-reviews/0439673631/ref=cm_cr_getr_d_rvw_rvwer?ie=UTF8&amp;reviewerType=avp_only_reviews&amp;pageSize=10\"><span class=\"a-size-mini a-color-state a-text-bold\" data-hook=\"avp-badge\">Verified Purchase</span></a></span></div><div class=\"a-row a-spacing-small review-data\"><span class=\"a-size-base review-text review-text-content\" data-hook=\"review-body\">\n",
       " <span>\n",
       "   We love this book\n",
       " </span>\n",
       " </span></div><div class=\"a-row review-comments comments-for-RYPF37ZWJZK1T\"><div aria-live=\"polite\" class=\"a-row a-expander-container a-expander-inline-container cr-vote-action-bar\" data-a-expander-name=\"review_comment_expander\" data-reftag=\"cm_cr_getr_d_cmt_opn\"><span class=\"cr-vote\" data-hook=\"review-voting-widget\">\n",
       " <div class=\"cr-helpful-button aok-float-left\">\n",
       " <span class=\"a-button a-button-base\" id=\"a-autoid-308\"><span class=\"a-button-inner\"><a class=\"a-button-text\" data-hook=\"vote-helpful-button\" href=\"https://www.amazon.com/ap/signin?openid.return_to=https%3A%2F%2Fwww.amazon.com%2FI-Love-You-Through%2Fproduct-reviews%2F0439673631%2Fref%3Dcm_cr_getr_d_vote_lft%3Fie%3DUTF8%26voteInstanceId%3DRYPF37ZWJZK1T%26voteValue%3D1%26reviewerType%3Dall_reviews%26pageSize%3D10%26csrfT%3DggwOFjmU2Ii%252BgwLEigSv6Z5%252B6sqySl1IuRZx7qQAAAABAAAAAGDQIx1yYXcAAAAA%252B4kUEk%252F7iMGR3xPcX6iU&amp;openid.identity=http%3A%2F%2Fspecs.openid.net%2Fauth%2F2.0%2Fidentifier_select&amp;openid.claimed_id=http%3A%2F%2Fspecs.openid.net%2Fauth%2F2.0%2Fidentifier_select&amp;openid.assoc_handle=usflex&amp;openid.mode=checkid_setup&amp;openid.ns=http%3A%2F%2Fspecs.openid.net%2Fauth%2F2.0\" id=\"a-autoid-308-announce\" role=\"button\"><div class=\"cr-helpful-text\">\n",
       "           Helpful</div>\n",
       " </a></span></span></div>\n",
       " </span><span class=\"cr-footer-line-height\">\n",
       " <span><i aria-label=\"|\" class=\"a-icon a-icon-text-separator\" role=\"img\"></i><span class=\"a-declarative\" data-action=\"cr-popup\" data-cr-popup='{\"width\":\"580\",\"title\":\"ReportAbuse\",\"url\":\"/hz/reviews-render/report-abuse?ie=UTF8&amp;voteDomain=Reviews&amp;ref=cm_cr_getr_d_rvw_hlp&amp;csrfT=ggwOFjmU2Ii%2BgwLEigSv6Z5%2B6sqySl1IuRZx7qQAAAABAAAAAGDQIx1yYXcAAAAA%2B4kUEk%2F7iMGR3xPcX6iU&amp;entityId=RYPF37ZWJZK1T&amp;sessionId=146-8445533-6202403\",\"height\":\"380\"}'><a class=\"a-size-base a-link-normal a-color-secondary report-abuse-link a-text-normal\" href=\"/hz/reviews-render/report-abuse?ie=UTF8&amp;voteDomain=Reviews&amp;ref=cm_cr_getr_d_rvw_hlp&amp;csrfT=ggwOFjmU2Ii%2BgwLEigSv6Z5%2B6sqySl1IuRZx7qQAAAABAAAAAGDQIx1yYXcAAAAA%2B4kUEk%2F7iMGR3xPcX6iU&amp;entityId=RYPF37ZWJZK1T&amp;sessionId=146-8445533-6202403\">Report abuse</a></span></span></span>\n",
       " <div aria-expanded=\"false\" class=\"a-expander-content a-spacing-top-base a-spacing-large a-expander-inline-content a-expander-inner\" style=\"display:none\"><div class=\"a-row a-spacing-mini review-comments-header aok-hidden\"><ul class=\"a-viewoptions-list a-viewoptions-section a-span12\">\n",
       " <div class=\"a-row a-spacing-none a-grid-vertical-align a-grid-center\"><div class=\"a-column a-span6\"><span class=\"a-size-base a-viewoptions-list-label\">Showing <span class=\"review-comment-count\">0</span> comments</span></div></div></ul>\n",
       " </div><div class=\"a-section a-spacing-extra-large a-spacing-top-medium a-text-center comment-load-error aok-hidden\"><div aria-live=\"assertive\" class=\"a-box a-alert a-alert-error cr-error\" role=\"alert\"><div class=\"a-box-inner a-alert-container\"><h4 class=\"a-alert-heading\">There was a problem loading comments right now. Please try again later.</h4><i class=\"a-icon a-icon-alert\"></i><div class=\"a-alert-content\"></div></div></div></div><div class=\"a-section a-spacing-none review-comments\"></div><div class=\"a-spinner-wrapper comment-loading aok-hidden a-spacing-top-medium a-spacing-extra-large\"><span class=\"a-spinner a-spinner-medium\"></span></div><hr aria-hidden=\"true\" class=\"a-spacing-none a-spacing-top-large a-divider-normal\"/></div></div></div></div>,\n",
       " <div class=\"a-section celwidget\" data-csa-c-id=\"q77l73-588umw-bhsgqz-qbyk0c\" id=\"customer_review-R2SXOQ30OSE2D1\"><div class=\"a-row a-spacing-mini\" data-hook=\"genome-widget\"><a class=\"a-profile\" data-a-size=\"small\" href=\"/gp/profile/amzn1.account.AETAQKH6VSBGMY6JYUJPZDWCO52Q/ref=cm_cr_getr_d_gw_btm?ie=UTF8\"><div aria-hidden=\"true\" class=\"a-profile-avatar-wrapper\"><div class=\"a-profile-avatar\"><img class=\"\" data-src=\"https://images-na.ssl-images-amazon.com/images/S/amazon-avatars-global/default._CR0,0,1024,1024_SX48_.png\" src=\"https://images-na.ssl-images-amazon.com/images/S/amazon-avatars-global/default._CR0,0,1024,1024_SX48_.png\"/><noscript><img src=\"https://images-na.ssl-images-amazon.com/images/S/amazon-avatars-global/default._CR0,0,1024,1024_SX48_.png\"/></noscript></div></div><div class=\"a-profile-content\"><span class=\"a-profile-name\">Staci</span></div></a></div><div class=\"a-row\"><a class=\"a-link-normal\" href=\"/gp/customer-reviews/R2SXOQ30OSE2D1/ref=cm_cr_getr_d_rvw_ttl?ie=UTF8&amp;ASIN=0439673631\" title=\"5.0 out of 5 stars\"><i class=\"a-icon a-icon-star a-star-5 review-rating\" data-hook=\"review-star-rating\"><span class=\"a-icon-alt\">5.0 out of 5 stars</span></i></a><span class=\"a-letter-space\"></span><a class=\"a-size-base a-link-normal review-title a-color-base review-title-content a-text-bold\" data-hook=\"review-title\" href=\"/gp/customer-reviews/R2SXOQ30OSE2D1/ref=cm_cr_getr_d_rvw_ttl?ie=UTF8&amp;ASIN=0439673631\">\n",
       " <span>Five Stars</span>\n",
       " </a></div><span class=\"a-size-base a-color-secondary review-date\" data-hook=\"review-date\">Reviewed in the United States on November 13, 2018</span><div class=\"a-row a-spacing-mini review-data review-format-strip\"><span class=\"a-declarative\" data-action=\"reviews:filter-action:push-state\" data-reviews:filter-action:push-state=\"{}\"><a class=\"a-link-normal\" data-reftag=\"cm_cr_getr_d_rvw_rvwer\" data-reviews-state-param='{\"pageNumber\":\"1\",\"reviewerType\":\"avp_only_reviews\"}' href=\"/I-Love-You-Through/product-reviews/0439673631/ref=cm_cr_getr_d_rvw_rvwer?ie=UTF8&amp;reviewerType=avp_only_reviews&amp;pageSize=10\"><span class=\"a-size-mini a-color-state a-text-bold\" data-hook=\"avp-badge\">Verified Purchase</span></a></span></div><div class=\"a-row a-spacing-small review-data\"><span class=\"a-size-base review-text review-text-content\" data-hook=\"review-body\">\n",
       " <span>\n",
       "   A favorite book. Product arrived on time and as expected.\n",
       " </span>\n",
       " </span></div><div class=\"a-row review-comments comments-for-R2SXOQ30OSE2D1\"><div aria-live=\"polite\" class=\"a-row a-expander-container a-expander-inline-container cr-vote-action-bar\" data-a-expander-name=\"review_comment_expander\" data-reftag=\"cm_cr_getr_d_cmt_opn\"><span class=\"cr-vote\" data-hook=\"review-voting-widget\">\n",
       " <div class=\"cr-helpful-button aok-float-left\">\n",
       " <span class=\"a-button a-button-base\" id=\"a-autoid-309\"><span class=\"a-button-inner\"><a class=\"a-button-text\" data-hook=\"vote-helpful-button\" href=\"https://www.amazon.com/ap/signin?openid.return_to=https%3A%2F%2Fwww.amazon.com%2FI-Love-You-Through%2Fproduct-reviews%2F0439673631%2Fref%3Dcm_cr_getr_d_vote_lft%3Fie%3DUTF8%26voteInstanceId%3DR2SXOQ30OSE2D1%26voteValue%3D1%26reviewerType%3Dall_reviews%26pageSize%3D10%26csrfT%3DggIYfkqFIyFM0mpG4gdGtBrFe%252Fu7fuM9pRsIJNkAAAABAAAAAGDQIx1yYXcAAAAA%252B4kUEk%252F7iMGR3xPcX6iU&amp;openid.identity=http%3A%2F%2Fspecs.openid.net%2Fauth%2F2.0%2Fidentifier_select&amp;openid.claimed_id=http%3A%2F%2Fspecs.openid.net%2Fauth%2F2.0%2Fidentifier_select&amp;openid.assoc_handle=usflex&amp;openid.mode=checkid_setup&amp;openid.ns=http%3A%2F%2Fspecs.openid.net%2Fauth%2F2.0\" id=\"a-autoid-309-announce\" role=\"button\"><div class=\"cr-helpful-text\">\n",
       "           Helpful</div>\n",
       " </a></span></span></div>\n",
       " </span><span class=\"cr-footer-line-height\">\n",
       " <span><i aria-label=\"|\" class=\"a-icon a-icon-text-separator\" role=\"img\"></i><span class=\"a-declarative\" data-action=\"cr-popup\" data-cr-popup='{\"width\":\"580\",\"title\":\"ReportAbuse\",\"url\":\"/hz/reviews-render/report-abuse?ie=UTF8&amp;voteDomain=Reviews&amp;ref=cm_cr_getr_d_rvw_hlp&amp;csrfT=ggIYfkqFIyFM0mpG4gdGtBrFe%2Fu7fuM9pRsIJNkAAAABAAAAAGDQIx1yYXcAAAAA%2B4kUEk%2F7iMGR3xPcX6iU&amp;entityId=R2SXOQ30OSE2D1&amp;sessionId=146-8445533-6202403\",\"height\":\"380\"}'><a class=\"a-size-base a-link-normal a-color-secondary report-abuse-link a-text-normal\" href=\"/hz/reviews-render/report-abuse?ie=UTF8&amp;voteDomain=Reviews&amp;ref=cm_cr_getr_d_rvw_hlp&amp;csrfT=ggIYfkqFIyFM0mpG4gdGtBrFe%2Fu7fuM9pRsIJNkAAAABAAAAAGDQIx1yYXcAAAAA%2B4kUEk%2F7iMGR3xPcX6iU&amp;entityId=R2SXOQ30OSE2D1&amp;sessionId=146-8445533-6202403\">Report abuse</a></span></span></span>\n",
       " <div aria-expanded=\"false\" class=\"a-expander-content a-spacing-top-base a-spacing-large a-expander-inline-content a-expander-inner\" style=\"display:none\"><div class=\"a-row a-spacing-mini review-comments-header aok-hidden\"><ul class=\"a-viewoptions-list a-viewoptions-section a-span12\">\n",
       " <div class=\"a-row a-spacing-none a-grid-vertical-align a-grid-center\"><div class=\"a-column a-span6\"><span class=\"a-size-base a-viewoptions-list-label\">Showing <span class=\"review-comment-count\">0</span> comments</span></div></div></ul>\n",
       " </div><div class=\"a-section a-spacing-extra-large a-spacing-top-medium a-text-center comment-load-error aok-hidden\"><div aria-live=\"assertive\" class=\"a-box a-alert a-alert-error cr-error\" role=\"alert\"><div class=\"a-box-inner a-alert-container\"><h4 class=\"a-alert-heading\">There was a problem loading comments right now. Please try again later.</h4><i class=\"a-icon a-icon-alert\"></i><div class=\"a-alert-content\"></div></div></div></div><div class=\"a-section a-spacing-none review-comments\"></div><div class=\"a-spinner-wrapper comment-loading aok-hidden a-spacing-top-medium a-spacing-extra-large\"><span class=\"a-spinner a-spinner-medium\"></span></div><hr aria-hidden=\"true\" class=\"a-spacing-none a-spacing-top-large a-divider-normal\"/></div></div></div></div>,\n",
       " <div class=\"a-section celwidget\" data-csa-c-id=\"54zlng-puxtds-skmw1a-hkuvaw\" id=\"customer_review-R2FPF7H7OTRYNF\"><div class=\"a-row a-spacing-mini\" data-hook=\"genome-widget\"><a class=\"a-profile\" data-a-size=\"small\" href=\"/gp/profile/amzn1.account.AG7ITVWO7LXELKTGUDJZMOA3UZOQ/ref=cm_cr_getr_d_gw_btm?ie=UTF8\"><div aria-hidden=\"true\" class=\"a-profile-avatar-wrapper\"><div class=\"a-profile-avatar\"><img class=\"\" data-src=\"https://images-na.ssl-images-amazon.com/images/S/amazon-avatars-global/default._CR0,0,1024,1024_SX48_.png\" src=\"https://images-na.ssl-images-amazon.com/images/S/amazon-avatars-global/default._CR0,0,1024,1024_SX48_.png\"/><noscript><img src=\"https://images-na.ssl-images-amazon.com/images/S/amazon-avatars-global/default._CR0,0,1024,1024_SX48_.png\"/></noscript></div></div><div class=\"a-profile-content\"><span class=\"a-profile-name\">D'Marco Paul Garrett</span></div></a></div><div class=\"a-row\"><a class=\"a-link-normal\" href=\"/gp/customer-reviews/R2FPF7H7OTRYNF/ref=cm_cr_getr_d_rvw_ttl?ie=UTF8&amp;ASIN=0439673631\" title=\"4.0 out of 5 stars\"><i class=\"a-icon a-icon-star a-star-4 review-rating\" data-hook=\"review-star-rating\"><span class=\"a-icon-alt\">4.0 out of 5 stars</span></i></a><span class=\"a-letter-space\"></span><a class=\"a-size-base a-link-normal review-title a-color-base review-title-content a-text-bold\" data-hook=\"review-title\" href=\"/gp/customer-reviews/R2FPF7H7OTRYNF/ref=cm_cr_getr_d_rvw_ttl?ie=UTF8&amp;ASIN=0439673631\">\n",
       " <span>It is not bad, but it does not look like the traditional ...</span>\n",
       " </a></div><span class=\"a-size-base a-color-secondary review-date\" data-hook=\"review-date\">Reviewed in the United States on May 19, 2015</span><div class=\"a-row a-spacing-mini review-data review-format-strip\"><span class=\"a-declarative\" data-action=\"reviews:filter-action:push-state\" data-reviews:filter-action:push-state=\"{}\"><a class=\"a-link-normal\" data-reftag=\"cm_cr_getr_d_rvw_rvwer\" data-reviews-state-param='{\"pageNumber\":\"1\",\"reviewerType\":\"avp_only_reviews\"}' href=\"/I-Love-You-Through/product-reviews/0439673631/ref=cm_cr_getr_d_rvw_rvwer?ie=UTF8&amp;reviewerType=avp_only_reviews&amp;pageSize=10\"><span class=\"a-size-mini a-color-state a-text-bold\" data-hook=\"avp-badge\">Verified Purchase</span></a></span></div><div class=\"a-row a-spacing-small review-data\"><span class=\"a-size-base review-text review-text-content\" data-hook=\"review-body\">\n",
       " <span>\n",
       "   Got the cardboard version and the cardboard is not very thick. The outside of the book is puffy plastic. It is not bad, but it does not look like the traditional cardboard books. Very nice artwork and decent story.\n",
       " </span>\n",
       " </span></div><div class=\"a-row review-comments comments-for-R2FPF7H7OTRYNF\"><div aria-live=\"polite\" class=\"a-row a-expander-container a-expander-inline-container cr-vote-action-bar\" data-a-expander-name=\"review_comment_expander\" data-reftag=\"cm_cr_getr_d_cmt_opn\"><span class=\"cr-vote\" data-hook=\"review-voting-widget\">\n",
       " <div class=\"a-row a-spacing-small\"><span class=\"a-size-base a-color-tertiary cr-vote-text\" data-hook=\"helpful-vote-statement\">One person found this helpful</span></div><div class=\"cr-helpful-button aok-float-left\">\n",
       " <span class=\"a-button a-button-base\" id=\"a-autoid-310\"><span class=\"a-button-inner\"><a class=\"a-button-text\" data-hook=\"vote-helpful-button\" href=\"https://www.amazon.com/ap/signin?openid.return_to=https%3A%2F%2Fwww.amazon.com%2FI-Love-You-Through%2Fproduct-reviews%2F0439673631%2Fref%3Dcm_cr_getr_d_vote_lft%3Fie%3DUTF8%26voteInstanceId%3DR2FPF7H7OTRYNF%26voteValue%3D1%26reviewerType%3Dall_reviews%26pageSize%3D10%26csrfT%3DgtcS9IjIdOiKZdZVU4JdVlSGFX5uX8fQOf7DVysAAAABAAAAAGDQIx1yYXcAAAAA%252B4kUEk%252F7iMGR3xPcX6iU&amp;openid.identity=http%3A%2F%2Fspecs.openid.net%2Fauth%2F2.0%2Fidentifier_select&amp;openid.claimed_id=http%3A%2F%2Fspecs.openid.net%2Fauth%2F2.0%2Fidentifier_select&amp;openid.assoc_handle=usflex&amp;openid.mode=checkid_setup&amp;openid.ns=http%3A%2F%2Fspecs.openid.net%2Fauth%2F2.0\" id=\"a-autoid-310-announce\" role=\"button\"><div class=\"cr-helpful-text\">\n",
       "           Helpful</div>\n",
       " </a></span></span></div>\n",
       " </span><span class=\"cr-footer-line-height\">\n",
       " <span><i aria-label=\"|\" class=\"a-icon a-icon-text-separator\" role=\"img\"></i><span class=\"a-declarative\" data-action=\"cr-popup\" data-cr-popup='{\"width\":\"580\",\"title\":\"ReportAbuse\",\"url\":\"/hz/reviews-render/report-abuse?ie=UTF8&amp;voteDomain=Reviews&amp;ref=cm_cr_getr_d_rvw_hlp&amp;csrfT=gtcS9IjIdOiKZdZVU4JdVlSGFX5uX8fQOf7DVysAAAABAAAAAGDQIx1yYXcAAAAA%2B4kUEk%2F7iMGR3xPcX6iU&amp;entityId=R2FPF7H7OTRYNF&amp;sessionId=146-8445533-6202403\",\"height\":\"380\"}'><a class=\"a-size-base a-link-normal a-color-secondary report-abuse-link a-text-normal\" href=\"/hz/reviews-render/report-abuse?ie=UTF8&amp;voteDomain=Reviews&amp;ref=cm_cr_getr_d_rvw_hlp&amp;csrfT=gtcS9IjIdOiKZdZVU4JdVlSGFX5uX8fQOf7DVysAAAABAAAAAGDQIx1yYXcAAAAA%2B4kUEk%2F7iMGR3xPcX6iU&amp;entityId=R2FPF7H7OTRYNF&amp;sessionId=146-8445533-6202403\">Report abuse</a></span></span></span>\n",
       " <div aria-expanded=\"false\" class=\"a-expander-content a-spacing-top-base a-spacing-large a-expander-inline-content a-expander-inner\" style=\"display:none\"><div class=\"a-row a-spacing-mini review-comments-header aok-hidden\"><ul class=\"a-viewoptions-list a-viewoptions-section a-span12\">\n",
       " <div class=\"a-row a-spacing-none a-grid-vertical-align a-grid-center\"><div class=\"a-column a-span6\"><span class=\"a-size-base a-viewoptions-list-label\">Showing <span class=\"review-comment-count\">0</span> comments</span></div></div></ul>\n",
       " </div><div class=\"a-section a-spacing-extra-large a-spacing-top-medium a-text-center comment-load-error aok-hidden\"><div aria-live=\"assertive\" class=\"a-box a-alert a-alert-error cr-error\" role=\"alert\"><div class=\"a-box-inner a-alert-container\"><h4 class=\"a-alert-heading\">There was a problem loading comments right now. Please try again later.</h4><i class=\"a-icon a-icon-alert\"></i><div class=\"a-alert-content\"></div></div></div></div><div class=\"a-section a-spacing-none review-comments\"></div><div class=\"a-spinner-wrapper comment-loading aok-hidden a-spacing-top-medium a-spacing-extra-large\"><span class=\"a-spinner a-spinner-medium\"></span></div><hr aria-hidden=\"true\" class=\"a-spacing-none a-spacing-top-large a-divider-normal\"/></div></div></div></div>,\n",
       " <div class=\"a-section celwidget\" data-csa-c-id=\"p5uufg-z4y4di-z9igjv-scq5o0\" id=\"customer_review-R1EDYBY181G7T5\"><div class=\"a-row a-spacing-mini\" data-hook=\"genome-widget\"><a class=\"a-profile\" data-a-size=\"small\" href=\"/gp/profile/amzn1.account.AHET7HTOMTVW7J5WEQ5RLXISN6BA/ref=cm_cr_getr_d_gw_btm?ie=UTF8\"><div aria-hidden=\"true\" class=\"a-profile-avatar-wrapper\"><div class=\"a-profile-avatar\"><img class=\"\" data-src=\"https://images-na.ssl-images-amazon.com/images/S/amazon-avatars-global/default._CR0,0,1024,1024_SX48_.png\" src=\"https://images-na.ssl-images-amazon.com/images/S/amazon-avatars-global/default._CR0,0,1024,1024_SX48_.png\"/><noscript><img src=\"https://images-na.ssl-images-amazon.com/images/S/amazon-avatars-global/default._CR0,0,1024,1024_SX48_.png\"/></noscript></div></div><div class=\"a-profile-content\"><span class=\"a-profile-name\">Daniel Jennings</span></div></a></div><div class=\"a-row\"><a class=\"a-link-normal\" href=\"/gp/customer-reviews/R1EDYBY181G7T5/ref=cm_cr_getr_d_rvw_ttl?ie=UTF8&amp;ASIN=0439673631\" title=\"5.0 out of 5 stars\"><i class=\"a-icon a-icon-star a-star-5 review-rating\" data-hook=\"review-star-rating\"><span class=\"a-icon-alt\">5.0 out of 5 stars</span></i></a><span class=\"a-letter-space\"></span><a class=\"a-size-base a-link-normal review-title a-color-base review-title-content a-text-bold\" data-hook=\"review-title\" href=\"/gp/customer-reviews/R1EDYBY181G7T5/ref=cm_cr_getr_d_rvw_ttl?ie=UTF8&amp;ASIN=0439673631\">\n",
       " <span>Great Book with Amazing Art</span>\n",
       " </a></div><span class=\"a-size-base a-color-secondary review-date\" data-hook=\"review-date\">Reviewed in the United States on October 1, 2014</span><div class=\"a-row a-spacing-mini review-data review-format-strip\"><span class=\"a-declarative\" data-action=\"reviews:filter-action:push-state\" data-reviews:filter-action:push-state=\"{}\"><a class=\"a-link-normal\" data-reftag=\"cm_cr_getr_d_rvw_rvwer\" data-reviews-state-param='{\"pageNumber\":\"1\",\"reviewerType\":\"avp_only_reviews\"}' href=\"/I-Love-You-Through/product-reviews/0439673631/ref=cm_cr_getr_d_rvw_rvwer?ie=UTF8&amp;reviewerType=avp_only_reviews&amp;pageSize=10\"><span class=\"a-size-mini a-color-state a-text-bold\" data-hook=\"avp-badge\">Verified Purchase</span></a></span></div><div class=\"a-row a-spacing-small review-data\"><span class=\"a-size-base review-text review-text-content\" data-hook=\"review-body\">\n",
       " <span>\n",
       "   This book is SO cute. I would recommend the Board book version to anyone. The cover is like a pillow, which kids will love. The story is short, but super sweet. Finally the art is adorable. I got this as a 3 years old gift, but even my mother loved it and didn't want to give it away.\n",
       " </span>\n",
       " </span></div><div class=\"a-row review-comments comments-for-R1EDYBY181G7T5\"><div aria-live=\"polite\" class=\"a-row a-expander-container a-expander-inline-container cr-vote-action-bar\" data-a-expander-name=\"review_comment_expander\" data-reftag=\"cm_cr_getr_d_cmt_opn\"><span class=\"cr-vote\" data-hook=\"review-voting-widget\">\n",
       " <div class=\"cr-helpful-button aok-float-left\">\n",
       " <span class=\"a-button a-button-base\" id=\"a-autoid-311\"><span class=\"a-button-inner\"><a class=\"a-button-text\" data-hook=\"vote-helpful-button\" href=\"https://www.amazon.com/ap/signin?openid.return_to=https%3A%2F%2Fwww.amazon.com%2FI-Love-You-Through%2Fproduct-reviews%2F0439673631%2Fref%3Dcm_cr_getr_d_vote_lft%3Fie%3DUTF8%26voteInstanceId%3DR1EDYBY181G7T5%26voteValue%3D1%26reviewerType%3Dall_reviews%26pageSize%3D10%26csrfT%3Dgj6G%252BdGNQXxs%252F8HYMXJlFUS604azEh5cteeiqaEAAAABAAAAAGDQIx1yYXcAAAAA%252B4kUEk%252F7iMGR3xPcX6iU&amp;openid.identity=http%3A%2F%2Fspecs.openid.net%2Fauth%2F2.0%2Fidentifier_select&amp;openid.claimed_id=http%3A%2F%2Fspecs.openid.net%2Fauth%2F2.0%2Fidentifier_select&amp;openid.assoc_handle=usflex&amp;openid.mode=checkid_setup&amp;openid.ns=http%3A%2F%2Fspecs.openid.net%2Fauth%2F2.0\" id=\"a-autoid-311-announce\" role=\"button\"><div class=\"cr-helpful-text\">\n",
       "           Helpful</div>\n",
       " </a></span></span></div>\n",
       " </span><span class=\"cr-footer-line-height\">\n",
       " <span><i aria-label=\"|\" class=\"a-icon a-icon-text-separator\" role=\"img\"></i><span class=\"a-declarative\" data-action=\"cr-popup\" data-cr-popup='{\"width\":\"580\",\"title\":\"ReportAbuse\",\"url\":\"/hz/reviews-render/report-abuse?ie=UTF8&amp;voteDomain=Reviews&amp;ref=cm_cr_getr_d_rvw_hlp&amp;csrfT=gj6G%2BdGNQXxs%2F8HYMXJlFUS604azEh5cteeiqaEAAAABAAAAAGDQIx1yYXcAAAAA%2B4kUEk%2F7iMGR3xPcX6iU&amp;entityId=R1EDYBY181G7T5&amp;sessionId=146-8445533-6202403\",\"height\":\"380\"}'><a class=\"a-size-base a-link-normal a-color-secondary report-abuse-link a-text-normal\" href=\"/hz/reviews-render/report-abuse?ie=UTF8&amp;voteDomain=Reviews&amp;ref=cm_cr_getr_d_rvw_hlp&amp;csrfT=gj6G%2BdGNQXxs%2F8HYMXJlFUS604azEh5cteeiqaEAAAABAAAAAGDQIx1yYXcAAAAA%2B4kUEk%2F7iMGR3xPcX6iU&amp;entityId=R1EDYBY181G7T5&amp;sessionId=146-8445533-6202403\">Report abuse</a></span></span></span>\n",
       " <div aria-expanded=\"false\" class=\"a-expander-content a-spacing-top-base a-spacing-large a-expander-inline-content a-expander-inner\" style=\"display:none\"><div class=\"a-row a-spacing-mini review-comments-header aok-hidden\"><ul class=\"a-viewoptions-list a-viewoptions-section a-span12\">\n",
       " <div class=\"a-row a-spacing-none a-grid-vertical-align a-grid-center\"><div class=\"a-column a-span6\"><span class=\"a-size-base a-viewoptions-list-label\">Showing <span class=\"review-comment-count\">0</span> comments</span></div></div></ul>\n",
       " </div><div class=\"a-section a-spacing-extra-large a-spacing-top-medium a-text-center comment-load-error aok-hidden\"><div aria-live=\"assertive\" class=\"a-box a-alert a-alert-error cr-error\" role=\"alert\"><div class=\"a-box-inner a-alert-container\"><h4 class=\"a-alert-heading\">There was a problem loading comments right now. Please try again later.</h4><i class=\"a-icon a-icon-alert\"></i><div class=\"a-alert-content\"></div></div></div></div><div class=\"a-section a-spacing-none review-comments\"></div><div class=\"a-spinner-wrapper comment-loading aok-hidden a-spacing-top-medium a-spacing-extra-large\"><span class=\"a-spinner a-spinner-medium\"></span></div><hr aria-hidden=\"true\" class=\"a-spacing-none a-spacing-top-large a-divider-normal\"/></div></div></div></div>,\n",
       " <div class=\"a-section celwidget\" data-csa-c-id=\"5ee89s-1cmmwh-sy7nk1-x66ng7\" id=\"customer_review-R1I7TOI2Y1X9Q7\"><div class=\"a-row a-spacing-mini\" data-hook=\"genome-widget\"><a class=\"a-profile\" data-a-size=\"small\" href=\"/gp/profile/amzn1.account.AGCAY7KHKMEJC4P4CM4TNCE2CNYQ/ref=cm_cr_getr_d_gw_btm?ie=UTF8\"><div aria-hidden=\"true\" class=\"a-profile-avatar-wrapper\"><div class=\"a-profile-avatar\"><img class=\"\" data-src=\"https://images-na.ssl-images-amazon.com/images/S/amazon-avatars/default._CR0,0,1024,1024_SX48_.png\" src=\"https://images-na.ssl-images-amazon.com/images/S/amazon-avatars/default._CR0,0,1024,1024_SX48_.png\"/><noscript><img src=\"https://images-na.ssl-images-amazon.com/images/S/amazon-avatars/default._CR0,0,1024,1024_SX48_.png\"/></noscript></div></div><div class=\"a-profile-content\"><span class=\"a-profile-name\">SV</span></div></a></div><div class=\"a-row\"><a class=\"a-link-normal\" href=\"/gp/customer-reviews/R1I7TOI2Y1X9Q7/ref=cm_cr_getr_d_rvw_ttl?ie=UTF8&amp;ASIN=0439673631\" title=\"5.0 out of 5 stars\"><i class=\"a-icon a-icon-star a-star-5 review-rating\" data-hook=\"review-star-rating\"><span class=\"a-icon-alt\">5.0 out of 5 stars</span></i></a><span class=\"a-letter-space\"></span><a class=\"a-size-base a-link-normal review-title a-color-base review-title-content a-text-bold\" data-hook=\"review-title\" href=\"/gp/customer-reviews/R1I7TOI2Y1X9Q7/ref=cm_cr_getr_d_rvw_ttl?ie=UTF8&amp;ASIN=0439673631\">\n",
       " <span>adorably sweet book</span>\n",
       " </a></div><span class=\"a-size-base a-color-secondary review-date\" data-hook=\"review-date\">Reviewed in the United States on January 31, 2015</span><div class=\"a-row a-spacing-mini review-data review-format-strip\"><span class=\"a-declarative\" data-action=\"reviews:filter-action:push-state\" data-reviews:filter-action:push-state=\"{}\"><a class=\"a-link-normal\" data-reftag=\"cm_cr_getr_d_rvw_rvwer\" data-reviews-state-param='{\"pageNumber\":\"1\",\"reviewerType\":\"avp_only_reviews\"}' href=\"/I-Love-You-Through/product-reviews/0439673631/ref=cm_cr_getr_d_rvw_rvwer?ie=UTF8&amp;reviewerType=avp_only_reviews&amp;pageSize=10\"><span class=\"a-size-mini a-color-state a-text-bold\" data-hook=\"avp-badge\">Verified Purchase</span></a></span></div><div class=\"a-row a-spacing-small review-data\"><span class=\"a-size-base review-text review-text-content\" data-hook=\"review-body\">\n",
       " <span>\n",
       "   I think this book is so cute and sweet.  I have given it as a gift to a few friends and family that are having (or are about to have) a baby boy.  I loved reading it to my little guy.  (The words work fine for girls too, but the illustrations are of a little boy.)\n",
       " </span>\n",
       " </span></div><div class=\"a-row review-comments comments-for-R1I7TOI2Y1X9Q7\"><div aria-live=\"polite\" class=\"a-row a-expander-container a-expander-inline-container cr-vote-action-bar\" data-a-expander-name=\"review_comment_expander\" data-reftag=\"cm_cr_getr_d_cmt_opn\"><span class=\"cr-vote\" data-hook=\"review-voting-widget\">\n",
       " <div class=\"cr-helpful-button aok-float-left\">\n",
       " <span class=\"a-button a-button-base\" id=\"a-autoid-312\"><span class=\"a-button-inner\"><a class=\"a-button-text\" data-hook=\"vote-helpful-button\" href=\"https://www.amazon.com/ap/signin?openid.return_to=https%3A%2F%2Fwww.amazon.com%2FI-Love-You-Through%2Fproduct-reviews%2F0439673631%2Fref%3Dcm_cr_getr_d_vote_lft%3Fie%3DUTF8%26voteInstanceId%3DR1I7TOI2Y1X9Q7%26voteValue%3D1%26reviewerType%3Dall_reviews%26pageSize%3D10%26csrfT%3DghDJYNReBQlHdg6WJV1wDazU5aoYdLsEE0yKL08AAAABAAAAAGDQIx1yYXcAAAAA%252B4kUEk%252F7iMGR3xPcX6iU&amp;openid.identity=http%3A%2F%2Fspecs.openid.net%2Fauth%2F2.0%2Fidentifier_select&amp;openid.claimed_id=http%3A%2F%2Fspecs.openid.net%2Fauth%2F2.0%2Fidentifier_select&amp;openid.assoc_handle=usflex&amp;openid.mode=checkid_setup&amp;openid.ns=http%3A%2F%2Fspecs.openid.net%2Fauth%2F2.0\" id=\"a-autoid-312-announce\" role=\"button\"><div class=\"cr-helpful-text\">\n",
       "           Helpful</div>\n",
       " </a></span></span></div>\n",
       " </span><span class=\"cr-footer-line-height\">\n",
       " <span><i aria-label=\"|\" class=\"a-icon a-icon-text-separator\" role=\"img\"></i><span class=\"a-declarative\" data-action=\"cr-popup\" data-cr-popup='{\"width\":\"580\",\"title\":\"ReportAbuse\",\"url\":\"/hz/reviews-render/report-abuse?ie=UTF8&amp;voteDomain=Reviews&amp;ref=cm_cr_getr_d_rvw_hlp&amp;csrfT=ghDJYNReBQlHdg6WJV1wDazU5aoYdLsEE0yKL08AAAABAAAAAGDQIx1yYXcAAAAA%2B4kUEk%2F7iMGR3xPcX6iU&amp;entityId=R1I7TOI2Y1X9Q7&amp;sessionId=146-8445533-6202403\",\"height\":\"380\"}'><a class=\"a-size-base a-link-normal a-color-secondary report-abuse-link a-text-normal\" href=\"/hz/reviews-render/report-abuse?ie=UTF8&amp;voteDomain=Reviews&amp;ref=cm_cr_getr_d_rvw_hlp&amp;csrfT=ghDJYNReBQlHdg6WJV1wDazU5aoYdLsEE0yKL08AAAABAAAAAGDQIx1yYXcAAAAA%2B4kUEk%2F7iMGR3xPcX6iU&amp;entityId=R1I7TOI2Y1X9Q7&amp;sessionId=146-8445533-6202403\">Report abuse</a></span></span></span>\n",
       " <div aria-expanded=\"false\" class=\"a-expander-content a-spacing-top-base a-spacing-large a-expander-inline-content a-expander-inner\" style=\"display:none\"><div class=\"a-row a-spacing-mini review-comments-header aok-hidden\"><ul class=\"a-viewoptions-list a-viewoptions-section a-span12\">\n",
       " <div class=\"a-row a-spacing-none a-grid-vertical-align a-grid-center\"><div class=\"a-column a-span6\"><span class=\"a-size-base a-viewoptions-list-label\">Showing <span class=\"review-comment-count\">0</span> comments</span></div></div></ul>\n",
       " </div><div class=\"a-section a-spacing-extra-large a-spacing-top-medium a-text-center comment-load-error aok-hidden\"><div aria-live=\"assertive\" class=\"a-box a-alert a-alert-error cr-error\" role=\"alert\"><div class=\"a-box-inner a-alert-container\"><h4 class=\"a-alert-heading\">There was a problem loading comments right now. Please try again later.</h4><i class=\"a-icon a-icon-alert\"></i><div class=\"a-alert-content\"></div></div></div></div><div class=\"a-section a-spacing-none review-comments\"></div><div class=\"a-spinner-wrapper comment-loading aok-hidden a-spacing-top-medium a-spacing-extra-large\"><span class=\"a-spinner a-spinner-medium\"></span></div><hr aria-hidden=\"true\" class=\"a-spacing-none a-spacing-top-large a-divider-normal\"/></div></div></div></div>,\n",
       " <div class=\"a-section celwidget\" data-csa-c-id=\"clz4ff-t5xsia-3l1ggg-magwpi\" id=\"customer_review-R1AZZYGAO9LN1V\"><div class=\"a-row a-spacing-mini\" data-hook=\"genome-widget\"><a class=\"a-profile\" data-a-size=\"small\" href=\"/gp/profile/amzn1.account.AFCUMZZDGQCNXR2663INQUBVAXEA/ref=cm_cr_getr_d_gw_btm?ie=UTF8\"><div aria-hidden=\"true\" class=\"a-profile-avatar-wrapper\"><div class=\"a-profile-avatar\"><img class=\"\" data-src=\"https://images-na.ssl-images-amazon.com/images/S/amazon-avatars-global/default._CR0,0,1024,1024_SX48_.png\" src=\"https://images-na.ssl-images-amazon.com/images/S/amazon-avatars-global/default._CR0,0,1024,1024_SX48_.png\"/><noscript><img src=\"https://images-na.ssl-images-amazon.com/images/S/amazon-avatars-global/default._CR0,0,1024,1024_SX48_.png\"/></noscript></div></div><div class=\"a-profile-content\"><span class=\"a-profile-name\">Jenna and Corey</span></div></a></div><div class=\"a-row\"><a class=\"a-link-normal\" href=\"/gp/customer-reviews/R1AZZYGAO9LN1V/ref=cm_cr_getr_d_rvw_ttl?ie=UTF8&amp;ASIN=0439673631\" title=\"5.0 out of 5 stars\"><i class=\"a-icon a-icon-star a-star-5 review-rating\" data-hook=\"review-star-rating\"><span class=\"a-icon-alt\">5.0 out of 5 stars</span></i></a><span class=\"a-letter-space\"></span><a class=\"a-size-base a-link-normal review-title a-color-base review-title-content a-text-bold\" data-hook=\"review-title\" href=\"/gp/customer-reviews/R1AZZYGAO9LN1V/ref=cm_cr_getr_d_rvw_ttl?ie=UTF8&amp;ASIN=0439673631\">\n",
       " <span>Great for your little one or a gift for someone else's</span>\n",
       " </a></div><span class=\"a-size-base a-color-secondary review-date\" data-hook=\"review-date\">Reviewed in the United States on January 29, 2020</span><div class=\"a-row a-spacing-mini review-data review-format-strip\"><span class=\"a-declarative\" data-action=\"reviews:filter-action:push-state\" data-reviews:filter-action:push-state=\"{}\"><a class=\"a-link-normal\" data-reftag=\"cm_cr_getr_d_rvw_rvwer\" data-reviews-state-param='{\"pageNumber\":\"1\",\"reviewerType\":\"avp_only_reviews\"}' href=\"/I-Love-You-Through/product-reviews/0439673631/ref=cm_cr_getr_d_rvw_rvwer?ie=UTF8&amp;reviewerType=avp_only_reviews&amp;pageSize=10\"><span class=\"a-size-mini a-color-state a-text-bold\" data-hook=\"avp-badge\">Verified Purchase</span></a></span></div><div class=\"a-row a-spacing-small review-data\"><span class=\"a-size-base review-text review-text-content\" data-hook=\"review-body\">\n",
       " <span>\n",
       "   We love this book! Have one at home, copy is very worn from being read so often, bought this one for a gift. Love when the kids do what the page says! Great buy, highly recommend!\n",
       " </span>\n",
       " </span></div><div class=\"a-row review-comments comments-for-R1AZZYGAO9LN1V\"><div aria-live=\"polite\" class=\"a-row a-expander-container a-expander-inline-container cr-vote-action-bar\" data-a-expander-name=\"review_comment_expander\" data-reftag=\"cm_cr_getr_d_cmt_opn\"><span class=\"cr-vote\" data-hook=\"review-voting-widget\">\n",
       " <div class=\"cr-helpful-button aok-float-left\">\n",
       " <span class=\"a-button a-button-base\" id=\"a-autoid-313\"><span class=\"a-button-inner\"><a class=\"a-button-text\" data-hook=\"vote-helpful-button\" href=\"https://www.amazon.com/ap/signin?openid.return_to=https%3A%2F%2Fwww.amazon.com%2FI-Love-You-Through%2Fproduct-reviews%2F0439673631%2Fref%3Dcm_cr_getr_d_vote_lft%3Fie%3DUTF8%26voteInstanceId%3DR1AZZYGAO9LN1V%26voteValue%3D1%26reviewerType%3Dall_reviews%26pageSize%3D10%26csrfT%3Dgpi9z9StHscG%252FVjYgQ531ljnN2ylfnXOkxo9vaYAAAABAAAAAGDQIx1yYXcAAAAA%252B4kUEk%252F7iMGR3xPcX6iU&amp;openid.identity=http%3A%2F%2Fspecs.openid.net%2Fauth%2F2.0%2Fidentifier_select&amp;openid.claimed_id=http%3A%2F%2Fspecs.openid.net%2Fauth%2F2.0%2Fidentifier_select&amp;openid.assoc_handle=usflex&amp;openid.mode=checkid_setup&amp;openid.ns=http%3A%2F%2Fspecs.openid.net%2Fauth%2F2.0\" id=\"a-autoid-313-announce\" role=\"button\"><div class=\"cr-helpful-text\">\n",
       "           Helpful</div>\n",
       " </a></span></span></div>\n",
       " </span><span class=\"cr-footer-line-height\">\n",
       " <span><i aria-label=\"|\" class=\"a-icon a-icon-text-separator\" role=\"img\"></i><span class=\"a-declarative\" data-action=\"cr-popup\" data-cr-popup='{\"width\":\"580\",\"title\":\"ReportAbuse\",\"url\":\"/hz/reviews-render/report-abuse?ie=UTF8&amp;voteDomain=Reviews&amp;ref=cm_cr_getr_d_rvw_hlp&amp;csrfT=gpi9z9StHscG%2FVjYgQ531ljnN2ylfnXOkxo9vaYAAAABAAAAAGDQIx1yYXcAAAAA%2B4kUEk%2F7iMGR3xPcX6iU&amp;entityId=R1AZZYGAO9LN1V&amp;sessionId=146-8445533-6202403\",\"height\":\"380\"}'><a class=\"a-size-base a-link-normal a-color-secondary report-abuse-link a-text-normal\" href=\"/hz/reviews-render/report-abuse?ie=UTF8&amp;voteDomain=Reviews&amp;ref=cm_cr_getr_d_rvw_hlp&amp;csrfT=gpi9z9StHscG%2FVjYgQ531ljnN2ylfnXOkxo9vaYAAAABAAAAAGDQIx1yYXcAAAAA%2B4kUEk%2F7iMGR3xPcX6iU&amp;entityId=R1AZZYGAO9LN1V&amp;sessionId=146-8445533-6202403\">Report abuse</a></span></span></span>\n",
       " <div aria-expanded=\"false\" class=\"a-expander-content a-spacing-top-base a-spacing-large a-expander-inline-content a-expander-inner\" style=\"display:none\"><div class=\"a-row a-spacing-mini review-comments-header aok-hidden\"><ul class=\"a-viewoptions-list a-viewoptions-section a-span12\">\n",
       " <div class=\"a-row a-spacing-none a-grid-vertical-align a-grid-center\"><div class=\"a-column a-span6\"><span class=\"a-size-base a-viewoptions-list-label\">Showing <span class=\"review-comment-count\">0</span> comments</span></div></div></ul>\n",
       " </div><div class=\"a-section a-spacing-extra-large a-spacing-top-medium a-text-center comment-load-error aok-hidden\"><div aria-live=\"assertive\" class=\"a-box a-alert a-alert-error cr-error\" role=\"alert\"><div class=\"a-box-inner a-alert-container\"><h4 class=\"a-alert-heading\">There was a problem loading comments right now. Please try again later.</h4><i class=\"a-icon a-icon-alert\"></i><div class=\"a-alert-content\"></div></div></div></div><div class=\"a-section a-spacing-none review-comments\"></div><div class=\"a-spinner-wrapper comment-loading aok-hidden a-spacing-top-medium a-spacing-extra-large\"><span class=\"a-spinner a-spinner-medium\"></span></div><hr aria-hidden=\"true\" class=\"a-spacing-none a-spacing-top-large a-divider-normal\"/></div></div></div></div>,\n",
       " <div class=\"a-section celwidget\" data-csa-c-id=\"jx431r-xtpd1i-kovh7t-vwr3wg\" id=\"customer_review-R2RGMPPOOEP1JK\"><div class=\"a-row a-spacing-mini\" data-hook=\"genome-widget\"><a class=\"a-profile\" data-a-size=\"small\" href=\"/gp/profile/amzn1.account.AHB7AKURYITHKVYD2HTJPSIA4ALA/ref=cm_cr_getr_d_gw_btm?ie=UTF8\"><div aria-hidden=\"true\" class=\"a-profile-avatar-wrapper\"><div class=\"a-profile-avatar\"><img class=\"a-lazy-loaded\" data-src=\"https://images-na.ssl-images-amazon.com/images/S/amazon-avatars-global/default._CR0,0,1024,1024_SX48_.png\" src=\"https://images-na.ssl-images-amazon.com/images/G/01/x-locale/common/grey-pixel.gif\"/><noscript><img src=\"https://images-na.ssl-images-amazon.com/images/S/amazon-avatars-global/default._CR0,0,1024,1024_SX48_.png\"/></noscript></div></div><div class=\"a-profile-content\"><span class=\"a-profile-name\">Jackie Chipman</span></div></a></div><div class=\"a-row\"><a class=\"a-link-normal\" href=\"/gp/customer-reviews/R2RGMPPOOEP1JK/ref=cm_cr_getr_d_rvw_ttl?ie=UTF8&amp;ASIN=0439673631\" title=\"5.0 out of 5 stars\"><i class=\"a-icon a-icon-star a-star-5 review-rating\" data-hook=\"review-star-rating\"><span class=\"a-icon-alt\">5.0 out of 5 stars</span></i></a><span class=\"a-letter-space\"></span><a class=\"a-size-base a-link-normal review-title a-color-base review-title-content a-text-bold\" data-hook=\"review-title\" href=\"/gp/customer-reviews/R2RGMPPOOEP1JK/ref=cm_cr_getr_d_rvw_ttl?ie=UTF8&amp;ASIN=0439673631\">\n",
       " <span>for grandson</span>\n",
       " </a></div><span class=\"a-size-base a-color-secondary review-date\" data-hook=\"review-date\">Reviewed in the United States on December 21, 2018</span><div class=\"a-row a-spacing-mini review-data review-format-strip\"><span class=\"a-declarative\" data-action=\"reviews:filter-action:push-state\" data-reviews:filter-action:push-state=\"{}\"><a class=\"a-link-normal\" data-reftag=\"cm_cr_getr_d_rvw_rvwer\" data-reviews-state-param='{\"pageNumber\":\"1\",\"reviewerType\":\"avp_only_reviews\"}' href=\"/I-Love-You-Through/product-reviews/0439673631/ref=cm_cr_getr_d_rvw_rvwer?ie=UTF8&amp;reviewerType=avp_only_reviews&amp;pageSize=10\"><span class=\"a-size-mini a-color-state a-text-bold\" data-hook=\"avp-badge\">Verified Purchase</span></a></span></div><div class=\"a-row a-spacing-small review-data\"><span class=\"a-size-base review-text review-text-content\" data-hook=\"review-body\">\n",
       " <span>\n",
       "   for my grandson for Christmas, he is going to love it!\n",
       " </span>\n",
       " </span></div><div class=\"a-row review-comments comments-for-R2RGMPPOOEP1JK\"><div aria-live=\"polite\" class=\"a-row a-expander-container a-expander-inline-container cr-vote-action-bar\" data-a-expander-name=\"review_comment_expander\" data-reftag=\"cm_cr_getr_d_cmt_opn\"><span class=\"cr-vote\" data-hook=\"review-voting-widget\">\n",
       " <div class=\"cr-helpful-button aok-float-left\">\n",
       " <span class=\"a-button a-button-base\" id=\"a-autoid-314\"><span class=\"a-button-inner\"><a class=\"a-button-text\" data-hook=\"vote-helpful-button\" href=\"https://www.amazon.com/ap/signin?openid.return_to=https%3A%2F%2Fwww.amazon.com%2FI-Love-You-Through%2Fproduct-reviews%2F0439673631%2Fref%3Dcm_cr_getr_d_vote_lft%3Fie%3DUTF8%26voteInstanceId%3DR2RGMPPOOEP1JK%26voteValue%3D1%26reviewerType%3Dall_reviews%26pageSize%3D10%26csrfT%3Dgmc1NTCs06u8W0pHkwE%252Fn2XKn15uuARGGPHDP5kAAAABAAAAAGDQIx1yYXcAAAAA%252B4kUEk%252F7iMGR3xPcX6iU&amp;openid.identity=http%3A%2F%2Fspecs.openid.net%2Fauth%2F2.0%2Fidentifier_select&amp;openid.claimed_id=http%3A%2F%2Fspecs.openid.net%2Fauth%2F2.0%2Fidentifier_select&amp;openid.assoc_handle=usflex&amp;openid.mode=checkid_setup&amp;openid.ns=http%3A%2F%2Fspecs.openid.net%2Fauth%2F2.0\" id=\"a-autoid-314-announce\" role=\"button\"><div class=\"cr-helpful-text\">\n",
       "           Helpful</div>\n",
       " </a></span></span></div>\n",
       " </span><span class=\"cr-footer-line-height\">\n",
       " <span><i aria-label=\"|\" class=\"a-icon a-icon-text-separator\" role=\"img\"></i><span class=\"a-declarative\" data-action=\"cr-popup\" data-cr-popup='{\"width\":\"580\",\"title\":\"ReportAbuse\",\"url\":\"/hz/reviews-render/report-abuse?ie=UTF8&amp;voteDomain=Reviews&amp;ref=cm_cr_getr_d_rvw_hlp&amp;csrfT=gmc1NTCs06u8W0pHkwE%2Fn2XKn15uuARGGPHDP5kAAAABAAAAAGDQIx1yYXcAAAAA%2B4kUEk%2F7iMGR3xPcX6iU&amp;entityId=R2RGMPPOOEP1JK&amp;sessionId=146-8445533-6202403\",\"height\":\"380\"}'><a class=\"a-size-base a-link-normal a-color-secondary report-abuse-link a-text-normal\" href=\"/hz/reviews-render/report-abuse?ie=UTF8&amp;voteDomain=Reviews&amp;ref=cm_cr_getr_d_rvw_hlp&amp;csrfT=gmc1NTCs06u8W0pHkwE%2Fn2XKn15uuARGGPHDP5kAAAABAAAAAGDQIx1yYXcAAAAA%2B4kUEk%2F7iMGR3xPcX6iU&amp;entityId=R2RGMPPOOEP1JK&amp;sessionId=146-8445533-6202403\">Report abuse</a></span></span></span>\n",
       " <div aria-expanded=\"false\" class=\"a-expander-content a-spacing-top-base a-spacing-large a-expander-inline-content a-expander-inner\" style=\"display:none\"><div class=\"a-row a-spacing-mini review-comments-header aok-hidden\"><ul class=\"a-viewoptions-list a-viewoptions-section a-span12\">\n",
       " <div class=\"a-row a-spacing-none a-grid-vertical-align a-grid-center\"><div class=\"a-column a-span6\"><span class=\"a-size-base a-viewoptions-list-label\">Showing <span class=\"review-comment-count\">0</span> comments</span></div></div></ul>\n",
       " </div><div class=\"a-section a-spacing-extra-large a-spacing-top-medium a-text-center comment-load-error aok-hidden\"><div aria-live=\"assertive\" class=\"a-box a-alert a-alert-error cr-error\" role=\"alert\"><div class=\"a-box-inner a-alert-container\"><h4 class=\"a-alert-heading\">There was a problem loading comments right now. Please try again later.</h4><i class=\"a-icon a-icon-alert\"></i><div class=\"a-alert-content\"></div></div></div></div><div class=\"a-section a-spacing-none review-comments\"></div><div class=\"a-spinner-wrapper comment-loading aok-hidden a-spacing-top-medium a-spacing-extra-large\"><span class=\"a-spinner a-spinner-medium\"></span></div><hr aria-hidden=\"true\" class=\"a-spacing-none a-spacing-top-large a-divider-normal\"/></div></div></div></div>,\n",
       " <div class=\"a-section celwidget\" data-csa-c-id=\"lvzan4-78yji3-ud8znw-rdre8l\" id=\"customer_review-RVT7LNR6225TE\"><div class=\"a-row a-spacing-mini\" data-hook=\"genome-widget\"><a class=\"a-profile\" data-a-size=\"small\" href=\"/gp/profile/amzn1.account.AERZA2PMTCZCBSZAR6GATANJB3QA/ref=cm_cr_getr_d_gw_btm?ie=UTF8\"><div aria-hidden=\"true\" class=\"a-profile-avatar-wrapper\"><div class=\"a-profile-avatar\"><img class=\"a-lazy-loaded\" data-src=\"https://images-na.ssl-images-amazon.com/images/S/amazon-avatars-global/default._CR0,0,1024,1024_SX48_.png\" src=\"https://images-na.ssl-images-amazon.com/images/G/01/x-locale/common/grey-pixel.gif\"/><noscript><img src=\"https://images-na.ssl-images-amazon.com/images/S/amazon-avatars-global/default._CR0,0,1024,1024_SX48_.png\"/></noscript></div></div><div class=\"a-profile-content\"><span class=\"a-profile-name\">G. Elaine</span></div></a></div><div class=\"a-row\"><a class=\"a-link-normal\" href=\"/gp/customer-reviews/RVT7LNR6225TE/ref=cm_cr_getr_d_rvw_ttl?ie=UTF8&amp;ASIN=0439673631\" title=\"5.0 out of 5 stars\"><i class=\"a-icon a-icon-star a-star-5 review-rating\" data-hook=\"review-star-rating\"><span class=\"a-icon-alt\">5.0 out of 5 stars</span></i></a><span class=\"a-letter-space\"></span><a class=\"a-size-base a-link-normal review-title a-color-base review-title-content a-text-bold\" data-hook=\"review-title\" href=\"/gp/customer-reviews/RVT7LNR6225TE/ref=cm_cr_getr_d_rvw_ttl?ie=UTF8&amp;ASIN=0439673631\">\n",
       " <span>Excellent baby shower gift! Powerful and adorable message</span>\n",
       " </a></div><span class=\"a-size-base a-color-secondary review-date\" data-hook=\"review-date\">Reviewed in the United States on February 2, 2013</span><div class=\"a-row a-spacing-mini review-data review-format-strip\"><span class=\"a-declarative\" data-action=\"reviews:filter-action:push-state\" data-reviews:filter-action:push-state=\"{}\"><a class=\"a-link-normal\" data-reftag=\"cm_cr_getr_d_rvw_rvwer\" data-reviews-state-param='{\"pageNumber\":\"1\",\"reviewerType\":\"avp_only_reviews\"}' href=\"/I-Love-You-Through/product-reviews/0439673631/ref=cm_cr_getr_d_rvw_rvwer?ie=UTF8&amp;reviewerType=avp_only_reviews&amp;pageSize=10\"><span class=\"a-size-mini a-color-state a-text-bold\" data-hook=\"avp-badge\">Verified Purchase</span></a></span></div><div class=\"a-row a-spacing-small review-data\"><span class=\"a-size-base review-text review-text-content\" data-hook=\"review-body\">\n",
       " <span>\n",
       "   This book is very simple and short, but the message of unconditional love is a powerful one. Makes an excellent baby shower gift as expectant Moms I've encountered also enjoy reading it too as they wait to welcome their little ones.<br/>The simple graphics have good contrast and are good for attracting a little ones attention. The simple vocabulary are rhymes are also great for keeping a little ones attention as well.\n",
       " </span>\n",
       " </span></div><div class=\"a-row review-comments comments-for-RVT7LNR6225TE\"><div aria-live=\"polite\" class=\"a-row a-expander-container a-expander-inline-container cr-vote-action-bar\" data-a-expander-name=\"review_comment_expander\" data-reftag=\"cm_cr_getr_d_cmt_opn\"><span class=\"cr-vote\" data-hook=\"review-voting-widget\">\n",
       " <div class=\"cr-helpful-button aok-float-left\">\n",
       " <span class=\"a-button a-button-base\" id=\"a-autoid-315\"><span class=\"a-button-inner\"><a class=\"a-button-text\" data-hook=\"vote-helpful-button\" href=\"https://www.amazon.com/ap/signin?openid.return_to=https%3A%2F%2Fwww.amazon.com%2FI-Love-You-Through%2Fproduct-reviews%2F0439673631%2Fref%3Dcm_cr_getr_d_vote_lft%3Fie%3DUTF8%26voteInstanceId%3DRVT7LNR6225TE%26voteValue%3D1%26reviewerType%3Dall_reviews%26pageSize%3D10%26csrfT%3Dgvs9yE6DEgR8GO6XD3EufMRn7i8MzgTudjpt1DcAAAABAAAAAGDQIx1yYXcAAAAA%252B4kUEk%252F7iMGR3xPcX6iU&amp;openid.identity=http%3A%2F%2Fspecs.openid.net%2Fauth%2F2.0%2Fidentifier_select&amp;openid.claimed_id=http%3A%2F%2Fspecs.openid.net%2Fauth%2F2.0%2Fidentifier_select&amp;openid.assoc_handle=usflex&amp;openid.mode=checkid_setup&amp;openid.ns=http%3A%2F%2Fspecs.openid.net%2Fauth%2F2.0\" id=\"a-autoid-315-announce\" role=\"button\"><div class=\"cr-helpful-text\">\n",
       "           Helpful</div>\n",
       " </a></span></span></div>\n",
       " </span><span class=\"cr-footer-line-height\">\n",
       " <span><i aria-label=\"|\" class=\"a-icon a-icon-text-separator\" role=\"img\"></i><span class=\"a-declarative\" data-action=\"cr-popup\" data-cr-popup='{\"width\":\"580\",\"title\":\"ReportAbuse\",\"url\":\"/hz/reviews-render/report-abuse?ie=UTF8&amp;voteDomain=Reviews&amp;ref=cm_cr_getr_d_rvw_hlp&amp;csrfT=gvs9yE6DEgR8GO6XD3EufMRn7i8MzgTudjpt1DcAAAABAAAAAGDQIx1yYXcAAAAA%2B4kUEk%2F7iMGR3xPcX6iU&amp;entityId=RVT7LNR6225TE&amp;sessionId=146-8445533-6202403\",\"height\":\"380\"}'><a class=\"a-size-base a-link-normal a-color-secondary report-abuse-link a-text-normal\" href=\"/hz/reviews-render/report-abuse?ie=UTF8&amp;voteDomain=Reviews&amp;ref=cm_cr_getr_d_rvw_hlp&amp;csrfT=gvs9yE6DEgR8GO6XD3EufMRn7i8MzgTudjpt1DcAAAABAAAAAGDQIx1yYXcAAAAA%2B4kUEk%2F7iMGR3xPcX6iU&amp;entityId=RVT7LNR6225TE&amp;sessionId=146-8445533-6202403\">Report abuse</a></span></span></span>\n",
       " <div aria-expanded=\"false\" class=\"a-expander-content a-spacing-top-base a-spacing-large a-expander-inline-content a-expander-inner\" style=\"display:none\"><div class=\"a-row a-spacing-mini review-comments-header aok-hidden\"><ul class=\"a-viewoptions-list a-viewoptions-section a-span12\">\n",
       " <div class=\"a-row a-spacing-none a-grid-vertical-align a-grid-center\"><div class=\"a-column a-span6\"><span class=\"a-size-base a-viewoptions-list-label\">Showing <span class=\"review-comment-count\">0</span> comments</span></div></div></ul>\n",
       " </div><div class=\"a-section a-spacing-extra-large a-spacing-top-medium a-text-center comment-load-error aok-hidden\"><div aria-live=\"assertive\" class=\"a-box a-alert a-alert-error cr-error\" role=\"alert\"><div class=\"a-box-inner a-alert-container\"><h4 class=\"a-alert-heading\">There was a problem loading comments right now. Please try again later.</h4><i class=\"a-icon a-icon-alert\"></i><div class=\"a-alert-content\"></div></div></div></div><div class=\"a-section a-spacing-none review-comments\"></div><div class=\"a-spinner-wrapper comment-loading aok-hidden a-spacing-top-medium a-spacing-extra-large\"><span class=\"a-spinner a-spinner-medium\"></span></div><hr aria-hidden=\"true\" class=\"a-spacing-none a-spacing-top-large a-divider-normal\"/></div></div></div></div>,\n",
       " <div class=\"a-section celwidget\" data-csa-c-id=\"4r1ybl-2xo8nd-o15opx-fi5549\" id=\"customer_review-R1RIQQ1IFW8ZN2\"><div class=\"a-row a-spacing-mini\" data-hook=\"genome-widget\"><a class=\"a-profile\" data-a-size=\"small\" href=\"/gp/profile/amzn1.account.AGEMWM62G2EBP3HGV3PKT3VXZIZA/ref=cm_cr_getr_d_gw_btm?ie=UTF8\"><div aria-hidden=\"true\" class=\"a-profile-avatar-wrapper\"><div class=\"a-profile-avatar\"><img class=\"a-lazy-loaded\" data-src=\"https://images-na.ssl-images-amazon.com/images/S/amazon-avatars-global/default._CR0,0,1024,1024_SX48_.png\" src=\"https://images-na.ssl-images-amazon.com/images/G/01/x-locale/common/grey-pixel.gif\"/><noscript><img src=\"https://images-na.ssl-images-amazon.com/images/S/amazon-avatars-global/default._CR0,0,1024,1024_SX48_.png\"/></noscript></div></div><div class=\"a-profile-content\"><span class=\"a-profile-name\">Amazon Customer</span></div></a></div><div class=\"a-row\"><a class=\"a-link-normal\" href=\"/gp/customer-reviews/R1RIQQ1IFW8ZN2/ref=cm_cr_getr_d_rvw_ttl?ie=UTF8&amp;ASIN=0439673631\" title=\"5.0 out of 5 stars\"><i class=\"a-icon a-icon-star a-star-5 review-rating\" data-hook=\"review-star-rating\"><span class=\"a-icon-alt\">5.0 out of 5 stars</span></i></a><span class=\"a-letter-space\"></span><a class=\"a-size-base a-link-normal review-title a-color-base review-title-content a-text-bold\" data-hook=\"review-title\" href=\"/gp/customer-reviews/R1RIQQ1IFW8ZN2/ref=cm_cr_getr_d_rvw_ttl?ie=UTF8&amp;ASIN=0439673631\">\n",
       " <span>Sweet book</span>\n",
       " </a></div><span class=\"a-size-base a-color-secondary review-date\" data-hook=\"review-date\">Reviewed in the United States on June 2, 2021</span><div class=\"a-row a-spacing-mini review-data review-format-strip\"><span class=\"a-declarative\" data-action=\"reviews:filter-action:push-state\" data-reviews:filter-action:push-state=\"{}\"><a class=\"a-link-normal\" data-reftag=\"cm_cr_getr_d_rvw_rvwer\" data-reviews-state-param='{\"pageNumber\":\"1\",\"reviewerType\":\"avp_only_reviews\"}' href=\"/I-Love-You-Through/product-reviews/0439673631/ref=cm_cr_getr_d_rvw_rvwer?ie=UTF8&amp;reviewerType=avp_only_reviews&amp;pageSize=10\"><span class=\"a-size-mini a-color-state a-text-bold\" data-hook=\"avp-badge\">Verified Purchase</span></a></span></div><div class=\"a-row a-spacing-small review-data\"><span class=\"a-size-base review-text review-text-content\" data-hook=\"review-body\">\n",
       " <span>\n",
       "   This is such a sweet book. I bought this for my nieces baby. I read this to my son from birth to about 4 years old.\n",
       " </span>\n",
       " </span></div><div class=\"a-row review-comments comments-for-R1RIQQ1IFW8ZN2\"><div aria-live=\"polite\" class=\"a-row a-expander-container a-expander-inline-container cr-vote-action-bar\" data-a-expander-name=\"review_comment_expander\" data-reftag=\"cm_cr_getr_d_cmt_opn\"><span class=\"cr-vote\" data-hook=\"review-voting-widget\">\n",
       " <div class=\"cr-helpful-button aok-float-left\">\n",
       " <span class=\"a-button a-button-base\" id=\"a-autoid-316\"><span class=\"a-button-inner\"><a class=\"a-button-text\" data-hook=\"vote-helpful-button\" href=\"https://www.amazon.com/ap/signin?openid.return_to=https%3A%2F%2Fwww.amazon.com%2FI-Love-You-Through%2Fproduct-reviews%2F0439673631%2Fref%3Dcm_cr_getr_d_vote_lft%3Fie%3DUTF8%26voteInstanceId%3DR1RIQQ1IFW8ZN2%26voteValue%3D1%26reviewerType%3Dall_reviews%26pageSize%3D10%26csrfT%3DgtKl7urgig31bimOzKf2lQvv7pMuYANIYlE%252F14EAAAABAAAAAGDQIx1yYXcAAAAA%252B4kUEk%252F7iMGR3xPcX6iU&amp;openid.identity=http%3A%2F%2Fspecs.openid.net%2Fauth%2F2.0%2Fidentifier_select&amp;openid.claimed_id=http%3A%2F%2Fspecs.openid.net%2Fauth%2F2.0%2Fidentifier_select&amp;openid.assoc_handle=usflex&amp;openid.mode=checkid_setup&amp;openid.ns=http%3A%2F%2Fspecs.openid.net%2Fauth%2F2.0\" id=\"a-autoid-316-announce\" role=\"button\"><div class=\"cr-helpful-text\">\n",
       "           Helpful</div>\n",
       " </a></span></span></div>\n",
       " </span><span class=\"cr-footer-line-height\">\n",
       " <span><i aria-label=\"|\" class=\"a-icon a-icon-text-separator\" role=\"img\"></i><span class=\"a-declarative\" data-action=\"cr-popup\" data-cr-popup='{\"width\":\"580\",\"title\":\"ReportAbuse\",\"url\":\"/hz/reviews-render/report-abuse?ie=UTF8&amp;voteDomain=Reviews&amp;ref=cm_cr_getr_d_rvw_hlp&amp;csrfT=gtKl7urgig31bimOzKf2lQvv7pMuYANIYlE%2F14EAAAABAAAAAGDQIx1yYXcAAAAA%2B4kUEk%2F7iMGR3xPcX6iU&amp;entityId=R1RIQQ1IFW8ZN2&amp;sessionId=146-8445533-6202403\",\"height\":\"380\"}'><a class=\"a-size-base a-link-normal a-color-secondary report-abuse-link a-text-normal\" href=\"/hz/reviews-render/report-abuse?ie=UTF8&amp;voteDomain=Reviews&amp;ref=cm_cr_getr_d_rvw_hlp&amp;csrfT=gtKl7urgig31bimOzKf2lQvv7pMuYANIYlE%2F14EAAAABAAAAAGDQIx1yYXcAAAAA%2B4kUEk%2F7iMGR3xPcX6iU&amp;entityId=R1RIQQ1IFW8ZN2&amp;sessionId=146-8445533-6202403\">Report abuse</a></span></span></span>\n",
       " <div aria-expanded=\"false\" class=\"a-expander-content a-spacing-top-base a-spacing-large a-expander-inline-content a-expander-inner\" style=\"display:none\"><div class=\"a-row a-spacing-mini review-comments-header aok-hidden\"><ul class=\"a-viewoptions-list a-viewoptions-section a-span12\">\n",
       " <div class=\"a-row a-spacing-none a-grid-vertical-align a-grid-center\"><div class=\"a-column a-span6\"><span class=\"a-size-base a-viewoptions-list-label\">Showing <span class=\"review-comment-count\">0</span> comments</span></div></div></ul>\n",
       " </div><div class=\"a-section a-spacing-extra-large a-spacing-top-medium a-text-center comment-load-error aok-hidden\"><div aria-live=\"assertive\" class=\"a-box a-alert a-alert-error cr-error\" role=\"alert\"><div class=\"a-box-inner a-alert-container\"><h4 class=\"a-alert-heading\">There was a problem loading comments right now. Please try again later.</h4><i class=\"a-icon a-icon-alert\"></i><div class=\"a-alert-content\"></div></div></div></div><div class=\"a-section a-spacing-none review-comments\"></div><div class=\"a-spinner-wrapper comment-loading aok-hidden a-spacing-top-medium a-spacing-extra-large\"><span class=\"a-spinner a-spinner-medium\"></span></div><hr aria-hidden=\"true\" class=\"a-spacing-none a-spacing-top-large a-divider-normal\"/></div></div></div></div>,\n",
       " <div class=\"a-section celwidget\" data-csa-c-id=\"3x0g7y-yfsdo0-64t87e-xctmmz\" id=\"customer_review-R3RATKIT3MJAVA\"><div class=\"a-row a-spacing-mini\" data-hook=\"genome-widget\"><a class=\"a-profile\" data-a-size=\"small\" href=\"/gp/profile/amzn1.account.AHZFED5S3XY76DQQQK6MYUURPAWQ/ref=cm_cr_getr_d_gw_btm?ie=UTF8\"><div aria-hidden=\"true\" class=\"a-profile-avatar-wrapper\"><div class=\"a-profile-avatar\"><img class=\"a-lazy-loaded\" data-src=\"https://images-na.ssl-images-amazon.com/images/S/amazon-avatars-global/default._CR0,0,1024,1024_SX48_.png\" src=\"https://images-na.ssl-images-amazon.com/images/G/01/x-locale/common/grey-pixel.gif\"/><noscript><img src=\"https://images-na.ssl-images-amazon.com/images/S/amazon-avatars-global/default._CR0,0,1024,1024_SX48_.png\"/></noscript></div></div><div class=\"a-profile-content\"><span class=\"a-profile-name\">Wanderer</span></div></a></div><div class=\"a-row\"><a class=\"a-link-normal\" href=\"/gp/customer-reviews/R3RATKIT3MJAVA/ref=cm_cr_getr_d_rvw_ttl?ie=UTF8&amp;ASIN=0439673631\" title=\"5.0 out of 5 stars\"><i class=\"a-icon a-icon-star a-star-5 review-rating\" data-hook=\"review-star-rating\"><span class=\"a-icon-alt\">5.0 out of 5 stars</span></i></a><span class=\"a-letter-space\"></span><a class=\"a-size-base a-link-normal review-title a-color-base review-title-content a-text-bold\" data-hook=\"review-title\" href=\"/gp/customer-reviews/R3RATKIT3MJAVA/ref=cm_cr_getr_d_rvw_ttl?ie=UTF8&amp;ASIN=0439673631\">\n",
       " <span>Appealing little book</span>\n",
       " </a></div><span class=\"a-size-base a-color-secondary review-date\" data-hook=\"review-date\">Reviewed in the United States on June 28, 2016</span><div class=\"a-row a-spacing-mini review-data review-format-strip\"><span class=\"a-declarative\" data-action=\"reviews:filter-action:push-state\" data-reviews:filter-action:push-state=\"{}\"><a class=\"a-link-normal\" data-reftag=\"cm_cr_getr_d_rvw_rvwer\" data-reviews-state-param='{\"pageNumber\":\"1\",\"reviewerType\":\"avp_only_reviews\"}' href=\"/I-Love-You-Through/product-reviews/0439673631/ref=cm_cr_getr_d_rvw_rvwer?ie=UTF8&amp;reviewerType=avp_only_reviews&amp;pageSize=10\"><span class=\"a-size-mini a-color-state a-text-bold\" data-hook=\"avp-badge\">Verified Purchase</span></a></span></div><div class=\"a-row a-spacing-small review-data\"><span class=\"a-size-base review-text review-text-content\" data-hook=\"review-body\">\n",
       " <span>\n",
       "   Simple pictures and sweet thoughts.  The book was particularly appealing to my 5 month old grandson who would spend a lot of time listening to it over and over.  He looked very pleased as each new page appeared.\n",
       " </span>\n",
       " </span></div><div class=\"a-row review-comments comments-for-R3RATKIT3MJAVA\"><div aria-live=\"polite\" class=\"a-row a-expander-container a-expander-inline-container cr-vote-action-bar\" data-a-expander-name=\"review_comment_expander\" data-reftag=\"cm_cr_getr_d_cmt_opn\"><span class=\"cr-vote\" data-hook=\"review-voting-widget\">\n",
       " <div class=\"cr-helpful-button aok-float-left\">\n",
       " <span class=\"a-button a-button-base\" id=\"a-autoid-317\"><span class=\"a-button-inner\"><a class=\"a-button-text\" data-hook=\"vote-helpful-button\" href=\"https://www.amazon.com/ap/signin?openid.return_to=https%3A%2F%2Fwww.amazon.com%2FI-Love-You-Through%2Fproduct-reviews%2F0439673631%2Fref%3Dcm_cr_getr_d_vote_lft%3Fie%3DUTF8%26voteInstanceId%3DR3RATKIT3MJAVA%26voteValue%3D1%26reviewerType%3Dall_reviews%26pageSize%3D10%26csrfT%3Dgu6utdkkNKkHNqDbIf9Y0CbmAz50ffXDIIVOQx0AAAABAAAAAGDQIx1yYXcAAAAA%252B4kUEk%252F7iMGR3xPcX6iU&amp;openid.identity=http%3A%2F%2Fspecs.openid.net%2Fauth%2F2.0%2Fidentifier_select&amp;openid.claimed_id=http%3A%2F%2Fspecs.openid.net%2Fauth%2F2.0%2Fidentifier_select&amp;openid.assoc_handle=usflex&amp;openid.mode=checkid_setup&amp;openid.ns=http%3A%2F%2Fspecs.openid.net%2Fauth%2F2.0\" id=\"a-autoid-317-announce\" role=\"button\"><div class=\"cr-helpful-text\">\n",
       "           Helpful</div>\n",
       " </a></span></span></div>\n",
       " </span><span class=\"cr-footer-line-height\">\n",
       " <span><i aria-label=\"|\" class=\"a-icon a-icon-text-separator\" role=\"img\"></i><span class=\"a-declarative\" data-action=\"cr-popup\" data-cr-popup='{\"width\":\"580\",\"title\":\"ReportAbuse\",\"url\":\"/hz/reviews-render/report-abuse?ie=UTF8&amp;voteDomain=Reviews&amp;ref=cm_cr_getr_d_rvw_hlp&amp;csrfT=gu6utdkkNKkHNqDbIf9Y0CbmAz50ffXDIIVOQx0AAAABAAAAAGDQIx1yYXcAAAAA%2B4kUEk%2F7iMGR3xPcX6iU&amp;entityId=R3RATKIT3MJAVA&amp;sessionId=146-8445533-6202403\",\"height\":\"380\"}'><a class=\"a-size-base a-link-normal a-color-secondary report-abuse-link a-text-normal\" href=\"/hz/reviews-render/report-abuse?ie=UTF8&amp;voteDomain=Reviews&amp;ref=cm_cr_getr_d_rvw_hlp&amp;csrfT=gu6utdkkNKkHNqDbIf9Y0CbmAz50ffXDIIVOQx0AAAABAAAAAGDQIx1yYXcAAAAA%2B4kUEk%2F7iMGR3xPcX6iU&amp;entityId=R3RATKIT3MJAVA&amp;sessionId=146-8445533-6202403\">Report abuse</a></span></span></span>\n",
       " <div aria-expanded=\"false\" class=\"a-expander-content a-spacing-top-base a-spacing-large a-expander-inline-content a-expander-inner\" style=\"display:none\"><div class=\"a-row a-spacing-mini review-comments-header aok-hidden\"><ul class=\"a-viewoptions-list a-viewoptions-section a-span12\">\n",
       " <div class=\"a-row a-spacing-none a-grid-vertical-align a-grid-center\"><div class=\"a-column a-span6\"><span class=\"a-size-base a-viewoptions-list-label\">Showing <span class=\"review-comment-count\">0</span> comments</span></div></div></ul>\n",
       " </div><div class=\"a-section a-spacing-extra-large a-spacing-top-medium a-text-center comment-load-error aok-hidden\"><div aria-live=\"assertive\" class=\"a-box a-alert a-alert-error cr-error\" role=\"alert\"><div class=\"a-box-inner a-alert-container\"><h4 class=\"a-alert-heading\">There was a problem loading comments right now. Please try again later.</h4><i class=\"a-icon a-icon-alert\"></i><div class=\"a-alert-content\"></div></div></div></div><div class=\"a-section a-spacing-none review-comments\"></div><div class=\"a-spinner-wrapper comment-loading aok-hidden a-spacing-top-medium a-spacing-extra-large\"><span class=\"a-spinner a-spinner-medium\"></span></div><hr aria-hidden=\"true\" class=\"a-spacing-none a-spacing-top-large a-divider-normal\"/></div></div></div></div>]"
      ]
     },
     "execution_count": 130,
     "metadata": {},
     "output_type": "execute_result"
    }
   ],
   "source": [
    "all_r = soup.findAll(\"div\", class_=\"a-section celwidget\")\n",
    "\n",
    "all_user = []\n",
    "all_rating = []\n",
    "all_date = []\n",
    "all_region = []\n",
    "all_reviews = []\n",
    "all_helpful = []\n",
    "\n",
    "for one in all_r:\n",
    "    user_one = one.find(\"span\", class_=\"a-profile-name\").text\n",
    "    all_user.append(user_one)\n",
    "    rating_one = one.find(\"span\", class_=\"a-icon-alt\").text\n",
    "    nums = re.findall(\"\\d+\",rating_one)[0]\n",
    "    all_rating.append(nums)\n",
    "    date_one = one.find(\"span\", class_=\"a-size-base a-color-secondary review-date\").text.split('on')[-1]\n",
    "    all_date.append(date_one.strip())\n",
    "    region_one = one.find(\"span\", class_=\"a-size-base a-color-secondary review-date\").text.split('on')[0]\n",
    "    all_region.append(region_one.strip())\n",
    "    review_one = one.find(\"span\", class_=\"a-size-base review-text review-text-content\").text\n",
    "    all_reviews.append(review_one.strip())\n",
    "    \n",
    "all_user[-1]\n",
    "all_r"
   ]
  },
  {
   "cell_type": "code",
   "execution_count": 124,
   "metadata": {},
   "outputs": [
    {
     "name": "stdout",
     "output_type": "stream",
     "text": [
      "user :  KAM1982 rating :  4\n",
      "review :  Perfect length before-bed book for an antsy toddler. Very sweet illustrations, and a sweet little rhyme to accompany them. Would have given 4 stars but it's not a very durable book-- it's a heavy card stock rather than a board book-- so it's more susceptible to rips, tears, and water (ie spittle) damage. Holding up so far-- a couple small tears-- but not sure how long it will last for.\n",
      "\n",
      "\n",
      "user :  Sheri rating :  5\n",
      "review :  Great message for kids to hear!\n",
      "\n",
      "\n",
      "user :  Agmaotro rating :  5\n",
      "review :  A perfect addition that will bring tears to your eyes as you read this to your littles\n",
      "\n",
      "\n",
      "user :  Tori Hughes rating :  5\n",
      "review :  One my favorites from this holiday season. My little boy loved finding the teddy bear on each page. I’ll also recommend the I Love you Through & Through book. We already had it and that’s the reason I purchased the Christmas edition.\n",
      "\n",
      "\n",
      "user :  Michelle W rating :  5\n",
      "review :  My kids loved this book, and I loved reading it to them! I purchased again for my new nephew to add to his book collection because we loved it so much.\n",
      "\n",
      "\n",
      "user :  Wanderer rating :  5\n",
      "review :  Simple pictures and sweet thoughts.  The book was particularly appealing to my 5 month old grandson who would spend a lot of time listening to it over and over.  He looked very pleased as each new page appeared.\n",
      "\n",
      "\n"
     ]
    }
   ],
   "source": [
    "\n",
    "all_user = []\n",
    "all_rating = []\n",
    "all_date = []\n",
    "all_region = []\n",
    "all_reviews = []\n",
    "\n",
    "for page in range(1, 7, 1):\n",
    "    time.sleep(3)\n",
    "    \n",
    "    page = driver.page_source\n",
    "    soup = BeautifulSoup(page,'html.parser')\n",
    "    all_r = soup.findAll(\"div\", class_=\"a-section celwidget\")\n",
    "    \n",
    "    for one in all_r:\n",
    "        user_one = one.find(\"span\", class_=\"a-profile-name\").text\n",
    "        all_user.append(user_one)\n",
    "    \n",
    "        rating_one = one.find(\"span\", class_=\"a-icon-alt\").text\n",
    "        nums = re.findall(\"\\d+\",rating_one)[0]\n",
    "        all_rating.append(nums)\n",
    "    \n",
    "        date_one = one.find(\"span\", class_=\"a-size-base a-color-secondary review-date\").text.split('on')[-1]\n",
    "        all_date.append(date_one.strip())\n",
    "    \n",
    "        region_one = one.find(\"span\", class_=\"a-size-base a-color-secondary review-date\").text.split('on')[0]\n",
    "        all_region.append(region_one.strip())\n",
    "    \n",
    "        review_one = one.find(\"span\", class_=\"a-size-base review-text review-text-content\").text\n",
    "        all_reviews.append(review_one.strip())\n",
    "    \n",
    "    print(\"user : \", all_user[-1], \"rating : \", all_rating[-1])\n",
    "    print(\"review : \", all_reviews[-1], end=\"\\n\\n\\n\")\n",
    "    \n",
    "    sel_next = driver.find_element_by_xpath('//*[@id=\"cm_cr-pagination_bar\"]/ul/li[2]/a')\n",
    "    sel_next.click()"
   ]
  },
  {
   "cell_type": "code",
   "execution_count": 126,
   "metadata": {},
   "outputs": [],
   "source": [
    "from selenium import webdriver\n",
    "from bs4 import BeautifulSoup\n",
    "driver = webdriver.Chrome('./chromedriver_90')\n",
    "url = 'https://www.amazon.com/'\n",
    "driver.get(url)\n",
    "sel_search = driver.find_element_by_xpath('//*[@id=\"twotabsearchtextbox\"]')\n",
    "sel_btn = driver.find_element_by_xpath('//*[@id=\"nav-search-submit-button\"]')\n",
    "sel_search.clear()\n",
    "sel_search.send_keys(\"keyboard\")\n",
    "sel_btn.click()\n"
   ]
  },
  {
   "cell_type": "code",
   "execution_count": 127,
   "metadata": {},
   "outputs": [],
   "source": [
    "sel_keyboard = driver.find_element_by_xpath('//*[@id=\"search\"]/div[1]/div/div[1]/div/span[3]/div[2]/div[5]/div/span/div/div/div[2]/div[2]/div/div[1]/h2/a')\n",
    "sel_keyboard.click()"
   ]
  },
  {
   "cell_type": "code",
   "execution_count": 128,
   "metadata": {},
   "outputs": [],
   "source": [
    "sel_ratings = driver.find_element_by_xpath('//*[@id=\"acrCustomerReviewLink\"]')\n",
    "sel_ratings.click()"
   ]
  },
  {
   "cell_type": "code",
   "execution_count": 129,
   "metadata": {},
   "outputs": [],
   "source": [
    "see_all = driver.find_element_by_xpath('//*[@id=\"cr-pagination-footer-0\"]/a')\n",
    "see_all.click()"
   ]
  },
  {
   "cell_type": "code",
   "execution_count": 131,
   "metadata": {},
   "outputs": [],
   "source": [
    "import requests as rq\n",
    "from bs4 import BeautifulSoup\n",
    "import lxml"
   ]
  },
  {
   "cell_type": "code",
   "execution_count": 132,
   "metadata": {},
   "outputs": [
    {
     "data": {
      "text/plain": [
       "'http://browse.auction.co.kr/search?keyword=여성의류&itemno=&nickname=&encKeyword=여성의류&arraycategory=&frm=&dom=auction&isSuggestion=No&retry='"
      ]
     },
     "execution_count": 132,
     "metadata": {},
     "output_type": "execute_result"
    }
   ],
   "source": [
    "#%% utf-8로 인코딩\n",
    "url = \"http://browse.auction.co.kr/search?keyword={}&itemno=&nickname=&encKeyword={}&arraycategory=&frm=&dom=auction&isSuggestion=No&retry=\".format(\"여성의류\", \"여성의류\")\n",
    "url"
   ]
  },
  {
   "cell_type": "code",
   "execution_count": 133,
   "metadata": {},
   "outputs": [
    {
     "name": "stdout",
     "output_type": "stream",
     "text": [
      "http://browse.auction.co.kr/search?keyword=%EC%97%AC%EC%84%B1%EC%9D%98%EB%A5%98&itemno=&nickname=&encKeyword=%EC%97%AC%EC%84%B1%EC%9D%98%EB%A5%98&arraycategory=&frm=&dom=auction&isSuggestion=No&retry=\n",
      "b'<!DOCTYPE html><html lang=\"ko\" class=\"\" data-reactroot=\"\"><head><meta charSet=\"utf-8\"/><meta name=\"theme-color\" content=\"#000000\"/><meta http-equiv=\"X-UA-Compatible\" content=\"IE=edge\"/><meta http-equiv=\"x-dns-prefetch-control\" content=\"on\"/><link rel=\"dns-prefetch\" href=\"//pics.auction.co.kr\"/><link rel=\"dns-prefetch\" href=\"//script.auction.co.kr\"/><link rel=\"dns-prefetch\" href=\"//image.auction.co'\n"
     ]
    }
   ],
   "source": [
    "res = rq.get(url)\n",
    "print( res.url)\n",
    "html = res.content\n",
    "print(html[0:400])\n",
    "soup = BeautifulSoup(html, 'lxml')"
   ]
  },
  {
   "cell_type": "code",
   "execution_count": 134,
   "metadata": {},
   "outputs": [
    {
     "name": "stdout",
     "output_type": "stream",
     "text": [
      "100\n"
     ]
    }
   ],
   "source": [
    "soup_item = soup.find_all(\"div\", class_=\"section--itemcard\")\n",
    "soup_item[1]\n",
    "num = len(soup_item)\n",
    "print( num )"
   ]
  },
  {
   "cell_type": "code",
   "execution_count": 135,
   "metadata": {},
   "outputs": [],
   "source": [
    "title = []\n",
    "price_sales = []\n",
    "price_ori = []\n",
    "company = []"
   ]
  },
  {
   "cell_type": "markdown",
   "metadata": {},
   "source": [
    "## 상품명"
   ]
  },
  {
   "cell_type": "code",
   "execution_count": 137,
   "metadata": {},
   "outputs": [
    {
     "name": "stdout",
     "output_type": "stream",
     "text": [
      "<span class=\"text--title\">다온샵 신상 15%쿠폰 빅사이즈/데님/슬랙스/반바지<!-- --> </span>\n",
      "<strong class=\"text--price_seller\">9,900</strong>\n",
      "<span class=\"text--title\">달리샵 여름신상 베스트 티셔츠/원피스/팬츠/스커트<!-- --> </span>\n",
      "<strong class=\"text--price_seller\">9,900</strong>\n",
      "<span class=\"text--title\">15%쿠폰/여름빅세일/2장이상구입시 팬티사은품/무배<!-- --> </span>\n",
      "<strong class=\"text--price_seller\">8,900</strong>\n",
      "<span class=\"text--title\">김여사봄신상 베스트 베이직 티셔츠/팬츠 균일가 20종<!-- --> </span>\n",
      "<strong class=\"text--price_seller\">16,050</strong>\n",
      "<span class=\"text--title\">16수 오버핏 남성 여성 반팔 무지 티셔츠 빅사이즈<!-- --> </span>\n",
      "<strong class=\"text--price_seller\">10,900</strong>\n",
      "<span class=\"text--title\">15%쿠폰 데이뮤즈 원피스/자켓/가디건/바지/블라우스<!-- --> </span>\n",
      "<strong class=\"text--price_seller\">9,900</strong>\n",
      "<span class=\"text--title\">달리샵 여름신상 빅사이즈 베스트 티셔츠/원피스/팬츠<!-- --> </span>\n",
      "<strong class=\"text--price_seller\">9,900</strong>\n",
      "<span class=\"text--title\">15%할인쿠폰 마르조 오나라pick 썸머 페스티벌~<!-- --> </span>\n",
      "<strong class=\"text--price_seller\">9,900</strong>\n",
      "<span class=\"text--title\">EnC 봄여름 블라우스/원피스/팬츠 외 최대25%쿠폰<!-- --> </span>\n",
      "<strong class=\"text--price_seller\">29,000</strong>\n",
      "<span class=\"text--title\">단아하고 여성스러운 플라워 자수 블라우스<!-- --> </span>\n",
      "<strong class=\"text--price_seller\">27,040</strong>\n",
      "<span class=\"text--title\">티탁 15%쿠폰 특가/세트/맨투맨/원피스/롱티셔츠<!-- --> </span>\n",
      "<strong class=\"text--price_seller\">9,900</strong>\n",
      "<span class=\"text--title\">여름 오픈특가 블라우스/원피스/티셔츠외<!-- --> </span>\n",
      "<strong class=\"text--price_seller\">9,900</strong>\n",
      "<span class=\"text--title\">전국민15%쿠폰 여름NEW 빅사이즈/롱원피스/데님/4XL~<!-- --> </span>\n",
      "<strong class=\"text--price_seller\">17,400</strong>\n",
      "<span class=\"text--title\"> 헬리꽁땡  로즈 원피스<!-- --> </span>\n",
      "<strong class=\"text--price_seller\">49,800</strong>\n",
      "<span class=\"text--title\">여름 최신 핫 트렌드 신상템 특가<!-- --> </span>\n",
      "<strong class=\"text--price_seller\">19,900</strong>\n",
      "<span class=\"text--title\">15%쿠폰/데이데이 여름신상 블라우스/원피스/팬츠<!-- --> </span>\n",
      "<strong class=\"text--price_seller\">9,900</strong>\n",
      "<span class=\"text--title\">패션페스타20% 여성 반팔티셔츠 여자 빅사이즈 티셔츠<!-- --> </span>\n",
      "<strong class=\"text--price_seller\">7,900</strong>\n",
      "<span class=\"text--title\">(색상 검정) 비비안 유발타아즈50D/여성용/숙녀/무지<!-- --> </span>\n",
      "<strong class=\"text--price_seller\">8,490</strong>\n",
      "<span class=\"text--title\">빅사이즈 라운드 골지 티셔츠 니트느낌 오버핏 5XL까지<!-- --> </span>\n",
      "<strong class=\"text--price_seller\">14,900</strong>\n",
      "<span class=\"text--title\"> TAG ME 태그미 플리츠 셋업 3종 세트<!-- --> </span>\n",
      "<strong class=\"text--price_seller\">38,900</strong>\n",
      "<span class=\"text--title\">15% 쿠폰/데이데이 여름신상 블라우스/티셔츠/원피스<!-- --> </span>\n",
      "<strong class=\"text--price_seller\">9,900</strong>\n",
      "<span class=\"text--title\">드고떼 코튼 100 티블라우스 4종<!-- --> </span>\n",
      "<strong class=\"text--price_seller\">29,900</strong>\n",
      "<span class=\"text--title\"> Humming 허밍by 현영  린넨 블랜디드 셔츠형 블라우스 3종<!-- --> </span>\n",
      "<strong class=\"text--price_seller\">49,000</strong>\n",
      "<span class=\"text--title\">오리지날리 라운지웨어 원피스 2종<!-- --> </span>\n",
      "<strong class=\"text--price_seller\">39,900</strong>\n",
      "<span class=\"text--title\"> 런칭가 79000원  크레송CRESSON 21S/S 아트웍 블라우스 2종<!-- --> </span>\n",
      "<strong class=\"text--price_seller\">59,000</strong>\n",
      "<span class=\"text--title\">드고떼 코튼 100 티블라우스 4종 + 4종<!-- --> </span>\n",
      "<strong class=\"text--price_seller\">39,900</strong>\n",
      "<span class=\"text--title\">골지 핀턱 노와이어 브라탑 밴딩 브라렛<!-- --> </span>\n",
      "<strong class=\"text--price_seller\">5,000</strong>\n",
      "<span class=\"text--title\">골지 레이스 브라 팬티 세트<!-- --> </span>\n",
      "<strong class=\"text--price_seller\">10,000</strong>\n",
      "<span class=\"text--title\">요가 스포츠 노와이어 브라렛<!-- --> </span>\n",
      "<strong class=\"text--price_seller\">5,000</strong>\n",
      "<span class=\"text--title\">디즈니 아이스 쿨바지 V21 남성/여성/커플/조거팬츠<!-- --> </span>\n",
      "<strong class=\"text--price_seller\">9,900</strong>\n",
      "<span class=\"text--title\">디즈니 쿨 반팔세트 V21 남성/여성/커플/잠옷/홈웨어<!-- --> </span>\n",
      "<strong class=\"text--price_seller\">14,900</strong>\n",
      "<span class=\"text--title\">네모 팬티 사각 심리스 노라인 슬림 누디 자체제작<!-- --> </span>\n",
      "<strong class=\"text--price_seller\">5,900</strong>\n",
      "<span class=\"text--title\">15%쿠폰할인 메이시스 여름 루즈핏 원피스 블라우스<!-- --> </span>\n",
      "<strong class=\"text--price_seller\">9,900</strong>\n",
      "<span class=\"text--title\">수맘 여름 신상입고 15%쿠폰 면 홈웨어 잠옷 세트<!-- --> </span>\n",
      "<strong class=\"text--price_seller\">5,900</strong>\n",
      "<span class=\"text--title\">시크루즈/15%/단하루/티셔츠/박스티/팬츠/빅사이즈<!-- --> </span>\n",
      "<strong class=\"text--price_seller\">6,900</strong>\n",
      "<span class=\"text--title\">런닝 2500원/남자/남성/여자/여성/아동/쿨/조끼/인견<!-- --> </span>\n",
      "<strong class=\"text--price_seller\">2,900</strong>\n",
      "<span class=\"text--title\">엄마옷로즈맘 여름신상60종 인견 5060중년여성의류<!-- --> </span>\n",
      "<strong class=\"text--price_seller\">12,900</strong>\n",
      "<span class=\"text--title\">15%쿠폰 반팔티 운동복 티셔츠 롱티 원피스 빅사이즈<!-- --> </span>\n",
      "<strong class=\"text--price_seller\">9,900</strong>\n",
      "<span class=\"text--title\">15%중복쿠폰/쿨레깅스/쿨팬츠/원피스/7부/빅사이즈4XL<!-- --> </span>\n",
      "<strong class=\"text--price_seller\">6,900</strong>\n",
      "<span class=\"text--title\">(15%쿠폰)애플힙 쿨링팬츠 빅사이즈 4XL 슬랙스/8부<!-- --> </span>\n",
      "<strong class=\"text--price_seller\">6,900</strong>\n",
      "<span class=\"text--title\">15%쿠폰 루즈델리 여름신상 롱원피스/빅사이즈/루즈핏<!-- --> </span>\n",
      "<strong class=\"text--price_seller\">12,900</strong>\n",
      "<span class=\"text--title\">모노시크/15%/티셔츠/신상/데일리/루즈핏/빅사이즈/<!-- --> </span>\n",
      "<strong class=\"text--price_seller\">7,900</strong>\n",
      "<span class=\"text--title\">15%쿠폰가/XXL까지/빅사이즈/하객룩원피스<!-- --> </span>\n",
      "<strong class=\"text--price_seller\">29,800</strong>\n",
      "<span class=\"text--title\">15%쿠폰 데이뮤즈 원피스/자켓/가디건/바지/블라우스<!-- --> </span>\n",
      "<strong class=\"text--price_seller\">9,900</strong>\n",
      "<span class=\"text--title\">브리치X씨샵인더룸 BEST 15%쿠폰 셔츠/팬츠/가디건<!-- --> </span>\n",
      "<strong class=\"text--price_seller\">14,600</strong>\n",
      "<span class=\"text--title\">쿠폰15% 원피스/블라우스/여름니트/가디건 빅사이즈<!-- --> </span>\n",
      "<strong class=\"text--price_seller\">9,900</strong>\n",
      "<span class=\"text--title\">심리스 스포츠 브라탑 4종기획세트/노라인팬티 5종<!-- --> </span>\n",
      "<strong class=\"text--price_seller\">13,500</strong>\n",
      "<span class=\"text--title\">모카썸 15%썸머 티셔츠/원피스/1+1/루즈핏<!-- --> </span>\n",
      "<strong class=\"text--price_seller\">6,900</strong>\n",
      "<span class=\"text--title\">15%할인쿠폰 마르조 오나라pick 썸머 페스티벌~<!-- --> </span>\n",
      "<strong class=\"text--price_seller\">9,900</strong>\n",
      "<span class=\"text--title\">남성 여성 반팔 순면 무지 티셔츠 오버핏 빅사이즈<!-- --> </span>\n",
      "<strong class=\"text--price_seller\">3,900</strong>\n",
      "<span class=\"text--title\">성진 패션 원피스/팬츠/블라우스<!-- --> </span>\n",
      "<strong class=\"text--price_seller\">9,900</strong>\n",
      "<span class=\"text--title\">투투 여름신상 린넨/배기/슬랙스/청바지/반바지 5XL<!-- --> </span>\n",
      "<strong class=\"text--price_seller\">9,900</strong>\n",
      "<span class=\"text--title\">15%쿠폰 걸스데일리 빅사이즈 롱 원피스/티셔츠/팬츠<!-- --> </span>\n",
      "<strong class=\"text--price_seller\">15,900</strong>\n",
      "<span class=\"text--title\">시원한 아이스 쿨 바지 세트/파자마/원피스<!-- --> </span>\n",
      "<strong class=\"text--price_seller\">5,900</strong>\n",
      "<span class=\"text--title\">티메이 블라우스 티셔츠 맨투맨<!-- --> </span>\n",
      "<strong class=\"text--price_seller\">9,900</strong>\n",
      "<span class=\"text--title\">시크루즈/15%/단하루/롱원피스/SET아이템/빅사이즈<!-- --> </span>\n",
      "<strong class=\"text--price_seller\">11,900</strong>\n",
      "<span class=\"text--title\">캔마트 SUMMER 신상 15%쿠폰할인 티셔츠/팬츠 外<!-- --> </span>\n",
      "<strong class=\"text--price_seller\">16,500</strong>\n",
      "<span class=\"text--title\">빅사이즈 홈쇼핑 린넨블라우스4종/반팔티셔츠/팬츠<!-- --> </span>\n",
      "<strong class=\"text--price_seller\">19,900</strong>\n",
      "<span class=\"text--title\">시크폭스 여름신상/티셔츠/팬츠/1+1/원피스/린넨<!-- --> </span>\n",
      "<strong class=\"text--price_seller\">13,900</strong>\n",
      "<span class=\"text--title\">홈쇼핑 여름신상SALE 블라우스/원피스/티셔츠/팬츠 外<!-- --> </span>\n",
      "<strong class=\"text--price_seller\">14,900</strong>\n",
      "<span class=\"text--title\">쉬블림로브 15%쿠폰 균일가 블라우스 셔츠 상하세트<!-- --> </span>\n",
      "<strong class=\"text--price_seller\">8,900</strong>\n",
      "<span class=\"text--title\">패션풀 여름신상 베스트/니트/원피스<!-- --> </span>\n",
      "<strong class=\"text--price_seller\">14,900</strong>\n",
      "<span class=\"text--title\">다온샵 신상 15%쿠폰 빅사이즈/데님/슬랙스/반바지<!-- --> </span>\n",
      "<strong class=\"text--price_seller\">9,900</strong>\n",
      "<span class=\"text--title\">브리치X바이미쓰리 BEST 15%쿠폰 셔츠/팬츠/원피스<!-- --> </span>\n",
      "<strong class=\"text--price_seller\">7,900</strong>\n",
      "<span class=\"text--title\">15%쿠폰 여성반팔티 여자티셔츠 빅사이즈여성의류 롱<!-- --> </span>\n",
      "<strong class=\"text--price_seller\">7,500</strong>\n",
      "<span class=\"text--title\">남성/여성 3부~9부 파자마 잠옷바지 커플잠옷 국산 면<!-- --> </span>\n",
      "<strong class=\"text--price_seller\">6,900</strong>\n",
      "<span class=\"text--title\">여성팬티5매/여자/여성/속옷/미디/맥시/위생/삼각/면<!-- --> </span>\n",
      "<strong class=\"text--price_seller\">6,900</strong>\n",
      "<span class=\"text--title\">15%쿠폰/데이데이 여름신상 블라우스/원피스/팬츠<!-- --> </span>\n",
      "<strong class=\"text--price_seller\">9,900</strong>\n",
      "<span class=\"text--title\">이너리즘 심리스 브라탑 라이트 4종세트/노라인팬티<!-- --> </span>\n",
      "<strong class=\"text--price_seller\">12,500</strong>\n",
      "<span class=\"text--title\">썸머패션 15%할인 롱 티셔츠 후드티 반팔티 빅사이즈<!-- --> </span>\n",
      "<strong class=\"text--price_seller\">6,900</strong>\n",
      "<span class=\"text--title\">티탁 15%쿠폰 특가/세트/맨투맨/원피스/롱티셔츠<!-- --> </span>\n",
      "<strong class=\"text--price_seller\">9,900</strong>\n",
      "<span class=\"text--title\">BNX 탱커스 ~70% 미리준비하는 여름신상<!-- --> </span>\n",
      "<strong class=\"text--price_seller\">24,000</strong>\n",
      "<span class=\"text--title\">트렌드15% 블루레이스 2021 여름신상OPEN<!-- --> </span>\n",
      "<strong class=\"text--price_seller\">15,200</strong>\n",
      "<span class=\"text--title\">A~F컵 브라/노와이어/빅사이즈/브라/여성팬티<!-- --> </span>\n",
      "<strong class=\"text--price_seller\">3,900</strong>\n",
      "<span class=\"text--title\">전국민15%쿠폰 여름NEW 빅사이즈/롱원피스/데님/4XL~<!-- --> </span>\n",
      "<strong class=\"text--price_seller\">17,400</strong>\n",
      "<span class=\"text--title\">런닝5매/남성/남자/여성/여자/아동/조끼/반팔/속옷/면<!-- --> </span>\n",
      "<strong class=\"text--price_seller\">9,900</strong>\n",
      "<span class=\"text--title\">쏭스타일15% 신상추가.원피스.빅사이즈.롱티.<!-- --> </span>\n",
      "<strong class=\"text--price_seller\">7,900</strong>\n",
      "<span class=\"text--title\">단비샵/봄신상/원피스/블라우스/자켓/청바지/반바지<!-- --> </span>\n",
      "<strong class=\"text--price_seller\">9,900</strong>\n",
      "<span class=\"text--title\">15%쿠폰/여름빅세일/2장이상구입시 팬티사은품/무배<!-- --> </span>\n",
      "<strong class=\"text--price_seller\">8,900</strong>\n",
      "<span class=\"text--title\">브라썸/브라팬티세트 ABCD컵/왕뽕/빅사이즈/여성속옷<!-- --> </span>\n",
      "<strong class=\"text--price_seller\">10,900</strong>\n",
      "<span class=\"text--title\">달리샵 여름신상 빅사이즈 베스트 티셔츠/원피스/팬츠<!-- --> </span>\n",
      "<strong class=\"text--price_seller\">9,900</strong>\n",
      "<span class=\"text--title\">15%쿠폰 홈쇼핑 빅사이즈 티 8종세트/남성반팔티/팬츠<!-- --> </span>\n",
      "<strong class=\"text--price_seller\">29,900</strong>\n",
      "<span class=\"text--title\">1+1+1/3장세트/쿨티셔츠/쿨론/여자/남자/무지/반팔티<!-- --> </span>\n",
      "<strong class=\"text--price_seller\">14,900</strong>\n",
      "<span class=\"text--title\">16수 오버핏 남성 여성 반팔 무지 티셔츠 빅사이즈<!-- --> </span>\n",
      "<strong class=\"text--price_seller\">10,900</strong>\n",
      "<span class=\"text--title\">기능성 사계절 에어로쿨 남성런닝 여성런닝 모음전<!-- --> </span>\n",
      "<strong class=\"text--price_seller\">2,900</strong>\n",
      "<span class=\"text--title\">시스터 여름신상 15% 빅사이즈/롱원피스/롱티/세트<!-- --> </span>\n",
      "<strong class=\"text--price_seller\">6,900</strong>\n",
      "<span class=\"text--title\">비너스외 노와이어브라 여자 여성 속옷 세트 브래지어<!-- --> </span>\n",
      "<strong class=\"text--price_seller\">9,900</strong>\n",
      "<span class=\"text--title\">최대80~여성 반팔 티셔츠 여자 조거 청바지 빅사이즈<!-- --> </span>\n",
      "<strong class=\"text--price_seller\">13,600</strong>\n",
      "<span class=\"text--title\">글램공감/브라1+팬티2/속옷세트/A~D컵/빅사이즈/속옷<!-- --> </span>\n",
      "<strong class=\"text--price_seller\">10,900</strong>\n",
      "<span class=\"text--title\">17%쿠폰 여름 클리어런스 데일리 티셔츠/팬츠 外<!-- --> </span>\n",
      "<strong class=\"text--price_seller\">8,900</strong>\n",
      "<span class=\"text--title\">여름신상 여자청바지/와이드/부츠컷/일자/스키니<!-- --> </span>\n",
      "<strong class=\"text--price_seller\">17,900</strong>\n",
      "<span class=\"text--title\">5장세트 심리스 노라인 메쉬팬티 여자팬티 여성팬티 쿨<!-- --> </span>\n",
      "<strong class=\"text--price_seller\">9,500</strong>\n",
      "<span class=\"text--title\">DCOVERS/디커버스/반팔티/티셔츠/여성/남자/빅사이즈<!-- --> </span>\n",
      "<strong class=\"text--price_seller\">7,500</strong>\n",
      "<span class=\"text--title\">올리비아로렌 시즌off인기템 티셔츠/팬츠 17%<!-- --> </span>\n",
      "<strong class=\"text--price_seller\">16,900</strong>\n",
      "<span class=\"text--title\">아놀드파마15% 남녀 블라우스 냉감티 원피스 골프웨어<!-- --> </span>\n",
      "<strong class=\"text--price_seller\">7,900</strong>\n",
      "<span class=\"text--title\">패션라인 여름블라우스 원피스/자켓/티셔츠/빅사이즈<!-- --> </span>\n",
      "<strong class=\"text--price_seller\">12,900</strong>\n",
      "<span class=\"text--title\">빅사이즈 쿨바지 여름 직업복 밴딩 여자 남성 일 바지<!-- --> </span>\n",
      "<strong class=\"text--price_seller\">4,900</strong>\n",
      "<span class=\"text--title\">9900원~ 로델리 여름원피스 블라우스 핫팬츠<!-- --> </span>\n",
      "<strong class=\"text--price_seller\">12,900</strong>\n",
      "<span class=\"text--title\">여름티여성반팔티흰색면티7부티셔츠라운드티흰티반팔<!-- --> </span>\n",
      "<strong class=\"text--price_seller\">8,900</strong>\n",
      "<span class=\"text--title\"> 블랙야크  20SS 남성 여름기능성바지 U애슬리팬츠-1<!-- --> </span>\n",
      "<strong class=\"text--price_seller\">37,730</strong>\n"
     ]
    }
   ],
   "source": [
    "for i in range(0, num):\n",
    "    # 상품명\n",
    "    soup_title = soup_item[i].find(\"span\", class_=\"text--title\")\n",
    "    print(soup_title)\n",
    "    if soup_title is not None:\n",
    "        title_txt = soup_title.text\n",
    "        title.append(title_txt)\n",
    "    else:\n",
    "        title.append(\"\")\n",
    "# 상품가격(할인적용금액)\n",
    "    soup_price = soup_item[i].find(\"strong\", class_=\"text--price_seller\")\n",
    "    print(soup_price)\n",
    "    if soup_price is not None:\n",
    "        price_txt = soup_price.text\n",
    "        price_sales.append(price_txt)\n",
    "    else:\n",
    "        price_sales.append(\"\")"
   ]
  },
  {
   "cell_type": "code",
   "execution_count": 139,
   "metadata": {},
   "outputs": [
    {
     "data": {
      "text/plain": [
       "['다온샵 신상 15%쿠폰 빅사이즈/데님/슬랙스/반바지 ',\n",
       " '달리샵 여름신상 베스트 티셔츠/원피스/팬츠/스커트 ',\n",
       " '15%쿠폰/여름빅세일/2장이상구입시 팬티사은품/무배 ',\n",
       " '김여사봄신상 베스트 베이직 티셔츠/팬츠 균일가 20종 ',\n",
       " '16수 오버핏 남성 여성 반팔 무지 티셔츠 빅사이즈 ',\n",
       " '15%쿠폰 데이뮤즈 원피스/자켓/가디건/바지/블라우스 ',\n",
       " '달리샵 여름신상 빅사이즈 베스트 티셔츠/원피스/팬츠 ',\n",
       " '15%할인쿠폰 마르조 오나라pick 썸머 페스티벌~ ',\n",
       " 'EnC 봄여름 블라우스/원피스/팬츠 외 최대25%쿠폰 ',\n",
       " '단아하고 여성스러운 플라워 자수 블라우스 ',\n",
       " '티탁 15%쿠폰 특가/세트/맨투맨/원피스/롱티셔츠 ',\n",
       " '여름 오픈특가 블라우스/원피스/티셔츠외 ',\n",
       " '전국민15%쿠폰 여름NEW 빅사이즈/롱원피스/데님/4XL~ ',\n",
       " ' 헬리꽁땡  로즈 원피스 ',\n",
       " '여름 최신 핫 트렌드 신상템 특가 ',\n",
       " '15%쿠폰/데이데이 여름신상 블라우스/원피스/팬츠 ',\n",
       " '패션페스타20% 여성 반팔티셔츠 여자 빅사이즈 티셔츠 ',\n",
       " '(색상 검정) 비비안 유발타아즈50D/여성용/숙녀/무지 ',\n",
       " '빅사이즈 라운드 골지 티셔츠 니트느낌 오버핏 5XL까지 ',\n",
       " ' TAG ME 태그미 플리츠 셋업 3종 세트 ',\n",
       " '15% 쿠폰/데이데이 여름신상 블라우스/티셔츠/원피스 ',\n",
       " '드고떼 코튼 100 티블라우스 4종 ',\n",
       " ' Humming 허밍by 현영  린넨 블랜디드 셔츠형 블라우스 3종 ',\n",
       " '오리지날리 라운지웨어 원피스 2종 ',\n",
       " ' 런칭가 79000원  크레송CRESSON 21S/S 아트웍 블라우스 2종 ',\n",
       " '드고떼 코튼 100 티블라우스 4종 + 4종 ',\n",
       " '골지 핀턱 노와이어 브라탑 밴딩 브라렛 ',\n",
       " '골지 레이스 브라 팬티 세트 ',\n",
       " '요가 스포츠 노와이어 브라렛 ',\n",
       " '디즈니 아이스 쿨바지 V21 남성/여성/커플/조거팬츠 ',\n",
       " '디즈니 쿨 반팔세트 V21 남성/여성/커플/잠옷/홈웨어 ',\n",
       " '네모 팬티 사각 심리스 노라인 슬림 누디 자체제작 ',\n",
       " '15%쿠폰할인 메이시스 여름 루즈핏 원피스 블라우스 ',\n",
       " '수맘 여름 신상입고 15%쿠폰 면 홈웨어 잠옷 세트 ',\n",
       " '시크루즈/15%/단하루/티셔츠/박스티/팬츠/빅사이즈 ',\n",
       " '런닝 2500원/남자/남성/여자/여성/아동/쿨/조끼/인견 ',\n",
       " '엄마옷로즈맘 여름신상60종 인견 5060중년여성의류 ',\n",
       " '15%쿠폰 반팔티 운동복 티셔츠 롱티 원피스 빅사이즈 ',\n",
       " '15%중복쿠폰/쿨레깅스/쿨팬츠/원피스/7부/빅사이즈4XL ',\n",
       " '(15%쿠폰)애플힙 쿨링팬츠 빅사이즈 4XL 슬랙스/8부 ',\n",
       " '15%쿠폰 루즈델리 여름신상 롱원피스/빅사이즈/루즈핏 ',\n",
       " '모노시크/15%/티셔츠/신상/데일리/루즈핏/빅사이즈/ ',\n",
       " '15%쿠폰가/XXL까지/빅사이즈/하객룩원피스 ',\n",
       " '15%쿠폰 데이뮤즈 원피스/자켓/가디건/바지/블라우스 ',\n",
       " '브리치X씨샵인더룸 BEST 15%쿠폰 셔츠/팬츠/가디건 ',\n",
       " '쿠폰15% 원피스/블라우스/여름니트/가디건 빅사이즈 ',\n",
       " '심리스 스포츠 브라탑 4종기획세트/노라인팬티 5종 ',\n",
       " '모카썸 15%썸머 티셔츠/원피스/1+1/루즈핏 ',\n",
       " '15%할인쿠폰 마르조 오나라pick 썸머 페스티벌~ ',\n",
       " '남성 여성 반팔 순면 무지 티셔츠 오버핏 빅사이즈 ',\n",
       " '성진 패션 원피스/팬츠/블라우스 ',\n",
       " '투투 여름신상 린넨/배기/슬랙스/청바지/반바지 5XL ',\n",
       " '15%쿠폰 걸스데일리 빅사이즈 롱 원피스/티셔츠/팬츠 ',\n",
       " '시원한 아이스 쿨 바지 세트/파자마/원피스 ',\n",
       " '티메이 블라우스 티셔츠 맨투맨 ',\n",
       " '시크루즈/15%/단하루/롱원피스/SET아이템/빅사이즈 ',\n",
       " '캔마트 SUMMER 신상 15%쿠폰할인 티셔츠/팬츠 外 ',\n",
       " '빅사이즈 홈쇼핑 린넨블라우스4종/반팔티셔츠/팬츠 ',\n",
       " '시크폭스 여름신상/티셔츠/팬츠/1+1/원피스/린넨 ',\n",
       " '홈쇼핑 여름신상SALE 블라우스/원피스/티셔츠/팬츠 外 ',\n",
       " '쉬블림로브 15%쿠폰 균일가 블라우스 셔츠 상하세트 ',\n",
       " '패션풀 여름신상 베스트/니트/원피스 ',\n",
       " '다온샵 신상 15%쿠폰 빅사이즈/데님/슬랙스/반바지 ',\n",
       " '브리치X바이미쓰리 BEST 15%쿠폰 셔츠/팬츠/원피스 ',\n",
       " '15%쿠폰 여성반팔티 여자티셔츠 빅사이즈여성의류 롱 ',\n",
       " '남성/여성 3부~9부 파자마 잠옷바지 커플잠옷 국산 면 ',\n",
       " '여성팬티5매/여자/여성/속옷/미디/맥시/위생/삼각/면 ',\n",
       " '15%쿠폰/데이데이 여름신상 블라우스/원피스/팬츠 ',\n",
       " '이너리즘 심리스 브라탑 라이트 4종세트/노라인팬티 ',\n",
       " '썸머패션 15%할인 롱 티셔츠 후드티 반팔티 빅사이즈 ',\n",
       " '티탁 15%쿠폰 특가/세트/맨투맨/원피스/롱티셔츠 ',\n",
       " 'BNX 탱커스 ~70% 미리준비하는 여름신상 ',\n",
       " '트렌드15% 블루레이스 2021 여름신상OPEN ',\n",
       " 'A~F컵 브라/노와이어/빅사이즈/브라/여성팬티 ',\n",
       " '전국민15%쿠폰 여름NEW 빅사이즈/롱원피스/데님/4XL~ ',\n",
       " '런닝5매/남성/남자/여성/여자/아동/조끼/반팔/속옷/면 ',\n",
       " '쏭스타일15% 신상추가.원피스.빅사이즈.롱티. ',\n",
       " '단비샵/봄신상/원피스/블라우스/자켓/청바지/반바지 ',\n",
       " '15%쿠폰/여름빅세일/2장이상구입시 팬티사은품/무배 ',\n",
       " '브라썸/브라팬티세트 ABCD컵/왕뽕/빅사이즈/여성속옷 ',\n",
       " '달리샵 여름신상 빅사이즈 베스트 티셔츠/원피스/팬츠 ',\n",
       " '15%쿠폰 홈쇼핑 빅사이즈 티 8종세트/남성반팔티/팬츠 ',\n",
       " '1+1+1/3장세트/쿨티셔츠/쿨론/여자/남자/무지/반팔티 ',\n",
       " '16수 오버핏 남성 여성 반팔 무지 티셔츠 빅사이즈 ',\n",
       " '기능성 사계절 에어로쿨 남성런닝 여성런닝 모음전 ',\n",
       " '시스터 여름신상 15% 빅사이즈/롱원피스/롱티/세트 ',\n",
       " '비너스외 노와이어브라 여자 여성 속옷 세트 브래지어 ',\n",
       " '최대80~여성 반팔 티셔츠 여자 조거 청바지 빅사이즈 ',\n",
       " '글램공감/브라1+팬티2/속옷세트/A~D컵/빅사이즈/속옷 ',\n",
       " '17%쿠폰 여름 클리어런스 데일리 티셔츠/팬츠 外 ',\n",
       " '여름신상 여자청바지/와이드/부츠컷/일자/스키니 ',\n",
       " '5장세트 심리스 노라인 메쉬팬티 여자팬티 여성팬티 쿨 ',\n",
       " 'DCOVERS/디커버스/반팔티/티셔츠/여성/남자/빅사이즈 ',\n",
       " '올리비아로렌 시즌off인기템 티셔츠/팬츠 17% ',\n",
       " '아놀드파마15% 남녀 블라우스 냉감티 원피스 골프웨어 ',\n",
       " '패션라인 여름블라우스 원피스/자켓/티셔츠/빅사이즈 ',\n",
       " '빅사이즈 쿨바지 여름 직업복 밴딩 여자 남성 일 바지 ',\n",
       " '9900원~ 로델리 여름원피스 블라우스 핫팬츠 ',\n",
       " '여름티여성반팔티흰색면티7부티셔츠라운드티흰티반팔 ',\n",
       " ' 블랙야크  20SS 남성 여름기능성바지 U애슬리팬츠-1 ',\n",
       " '다온샵 신상 15%쿠폰 빅사이즈/데님/슬랙스/반바지 ',\n",
       " '달리샵 여름신상 베스트 티셔츠/원피스/팬츠/스커트 ',\n",
       " '15%쿠폰/여름빅세일/2장이상구입시 팬티사은품/무배 ',\n",
       " '김여사봄신상 베스트 베이직 티셔츠/팬츠 균일가 20종 ',\n",
       " '16수 오버핏 남성 여성 반팔 무지 티셔츠 빅사이즈 ',\n",
       " '15%쿠폰 데이뮤즈 원피스/자켓/가디건/바지/블라우스 ',\n",
       " '달리샵 여름신상 빅사이즈 베스트 티셔츠/원피스/팬츠 ',\n",
       " '15%할인쿠폰 마르조 오나라pick 썸머 페스티벌~ ',\n",
       " 'EnC 봄여름 블라우스/원피스/팬츠 외 최대25%쿠폰 ',\n",
       " '단아하고 여성스러운 플라워 자수 블라우스 ',\n",
       " '티탁 15%쿠폰 특가/세트/맨투맨/원피스/롱티셔츠 ',\n",
       " '여름 오픈특가 블라우스/원피스/티셔츠외 ',\n",
       " '전국민15%쿠폰 여름NEW 빅사이즈/롱원피스/데님/4XL~ ',\n",
       " ' 헬리꽁땡  로즈 원피스 ',\n",
       " '여름 최신 핫 트렌드 신상템 특가 ',\n",
       " '15%쿠폰/데이데이 여름신상 블라우스/원피스/팬츠 ',\n",
       " '패션페스타20% 여성 반팔티셔츠 여자 빅사이즈 티셔츠 ',\n",
       " '(색상 검정) 비비안 유발타아즈50D/여성용/숙녀/무지 ',\n",
       " '빅사이즈 라운드 골지 티셔츠 니트느낌 오버핏 5XL까지 ',\n",
       " ' TAG ME 태그미 플리츠 셋업 3종 세트 ',\n",
       " '15% 쿠폰/데이데이 여름신상 블라우스/티셔츠/원피스 ',\n",
       " '드고떼 코튼 100 티블라우스 4종 ',\n",
       " ' Humming 허밍by 현영  린넨 블랜디드 셔츠형 블라우스 3종 ',\n",
       " '오리지날리 라운지웨어 원피스 2종 ',\n",
       " ' 런칭가 79000원  크레송CRESSON 21S/S 아트웍 블라우스 2종 ',\n",
       " '드고떼 코튼 100 티블라우스 4종 + 4종 ',\n",
       " '골지 핀턱 노와이어 브라탑 밴딩 브라렛 ',\n",
       " '골지 레이스 브라 팬티 세트 ',\n",
       " '요가 스포츠 노와이어 브라렛 ',\n",
       " '디즈니 아이스 쿨바지 V21 남성/여성/커플/조거팬츠 ',\n",
       " '디즈니 쿨 반팔세트 V21 남성/여성/커플/잠옷/홈웨어 ',\n",
       " '네모 팬티 사각 심리스 노라인 슬림 누디 자체제작 ',\n",
       " '15%쿠폰할인 메이시스 여름 루즈핏 원피스 블라우스 ',\n",
       " '수맘 여름 신상입고 15%쿠폰 면 홈웨어 잠옷 세트 ',\n",
       " '시크루즈/15%/단하루/티셔츠/박스티/팬츠/빅사이즈 ',\n",
       " '런닝 2500원/남자/남성/여자/여성/아동/쿨/조끼/인견 ',\n",
       " '엄마옷로즈맘 여름신상60종 인견 5060중년여성의류 ',\n",
       " '15%쿠폰 반팔티 운동복 티셔츠 롱티 원피스 빅사이즈 ',\n",
       " '15%중복쿠폰/쿨레깅스/쿨팬츠/원피스/7부/빅사이즈4XL ',\n",
       " '(15%쿠폰)애플힙 쿨링팬츠 빅사이즈 4XL 슬랙스/8부 ',\n",
       " '15%쿠폰 루즈델리 여름신상 롱원피스/빅사이즈/루즈핏 ',\n",
       " '모노시크/15%/티셔츠/신상/데일리/루즈핏/빅사이즈/ ',\n",
       " '15%쿠폰가/XXL까지/빅사이즈/하객룩원피스 ',\n",
       " '15%쿠폰 데이뮤즈 원피스/자켓/가디건/바지/블라우스 ',\n",
       " '브리치X씨샵인더룸 BEST 15%쿠폰 셔츠/팬츠/가디건 ',\n",
       " '쿠폰15% 원피스/블라우스/여름니트/가디건 빅사이즈 ',\n",
       " '심리스 스포츠 브라탑 4종기획세트/노라인팬티 5종 ',\n",
       " '모카썸 15%썸머 티셔츠/원피스/1+1/루즈핏 ',\n",
       " '15%할인쿠폰 마르조 오나라pick 썸머 페스티벌~ ',\n",
       " '남성 여성 반팔 순면 무지 티셔츠 오버핏 빅사이즈 ',\n",
       " '성진 패션 원피스/팬츠/블라우스 ',\n",
       " '투투 여름신상 린넨/배기/슬랙스/청바지/반바지 5XL ',\n",
       " '15%쿠폰 걸스데일리 빅사이즈 롱 원피스/티셔츠/팬츠 ',\n",
       " '시원한 아이스 쿨 바지 세트/파자마/원피스 ',\n",
       " '티메이 블라우스 티셔츠 맨투맨 ',\n",
       " '시크루즈/15%/단하루/롱원피스/SET아이템/빅사이즈 ',\n",
       " '캔마트 SUMMER 신상 15%쿠폰할인 티셔츠/팬츠 外 ',\n",
       " '빅사이즈 홈쇼핑 린넨블라우스4종/반팔티셔츠/팬츠 ',\n",
       " '시크폭스 여름신상/티셔츠/팬츠/1+1/원피스/린넨 ',\n",
       " '홈쇼핑 여름신상SALE 블라우스/원피스/티셔츠/팬츠 外 ',\n",
       " '쉬블림로브 15%쿠폰 균일가 블라우스 셔츠 상하세트 ',\n",
       " '패션풀 여름신상 베스트/니트/원피스 ',\n",
       " '다온샵 신상 15%쿠폰 빅사이즈/데님/슬랙스/반바지 ',\n",
       " '브리치X바이미쓰리 BEST 15%쿠폰 셔츠/팬츠/원피스 ',\n",
       " '15%쿠폰 여성반팔티 여자티셔츠 빅사이즈여성의류 롱 ',\n",
       " '남성/여성 3부~9부 파자마 잠옷바지 커플잠옷 국산 면 ',\n",
       " '여성팬티5매/여자/여성/속옷/미디/맥시/위생/삼각/면 ',\n",
       " '15%쿠폰/데이데이 여름신상 블라우스/원피스/팬츠 ',\n",
       " '이너리즘 심리스 브라탑 라이트 4종세트/노라인팬티 ',\n",
       " '썸머패션 15%할인 롱 티셔츠 후드티 반팔티 빅사이즈 ',\n",
       " '티탁 15%쿠폰 특가/세트/맨투맨/원피스/롱티셔츠 ',\n",
       " 'BNX 탱커스 ~70% 미리준비하는 여름신상 ',\n",
       " '트렌드15% 블루레이스 2021 여름신상OPEN ',\n",
       " 'A~F컵 브라/노와이어/빅사이즈/브라/여성팬티 ',\n",
       " '전국민15%쿠폰 여름NEW 빅사이즈/롱원피스/데님/4XL~ ',\n",
       " '런닝5매/남성/남자/여성/여자/아동/조끼/반팔/속옷/면 ',\n",
       " '쏭스타일15% 신상추가.원피스.빅사이즈.롱티. ',\n",
       " '단비샵/봄신상/원피스/블라우스/자켓/청바지/반바지 ',\n",
       " '15%쿠폰/여름빅세일/2장이상구입시 팬티사은품/무배 ',\n",
       " '브라썸/브라팬티세트 ABCD컵/왕뽕/빅사이즈/여성속옷 ',\n",
       " '달리샵 여름신상 빅사이즈 베스트 티셔츠/원피스/팬츠 ',\n",
       " '15%쿠폰 홈쇼핑 빅사이즈 티 8종세트/남성반팔티/팬츠 ',\n",
       " '1+1+1/3장세트/쿨티셔츠/쿨론/여자/남자/무지/반팔티 ',\n",
       " '16수 오버핏 남성 여성 반팔 무지 티셔츠 빅사이즈 ',\n",
       " '기능성 사계절 에어로쿨 남성런닝 여성런닝 모음전 ',\n",
       " '시스터 여름신상 15% 빅사이즈/롱원피스/롱티/세트 ',\n",
       " '비너스외 노와이어브라 여자 여성 속옷 세트 브래지어 ',\n",
       " '최대80~여성 반팔 티셔츠 여자 조거 청바지 빅사이즈 ',\n",
       " '글램공감/브라1+팬티2/속옷세트/A~D컵/빅사이즈/속옷 ',\n",
       " '17%쿠폰 여름 클리어런스 데일리 티셔츠/팬츠 外 ',\n",
       " '여름신상 여자청바지/와이드/부츠컷/일자/스키니 ',\n",
       " '5장세트 심리스 노라인 메쉬팬티 여자팬티 여성팬티 쿨 ',\n",
       " 'DCOVERS/디커버스/반팔티/티셔츠/여성/남자/빅사이즈 ',\n",
       " '올리비아로렌 시즌off인기템 티셔츠/팬츠 17% ',\n",
       " '아놀드파마15% 남녀 블라우스 냉감티 원피스 골프웨어 ',\n",
       " '패션라인 여름블라우스 원피스/자켓/티셔츠/빅사이즈 ',\n",
       " '빅사이즈 쿨바지 여름 직업복 밴딩 여자 남성 일 바지 ',\n",
       " '9900원~ 로델리 여름원피스 블라우스 핫팬츠 ',\n",
       " '여름티여성반팔티흰색면티7부티셔츠라운드티흰티반팔 ',\n",
       " ' 블랙야크  20SS 남성 여름기능성바지 U애슬리팬츠-1 ']"
      ]
     },
     "execution_count": 139,
     "metadata": {},
     "output_type": "execute_result"
    }
   ],
   "source": [
    "title"
   ]
  },
  {
   "cell_type": "code",
   "execution_count": null,
   "metadata": {},
   "outputs": [],
   "source": []
  }
 ],
 "metadata": {
  "kernelspec": {
   "display_name": "Python 3",
   "language": "python",
   "name": "python3"
  },
  "language_info": {
   "codemirror_mode": {
    "name": "ipython",
    "version": 3
   },
   "file_extension": ".py",
   "mimetype": "text/x-python",
   "name": "python",
   "nbconvert_exporter": "python",
   "pygments_lexer": "ipython3",
   "version": "3.8.5"
  }
 },
 "nbformat": 4,
 "nbformat_minor": 4
}
