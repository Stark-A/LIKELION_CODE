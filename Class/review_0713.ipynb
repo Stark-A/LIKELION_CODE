{
 "cells": [
  {
   "cell_type": "markdown",
   "metadata": {},
   "source": [
    "* 인공지능, 머신러닝, 딥러닝\n",
    "* 인공지능 > 머신러닝 > 딥러닝"
   ]
  },
  {
   "cell_type": "markdown",
   "metadata": {},
   "source": [
    "### 머신러닝 - 지도학습, 비지도학습"
   ]
  },
  {
   "cell_type": "markdown",
   "metadata": {},
   "source": [
    " * 지도학습, 비지도학습\n",
    "    * 지도할만한 출력(정답)이 있느냐, 없느냐"
   ]
  },
  {
   "cell_type": "markdown",
   "metadata": {},
   "source": [
    "### 지도학습\n",
    " * 회귀(Regrssion) - 목표값이 어떤 자료형(수치형)\n",
    " * 분류(Classification) - 목표값이 어떤 자료형(범주형)"
   ]
  },
  {
   "cell_type": "markdown",
   "metadata": {},
   "source": [
    "### 머신러닝 구분\n",
    " * 지도학습\n",
    "    * 회귀\n",
    "       * 변수가 하나 - 단순선형회귀\n",
    "       * 변수가 여러개 - 다중선형회귀\n",
    "    \n",
    "    * 분류\n",
    "       * 이항(이진)분류 - 값이 2개\n",
    "       * 다항 분류 - 값이 여러개\n",
    "    * 비지도학습\n",
    "       * 군집모델(Clustering)"
   ]
  },
  {
   "cell_type": "code",
   "execution_count": null,
   "metadata": {},
   "outputs": [],
   "source": []
  }
 ],
 "metadata": {
  "kernelspec": {
   "display_name": "Python 3",
   "language": "python",
   "name": "python3"
  },
  "language_info": {
   "codemirror_mode": {
    "name": "ipython",
    "version": 3
   },
   "file_extension": ".py",
   "mimetype": "text/x-python",
   "name": "python",
   "nbconvert_exporter": "python",
   "pygments_lexer": "ipython3",
   "version": "3.8.5"
  }
 },
 "nbformat": 4,
 "nbformat_minor": 4
}
