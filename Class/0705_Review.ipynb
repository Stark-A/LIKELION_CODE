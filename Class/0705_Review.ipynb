{
 "cells": [
  {
   "cell_type": "markdown",
   "metadata": {},
   "source": [
    "### Pandas(팬더스 or 판다스)\n",
    " * 자료형 : Series, DataFrame\n",
    " * Series, DataFrame의 차이 : 1차원 , 2차원\n",
    " * import pandas as pd와 from pandas import Series, DataFrame\n",
    "   * 앞의 모듈 이름의 생략 가능하다.\n",
    " *Series\n",
    "   * score = Series( [1000, 14000, 3000, 3000, 1000] )\n",
    "   * 행의 인덱스 정보를 갖게 된다.\n",
    "   * [].index, [].values\n",
    "   * df = DataFrame( {}, index=[], columns=[])\n",
    " * groupby()\n",
    " * iloc, loc 차이 : iloc(숫자 접근), loc(인덱스로 접근)\n",
    " * print(team_df.iloc[:, 0:3:1]) # team_df\n",
    " * print(team_df.sum(axis=1))    # 열 기준 접근 - 행의 합계. 행 기준 axis=0\n",
    " * team_12.to_csv(\"team_12.csv\", index=False)\n",
    " * seaborn : 0.11 48개 그래프\n",
    " * [].info()\n",
    " * [].dtypes()\n",
    " * sns.pairplot(temp_train) : 그래프 시각화()\n",
    "    * 산점도 행렬을 그려주기\n",
    " * 멀티 그래프 그리기\n",
    "'''\n",
    "    plt.subplot(2,2,1)\n",
    "    plt.hist()\n",
    "    \n",
    "    plt.subplot(2,2,2)\n",
    "    plt.hist()\n",
    "    \n",
    "    plt.subplot(2,2,3)\n",
    "    plt.hist()      \n",
    "'''"
   ]
  },
  {
   "cell_type": "markdown",
   "metadata": {},
   "source": [
    "### 데이터 탐색\n",
    " * [].shape : 행과 열보기\n",
    " * [].info()\n",
    " * [].describe()\n",
    " * [].isnull().sum()\n",
    " * [].describe(include=['O'])\n",
    " * [].columns"
   ]
  },
  {
   "cell_type": "markdown",
   "metadata": {},
   "source": [
    "* dat['sex'] = dat.sex.astype(str)  # 컬럼 타입 변경"
   ]
  },
  {
   "cell_type": "code",
   "execution_count": null,
   "metadata": {},
   "outputs": [],
   "source": []
  }
 ],
 "metadata": {
  "kernelspec": {
   "display_name": "Python 3",
   "language": "python",
   "name": "python3"
  },
  "language_info": {
   "codemirror_mode": {
    "name": "ipython",
    "version": 3
   },
   "file_extension": ".py",
   "mimetype": "text/x-python",
   "name": "python",
   "nbconvert_exporter": "python",
   "pygments_lexer": "ipython3",
   "version": "3.8.5"
  }
 },
 "nbformat": 4,
 "nbformat_minor": 4
}
