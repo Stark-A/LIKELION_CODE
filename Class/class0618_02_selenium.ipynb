{
 "cells": [
  {
   "cell_type": "code",
   "execution_count": 130,
   "metadata": {},
   "outputs": [
    {
     "data": {
      "text/plain": [
       "<selenium.webdriver.chrome.webdriver.WebDriver (session=\"8a7053f9c4bb2b73f0da341e8bd28b19\")>"
      ]
     },
     "execution_count": 130,
     "metadata": {},
     "output_type": "execute_result"
    }
   ],
   "source": [
    "from selenium import webdriver\n",
    "driver = webdriver.Chrome('chromedriver_90')\n",
    "driver"
   ]
  },
  {
   "cell_type": "code",
   "execution_count": 2,
   "metadata": {},
   "outputs": [],
   "source": [
    "### url : 우리가 접근할 페이지 주소\n",
    "### 통계기본(xpath) : /html/body/div/div/div/div/div[9]/div[4]/a\n",
    "### [selenium 객체].click() : 다른 페이지로 이동"
   ]
  },
  {
   "cell_type": "code",
   "execution_count": 5,
   "metadata": {},
   "outputs": [],
   "source": [
    "url = 'https://ldjwj.github.io/00_SBA01_BigData/05_HTML/idx_lec_list'\n",
    "driver.get(url)"
   ]
  },
  {
   "cell_type": "markdown",
   "metadata": {},
   "source": [
    "# 내가 원하는 요소를 가지고 와서. 그 친구에 click()를 해보렴."
   ]
  },
  {
   "cell_type": "code",
   "execution_count": 6,
   "metadata": {
    "scrolled": false
   },
   "outputs": [
    {
     "data": {
      "text/plain": [
       "<selenium.webdriver.remote.webelement.WebElement (session=\"a6d40ca3d1582d75b98d6b2fa8fe83d5\", element=\"9ae95206-ab56-4c50-94e0-0c9ddf458fe2\")>"
      ]
     },
     "execution_count": 6,
     "metadata": {},
     "output_type": "execute_result"
    }
   ],
   "source": [
    "sel_link1 = driver.find_element_by_xpath('/html/body/div/div/div/div/div[9]/div[4]/a')\n",
    "sel_link1"
   ]
  },
  {
   "cell_type": "code",
   "execution_count": 7,
   "metadata": {},
   "outputs": [
    {
     "data": {
      "text/plain": [
       "'Link'"
      ]
     },
     "execution_count": 7,
     "metadata": {},
     "output_type": "execute_result"
    }
   ],
   "source": [
    "sel_link1.text"
   ]
  },
  {
   "cell_type": "code",
   "execution_count": 8,
   "metadata": {},
   "outputs": [
    {
     "data": {
      "text/plain": [
       "'a'"
      ]
     },
     "execution_count": 8,
     "metadata": {},
     "output_type": "execute_result"
    }
   ],
   "source": [
    "sel_link1.tag_name"
   ]
  },
  {
   "cell_type": "code",
   "execution_count": 9,
   "metadata": {},
   "outputs": [],
   "source": [
    "sel_link1.click()"
   ]
  },
  {
   "cell_type": "code",
   "execution_count": 10,
   "metadata": {},
   "outputs": [],
   "source": [
    "url = 'https://pythonstart.github.io/web/'\n",
    "driver.get(url)"
   ]
  },
  {
   "cell_type": "code",
   "execution_count": 11,
   "metadata": {},
   "outputs": [
    {
     "name": "stdout",
     "output_type": "stream",
     "text": [
      "10. 랭킹 정보 가져오기(웹 크롤링)\n",
      "a\n"
     ]
    }
   ],
   "source": [
    "sel_id = driver.find_element_by_id(\"rank\")\n",
    "print(sel_id.text)\n",
    "print(sel_id.tag_name)"
   ]
  },
  {
   "cell_type": "markdown",
   "metadata": {},
   "source": [
    "### 태그 이름으로 가져오기"
   ]
  },
  {
   "cell_type": "code",
   "execution_count": 16,
   "metadata": {},
   "outputs": [
    {
     "name": "stdout",
     "output_type": "stream",
     "text": [
      "a 01. 제목 가져오기(title)\n",
      "a 02. 텍스트 가져오기(p)\n",
      "a 03. 링크 가져오기(a)\n",
      "a 04. 이미지 정보 가져오기(img)\n",
      "a 05. 리스트 정보 가져오기(ul,ol)\n",
      "a 06. id를 활용한 정보 획득\n",
      "a 07. class를 활용한 정보 획득\n",
      "a 08. 하나의 이미지 다운로드\n",
      "a 09. 여러개의 이미지 다운로드\n",
      "a 10. 랭킹 정보 가져오기(웹 크롤링)\n"
     ]
    }
   ],
   "source": [
    "sel_a_all = driver.find_elements_by_tag_name(\"a\")\n",
    "\n",
    "for one in sel_a_all:\n",
    "    print(one.tag_name, one.text)"
   ]
  },
  {
   "cell_type": "markdown",
   "metadata": {},
   "source": [
    "### link_text로 가져오기"
   ]
  },
  {
   "cell_type": "code",
   "execution_count": 17,
   "metadata": {},
   "outputs": [
    {
     "name": "stdout",
     "output_type": "stream",
     "text": [
      "a 01. 제목 가져오기(title)\n"
     ]
    }
   ],
   "source": [
    "sel_link = driver.find_element_by_link_text(\"01. 제목 가져오기(title)\")\n",
    "print(sel_link.tag_name, sel_link.text)"
   ]
  },
  {
   "cell_type": "code",
   "execution_count": 18,
   "metadata": {},
   "outputs": [
    {
     "data": {
      "text/plain": [
       "'https://pythonstart.github.io/web/01.html'"
      ]
     },
     "execution_count": 18,
     "metadata": {},
     "output_type": "execute_result"
    }
   ],
   "source": [
    "sel_link.get_attribute(\"href\")"
   ]
  },
  {
   "cell_type": "markdown",
   "metadata": {},
   "source": [
    "### name 속성으로 가져오기"
   ]
  },
  {
   "cell_type": "code",
   "execution_count": 20,
   "metadata": {},
   "outputs": [
    {
     "name": "stdout",
     "output_type": "stream",
     "text": [
      "a 01. 제목 가져오기(title)\n",
      "a 03. 링크 가져오기(a)\n"
     ]
    }
   ],
   "source": [
    "sel_names = driver.find_elements_by_name(\"link_get\")\n",
    "\n",
    "for i in sel_names:\n",
    "    print(i.tag_name, i.text)"
   ]
  },
  {
   "cell_type": "markdown",
   "metadata": {},
   "source": [
    "### selector를 이용한 접근"
   ]
  },
  {
   "cell_type": "code",
   "execution_count": 23,
   "metadata": {},
   "outputs": [
    {
     "name": "stdout",
     "output_type": "stream",
     "text": [
      "a 01. 제목 가져오기(title)\n",
      "a 02. 텍스트 가져오기(p)\n",
      "a 03. 링크 가져오기(a)\n",
      "a 04. 이미지 정보 가져오기(img)\n",
      "a 05. 리스트 정보 가져오기(ul,ol)\n",
      "a 06. id를 활용한 정보 획득\n",
      "a 07. class를 활용한 정보 획득\n",
      "a 08. 하나의 이미지 다운로드\n",
      "a 09. 여러개의 이미지 다운로드\n",
      "a 10. 랭킹 정보 가져오기(웹 크롤링)\n"
     ]
    }
   ],
   "source": [
    "sel_css = driver.find_elements_by_css_selector(\"body ul a\")\n",
    "\n",
    "for one in sel_css:\n",
    "    print(one.tag_name, one.text)"
   ]
  },
  {
   "cell_type": "markdown",
   "metadata": {},
   "source": [
    "### 링크의 내용의 일부 내용으로 가져오기"
   ]
  },
  {
   "cell_type": "code",
   "execution_count": 24,
   "metadata": {},
   "outputs": [
    {
     "name": "stdout",
     "output_type": "stream",
     "text": [
      "a 01. 제목 가져오기(title)\n",
      "a 02. 텍스트 가져오기(p)\n",
      "a 03. 링크 가져오기(a)\n",
      "a 04. 이미지 정보 가져오기(img)\n",
      "a 05. 리스트 정보 가져오기(ul,ol)\n",
      "a 10. 랭킹 정보 가져오기(웹 크롤링)\n"
     ]
    }
   ],
   "source": [
    "sel_p_link = driver.find_elements_by_partial_link_text(\"가져오기\")\n",
    "\n",
    "for one in sel_p_link:\n",
    "    print(one.tag_name , one.text)"
   ]
  },
  {
   "cell_type": "code",
   "execution_count": 29,
   "metadata": {},
   "outputs": [],
   "source": [
    "url = 'https://ldjwj.github.io/00_SBA01_BigData/05_HTML/idx_lec_list'\n",
    "driver.get(url)"
   ]
  },
  {
   "cell_type": "code",
   "execution_count": 85,
   "metadata": {
    "scrolled": true
   },
   "outputs": [
    {
     "name": "stdout",
     "output_type": "stream",
     "text": [
      "R 기본 전체(전 수업 링크)\n",
      "https://github.com/LDJWJ/RBasic/tree/master/01_RClass\n",
      "통계기본이해하기(1)\n",
      "https://ldjwj.github.io/00_SBA01_BigData/05_HTML/01_RClass/Stat01_01_Basic_Summary_v12.pdf\n",
      "가설검정이해(1)\n",
      "https://ldjwj.github.io/00_SBA01_BigData/05_HTML/01_RClass/Stat01_02_Hypo_v10.pdf\n",
      "통계기본이해_실습(1)-통계가설검정\n",
      "https://ldjwj.github.io/00_SBA01_BigData/05_HTML/01_RClass/stat01_Lab02_ttest_v11.html\n",
      "통계기본이해_실습(1)-통계가설검정\n",
      "https://ldjwj.github.io/00_SBA01_BigData/05_HTML/01_RClass/stat01_Lab02_v10.html\n",
      "회귀분석이해(1)\n",
      "https://ldjwj.github.io/00_SBA01_BigData/05_HTML/01_RClass/Stat02_Regression_v10.pdf\n",
      "첫번째 모델 만들기\n",
      "https://ldjwj.github.io/00_SBA01_BigData/05_HTML/01_RClass/stat02_Lab01_lm_firstmodel.html\n",
      "회귀 모델 실습(1)-mtcars\n",
      "https://ldjwj.github.io/00_SBA01_BigData/05_HTML/01_RClass/stat02_Lab02_lm_mtcars.html\n",
      "회귀 모델 실습(2)-Boston 집값 예측\n",
      "https://ldjwj.github.io/00_SBA01_BigData/05_HTML/01_RClass/stat02_Lab03_lm_housing.html\n",
      "회귀 모델 실습(3) - 캐글 데이터-집값 예측\n",
      "https://ldjwj.github.io/00_SBA01_BigData/05_HTML/01_RClass/stat02_Lab04_lm_house_adv.html\n",
      "로지스틱 회귀 모델 실습(1) - 인디언 암 예측\n",
      "https://ldjwj.github.io/00_SBA01_BigData/05_HTML/01_RClass/stat03_Lab05_logit_indian.html\n",
      "의사결정트리 기본 이해(1)\n",
      "https://ldjwj.github.io/00_SBA01_BigData/05_HTML/01_RClass/stat04_decisiontree_v11.pdf\n",
      "의사결정트리 실습(1)\n",
      "https://ldjwj.github.io/00_SBA01_BigData/05_HTML/01_RClass/stat04_Lab01_tree_titanic.html\n",
      "의사결정트리 실습(2)\n",
      "https://ldjwj.github.io/00_SBA01_BigData/05_HTML/01_RClass/stat04_Lab02_tree_titanic.html\n",
      "데이터 탐색 - Boston 집값\n",
      "https://ldjwj.github.io/00_SBA01_BigData/05_HTML/01_RClass/stat02_Lab03_eda_housing.html\n",
      "텍스트 마이닝 시작하기\n",
      "https://ldjwj.github.io/00_SBA01_BigData/05_HTML/01_RClass/R_LV_Up08_TextMining.html\n",
      "KoNLP를 패키지를 활용한 텍스트 분석(1)\n",
      "https://ldjwj.github.io/00_SBA01_BigData/05_HTML/01_RClass/TM_Lab01_KoNLP.html\n",
      "텍스트 감정 분석(1)\n",
      "https://ldjwj.github.io/00_SBA01_BigData/05_HTML/01_RClass/TM_LAB06_sentiment.html\n",
      "TFIDF 이해하기(1)\n",
      "https://ldjwj.github.io/00_SBA01_BigData/05_HTML/01_RClass/TM_Lab02_tfidf01.html\n",
      "R과 MySQL 연동 환경 만들기\n",
      "https://ldjwj.github.io/00_SBA01_BigData/05_HTML/01_RClass/R_MYSQL_01_1909.pdf\n",
      "R과 MySQL 연동 실습하기\n",
      "https://ldjwj.github.io/00_SBA01_BigData/05_HTML/01_RClass/R_LV_Up_MySQL01.html\n",
      "데이터 시각화 기본(1)\n",
      "https://ldjwj.github.io/00_SBA01_BigData/05_HTML/01_RClass/B01_dataVis0418.pdf\n",
      "데이터 시각화 기본(2)\n",
      "https://ldjwj.github.io/00_SBA01_BigData/05_HTML/01_RClass/B01_plot_basic.pdf\n",
      "데이터 시각화 기본(3)\n",
      "https://ldjwj.github.io/00_SBA01_BigData/05_HTML/01_RClass/B02_ggplot2_jitter.pdf\n",
      "데이터 시각화 기본(4)\n",
      "https://ldjwj.github.io/00_SBA01_BigData/05_HTML/01_RClass/B03_ggplot2_custom.pdf\n",
      "데이터 시각화 활용(5)\n",
      "https://ldjwj.github.io/00_SBA01_BigData/05_HTML/01_RClass/DataVis_R_Lab07_networkAna01.r\n",
      "데이터 시각화 참고자료(1)\n",
      "https://ldjwj.github.io/00_SBA01_BigData/05_HTML/01_RClass/G01_Graph_0601.r\n",
      "데이터 시각화 참고자료(2)\n",
      "https://ldjwj.github.io/00_SBA01_BigData/05_HTML/01_RClass/G02_Graph_0601.r\n"
     ]
    }
   ],
   "source": [
    "sel_link5 = driver.find_elements_by_css_selector(\"div[data-title='Content']\")\n",
    "sel_url= driver.find_elements_by_xpath('/html/body/div/div/div/div/div/div[4]/a')\n",
    "\n",
    "# all_content = []\n",
    "# all_link = []\n",
    "\n",
    "# for one in sel_link5:\n",
    "#     one_content = one.text\n",
    "#     all_content.append(one.text)\n",
    "\n",
    "# for i in sel_url:\n",
    "#     i_link = i.get_attribute(\"href\")\n",
    "#     all_link.append(i_link)\n",
    "    \n",
    "# print(all_content, all_link)\n",
    "\n",
    "for idx in range(len(sel_link5)):\n",
    "    print(sel_link5[idx].text)\n",
    "    print(sel_url[idx].get_attribute(\"href\"))\n"
   ]
  },
  {
   "cell_type": "code",
   "execution_count": 87,
   "metadata": {},
   "outputs": [],
   "source": [
    "### BeautifulSoup\n",
    "### Selenium\n",
    "\n",
    "### 01 Selenium 웹 페이지를 띄우고\n",
    "### 02 해당 웹의 HTML소스를 얻어오기."
   ]
  },
  {
   "cell_type": "code",
   "execution_count": 131,
   "metadata": {},
   "outputs": [],
   "source": [
    "url = 'https://pythonstart.github.io/web/'\n",
    "driver.get(url)"
   ]
  },
  {
   "cell_type": "code",
   "execution_count": 134,
   "metadata": {},
   "outputs": [],
   "source": [
    "from bs4 import BeautifulSoup"
   ]
  },
  {
   "cell_type": "code",
   "execution_count": 135,
   "metadata": {},
   "outputs": [
    {
     "data": {
      "text/plain": [
       "<title>나의 웹 페이지</title>"
      ]
     },
     "execution_count": 135,
     "metadata": {},
     "output_type": "execute_result"
    }
   ],
   "source": [
    "page = driver.page_source\n",
    "soup = BeautifulSoup(page, 'lxml')\n",
    "soup.title"
   ]
  },
  {
   "cell_type": "markdown",
   "metadata": {},
   "source": [
    "### 웹 페이지 URL:https://pythonstart.github.io/web/\n",
    "### 실습1. BeautifulSoup를 이용해서 전체 링크 내용을 가져와 보자.\n",
    "### 실습2. Selenium를 이용 (함수 find_elements...)을 이용해서 전체 링크를 가져와 보자."
   ]
  },
  {
   "cell_type": "code",
   "execution_count": 136,
   "metadata": {},
   "outputs": [
    {
     "name": "stdout",
     "output_type": "stream",
     "text": [
      " 01. 제목 가져오기(title)  ./01.html\n",
      " 02. 텍스트 가져오기(p)  ./02.html\n",
      " 03. 링크 가져오기(a)  ./03.html\n",
      " 04. 이미지 정보 가져오기(img)  https://pythonstart.github.io/web/04.html\n",
      " 05. 리스트 정보 가져오기(ul,ol)  ./05.html\n",
      " 06. id를 활용한 정보 획득  ./06.html\n",
      " 07. class를 활용한 정보 획득  ./07.html\n",
      " 08. 하나의 이미지 다운로드  ./08.html\n",
      " 09. 여러개의 이미지 다운로드  https://pythonstart.github.io/web/09.html\n",
      " 10. 랭킹 정보 가져오기(웹 크롤링)  ./10.html\n"
     ]
    }
   ],
   "source": [
    "B_link = soup.findAll('a')\n",
    "# print(B_link)\n",
    "# print(B_link[3].find('a').get('href'))\n",
    "for x in B_link:\n",
    "    print(x.text, x.get('href'))\n",
    "#     x_link = x.get(\"href\")\n",
    "#     print(x_link)"
   ]
  },
  {
   "cell_type": "code",
   "execution_count": 140,
   "metadata": {},
   "outputs": [
    {
     "name": "stdout",
     "output_type": "stream",
     "text": [
      "01. 제목 가져오기(title) https://pythonstart.github.io/web/01.html\n",
      "02. 텍스트 가져오기(p) https://pythonstart.github.io/web/02.html\n",
      "03. 링크 가져오기(a) https://pythonstart.github.io/web/03.html\n",
      "04. 이미지 정보 가져오기(img) https://pythonstart.github.io/web/04.html\n",
      "05. 리스트 정보 가져오기(ul,ol) https://pythonstart.github.io/web/05.html\n",
      "06. id를 활용한 정보 획득 https://pythonstart.github.io/web/06.html\n",
      "07. class를 활용한 정보 획득 https://pythonstart.github.io/web/07.html\n",
      "08. 하나의 이미지 다운로드 https://pythonstart.github.io/web/08.html\n",
      "09. 여러개의 이미지 다운로드 https://pythonstart.github.io/web/09.html\n",
      "10. 랭킹 정보 가져오기(웹 크롤링) https://pythonstart.github.io/web/10.html\n"
     ]
    }
   ],
   "source": [
    "S_link = driver.find_elements_by_tag_name('a')\n",
    "\n",
    "for y in S_link:\n",
    "    print(y.text, y.get_attribute('href'))"
   ]
  },
  {
   "cell_type": "code",
   "execution_count": 143,
   "metadata": {},
   "outputs": [
    {
     "name": "stdout",
     "output_type": "stream",
     "text": [
      "여기는 두번째 단계\n",
      "01 시작이 반이다\n",
      "02 포기하지말고 화이팅!\n",
      "03 응원합니다.\n",
      "네이버 https://www.naver.com/\n",
      "구글 https://www.google.co.kr/\n",
      "마이크로 소프트 https://www.microsoft.com/ko-kr\n",
      "카카오 https://www.kakaocorp.com/\n"
     ]
    }
   ],
   "source": [
    "url_1 = 'https://pythonstart.github.io/web/02.html'\n",
    "url_2 = 'https://pythonstart.github.io/web/03.html'\n",
    "driver.get(url_1)\n",
    "html_2 = driver.find_elements_by_tag_name('p')\n",
    "for one in html_2:\n",
    "    print(one.text)\n",
    "driver.get(url_2)\n",
    "html_3 = driver.find_elements_by_tag_name('a')\n",
    "for x in html_3:\n",
    "    print(x.text, x.get_attribute('href'))"
   ]
  }
 ],
 "metadata": {
  "kernelspec": {
   "display_name": "Python 3",
   "language": "python",
   "name": "python3"
  },
  "language_info": {
   "codemirror_mode": {
    "name": "ipython",
    "version": 3
   },
   "file_extension": ".py",
   "mimetype": "text/x-python",
   "name": "python",
   "nbconvert_exporter": "python",
   "pygments_lexer": "ipython3",
   "version": "3.8.5"
  }
 },
 "nbformat": 4,
 "nbformat_minor": 4
}
