{
 "cells": [
  {
   "cell_type": "markdown",
   "metadata": {},
   "source": [
    "### 앙상블(ensemble)\n",
    " * 랜덤 포레스트(RandomForest)\n",
    "    * 분류 : RandomForestClassifier\n",
    "      * gini, 엔트로피\n",
    "    * 회귀 : randomForestRegressor\n",
    "      * mse, rmse...\n",
    "    * 부트 스트랩 샘플(bootstrap sample)\n",
    "       * 01 중복을 허용한 샘플을 추출한다.\n",
    "       * 02 feature를 정해진 수만큼 추출해서 모델을 만든다.\n",
    "       \n",
    " * 그레디언트 부스팅(GradienBoosting)\n",
    "    * 분류 : GradientBoostingClassifier\n",
    "    * 회귀 : GradientBoostingRegressor\n",
    "    * 매개변수 설정에 민감하다.\n",
    "      * learning_rate\n",
    "      * max_depth\n",
    "      * colsample_bytree : 나무마다 사용하는 feature 퍼센트\n",
    " * 공통점\n",
    "    * 여러개의 모델을 사용한다.\n",
    "    * n_estimators : 모델의 개수를 지정할 수 있다.\n",
    " * 차이점\n",
    "    * 여러개의 모델이 족립적이다.(랜덤 포레스트)\n",
    "    * 여러개의 모델이 다 의존적으로 연결된다.(그레디언트 부스팅)"
   ]
  },
  {
   "cell_type": "markdown",
   "metadata": {},
   "source": [
    "### 정확도, 결정계수"
   ]
  },
  {
   "cell_type": "code",
   "execution_count": 1,
   "metadata": {},
   "outputs": [],
   "source": [
    "from sklearn.model_selection import cross_val_score\n",
    "from sklearn.datasets import load_iris\n",
    "from sklearn.neighbors import KNeighborsClassifier\n",
    "from sklearn.tree import DecisionTreeClassifier\n",
    "from sklearn.ensemble import RandomForestClassifier"
   ]
  },
  {
   "cell_type": "code",
   "execution_count": 2,
   "metadata": {},
   "outputs": [],
   "source": [
    "iris = load_iris()\n",
    "\n",
    "X = iris.data\n",
    "y = iris.target\n",
    "\n",
    "model1 = KNeighborsClassifier()\n",
    "model2 = DecisionTreeClassifier()\n",
    "model3 = RandomForestClassifier()"
   ]
  },
  {
   "cell_type": "code",
   "execution_count": 3,
   "metadata": {},
   "outputs": [
    {
     "data": {
      "text/plain": [
       "RandomForestClassifier()"
      ]
     },
     "execution_count": 3,
     "metadata": {},
     "output_type": "execute_result"
    }
   ],
   "source": [
    "model1.fit(X, y)\n",
    "model2.fit(X, y)\n",
    "model3.fit(X, y)"
   ]
  },
  {
   "cell_type": "code",
   "execution_count": 4,
   "metadata": {},
   "outputs": [
    {
     "name": "stdout",
     "output_type": "stream",
     "text": [
      "[0.96666667 1.         0.93333333 0.96666667 1.        ]\n",
      "[0.96666667 0.96666667 0.9        1.         1.        ]\n",
      "[0.96666667 0.96666667 0.93333333 0.96666667 1.        ]\n"
     ]
    }
   ],
   "source": [
    "scores1 = cross_val_score(model1, X, y, cv=5)\n",
    "scores2 = cross_val_score(model2, X, y, cv=5)\n",
    "scores3 = cross_val_score(model3, X, y, cv=5)\n",
    "\n",
    "print(scores1)\n",
    "print(scores2)\n",
    "print(scores3)"
   ]
  },
  {
   "cell_type": "code",
   "execution_count": 5,
   "metadata": {},
   "outputs": [
    {
     "name": "stdout",
     "output_type": "stream",
     "text": [
      "0.9733333333333334 0.9666666666666668 0.9666666666666668\n"
     ]
    }
   ],
   "source": [
    "print(scores1.mean(), scores2.mean(), scores3.mean() )"
   ]
  },
  {
   "cell_type": "code",
   "execution_count": 6,
   "metadata": {},
   "outputs": [
    {
     "name": "stdout",
     "output_type": "stream",
     "text": [
      "0.9589285714285716\n",
      "0.9446428571428571\n",
      "0.9589285714285716\n",
      "0.9589285714285716\n",
      "0.9589285714285716\n",
      "0.9517857142857142\n",
      "0.9651785714285716\n",
      "0.9580357142857142\n",
      "0.9651785714285716\n"
     ]
    }
   ],
   "source": [
    "\n",
    "for k in range(1, 10, 1):\n",
    "    model1 = KNeighborsClassifier(n_neighbors=k)\n",
    "    scores1 = cross_val_score(model1, X, y, cv=20)\n",
    "    print(scores1.mean())"
   ]
  },
  {
   "cell_type": "code",
   "execution_count": 7,
   "metadata": {},
   "outputs": [
    {
     "name": "stdout",
     "output_type": "stream",
     "text": [
      "iris 레이블 :\n",
      "[0 0 0 0 0 0 0 0 0 0 0 0 0 0 0 0 0 0 0 0 0 0 0 0 0 0 0 0 0 0 0 0 0 0 0 0 0\n",
      " 0 0 0 0 0 0 0 0 0 0 0 0 0 1 1 1 1 1 1 1 1 1 1 1 1 1 1 1 1 1 1 1 1 1 1 1 1\n",
      " 1 1 1 1 1 1 1 1 1 1 1 1 1 1 1 1 1 1 1 1 1 1 1 1 1 1 2 2 2 2 2 2 2 2 2 2 2\n",
      " 2 2 2 2 2 2 2 2 2 2 2 2 2 2 2 2 2 2 2 2 2 2 2 2 2 2 2 2 2 2 2 2 2 2 2 2 2\n",
      " 2 2]\n"
     ]
    }
   ],
   "source": [
    "from sklearn.datasets import load_iris\n",
    "iris = load_iris()\n",
    "print('iris 레이블 :\\n{}'.format(iris.target))"
   ]
  },
  {
   "cell_type": "code",
   "execution_count": 8,
   "metadata": {},
   "outputs": [],
   "source": [
    "from sklearn.model_selection import KFold"
   ]
  },
  {
   "cell_type": "code",
   "execution_count": 9,
   "metadata": {},
   "outputs": [
    {
     "name": "stdout",
     "output_type": "stream",
     "text": [
      "교차 검증 점수 : \n",
      "[0. 0. 0.]\n"
     ]
    }
   ],
   "source": [
    "kfold = KFold(n_splits=3, shuffle=False)\n",
    "model1 = KNeighborsClassifier()\n",
    "\n",
    "print(\"교차 검증 점수 : \\n{}\".format(cross_val_score(model1,\n",
    "                                               iris.data,\n",
    "                                               iris.target, cv=kfold)))"
   ]
  },
  {
   "cell_type": "code",
   "execution_count": 10,
   "metadata": {},
   "outputs": [
    {
     "name": "stdout",
     "output_type": "stream",
     "text": [
      "교차 검증 각각의 결과  [0.98 0.96 0.94]\n",
      "교차 검증 점수 : \n",
      "0.96\n"
     ]
    }
   ],
   "source": [
    "kfold = KFold(n_splits=3, shuffle=True)\n",
    "model1 = KNeighborsClassifier()\n",
    "\n",
    "scores = cross_val_score(model1, iris.data, iris.target, cv=kfold)\n",
    "print('교차 검증 각각의 결과 ', scores)\n",
    "print(\"교차 검증 점수 : \\n{}\".format(scores.mean()))"
   ]
  },
  {
   "cell_type": "code",
   "execution_count": 17,
   "metadata": {},
   "outputs": [],
   "source": [
    "from sklearn.model_selection import cross_val_score, KFold, StratifiedKFold\n",
    "from sklearn.datasets import load_iris\n",
    "from sklearn.neighbors import KNeighborsClassifier\n",
    "# from sklearn.linear_model import LogistcRegression\n",
    "from sklearn.model_selection import RepeatedStratifiedKFold\n",
    "\n",
    "iris = load_iris()\n",
    "logreg = LogisticRegression()"
   ]
  },
  {
   "cell_type": "code",
   "execution_count": 18,
   "metadata": {},
   "outputs": [],
   "source": [
    "import os, warnings\n",
    "import numpy as np\n",
    "# 경고 메시지 무시하거나 숨길때(ignore), 다시 보이게(default)\n",
    "# warnings.filterwarnings(action='default')\n",
    "warnings.filterwarnings(action='ignore')"
   ]
  },
  {
   "cell_type": "code",
   "execution_count": 19,
   "metadata": {},
   "outputs": [
    {
     "name": "stdout",
     "output_type": "stream",
     "text": [
      "교차 검증 점수 :  [1.         0.96666667 0.93333333 1.         0.93333333 0.96666667\n",
      " 0.96666667 0.93333333 1.         0.96666667 0.93333333 1.\n",
      " 1.         0.96666667 0.96666667 0.9        1.         1.\n",
      " 0.93333333 0.96666667 0.93333333 0.96666667 0.96666667 1.\n",
      " 0.96666667 1.         0.96666667 0.96666667 0.9        1.\n",
      " 0.96666667 0.96666667 0.96666667 0.96666667 0.93333333 0.96666667\n",
      " 0.96666667 1.         1.         0.9        0.96666667 1.\n",
      " 0.9        0.96666667 0.96666667 0.9        0.96666667 0.96666667\n",
      " 1.         0.96666667]\n",
      "교차 검증 평균 점수 : 0.965\n"
     ]
    }
   ],
   "source": [
    "# n_split : 5    분할 폴드 수 : 기본 5\n",
    "# n_repeat = 10   반복횟수 : 기본 10\n",
    "rskfold = RepeatedStratifiedKFold(random_state=42, n_splits=5, n_repeats=10)\n",
    "scores = cross_val_score(logreg, iris.data, iris.target, cv=rskfold)\n",
    "\n",
    "print('교차 검증 점수 : ', scores)\n",
    "print('교차 검증 평균 점수 : {:.3f}'.format(scores.mean()))"
   ]
  },
  {
   "cell_type": "code",
   "execution_count": null,
   "metadata": {},
   "outputs": [],
   "source": []
  }
 ],
 "metadata": {
  "kernelspec": {
   "display_name": "Python 3",
   "language": "python",
   "name": "python3"
  },
  "language_info": {
   "codemirror_mode": {
    "name": "ipython",
    "version": 3
   },
   "file_extension": ".py",
   "mimetype": "text/x-python",
   "name": "python",
   "nbconvert_exporter": "python",
   "pygments_lexer": "ipython3",
   "version": "3.8.5"
  }
 },
 "nbformat": 4,
 "nbformat_minor": 4
}
