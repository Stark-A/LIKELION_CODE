{
 "cells": [
  {
   "cell_type": "markdown",
   "metadata": {},
   "source": [
    "### 평가지표\n",
    " * 회귀\n",
    " * 분류\n",
    "    * 이진\n",
    "       * 정확도\n",
    "       * 오차행렬\n",
    "         * 정밀도\n",
    "         * 민감도\n",
    "         * 특이도\n",
    "         * Fprate\n",
    "         * F1-score : 정밀도, 민감도\n",
    "         * ROC 커브\n",
    "           * AUC\n",
    "         * logloss\n",
    "    * 다항"
   ]
  },
  {
   "cell_type": "markdown",
   "metadata": {},
   "source": [
    "### 임계값\n",
    " * 0, 1\n",
    " * 0~1\n",
    "   * 로지스틱 회귀 : 0.5 (임계값)\n",
    "   * SVM(svc) : 0  (임계값)"
   ]
  },
  {
   "cell_type": "code",
   "execution_count": 1,
   "metadata": {},
   "outputs": [],
   "source": [
    "import matplotlib\n",
    "from matplotlib import font_manager, rc\n",
    "import platform\n",
    "import warnings\n",
    "warnings.filterwarnings(action='ignore')"
   ]
  },
  {
   "cell_type": "code",
   "execution_count": 2,
   "metadata": {},
   "outputs": [],
   "source": [
    "### 한글\n",
    "path = \"C:/Windows/Fonts/malgun.ttf\"\n",
    "if platform.system() == \"Windows\":\n",
    "    font_name = font_manager.FontProperties(fname=path).get_name()\n",
    "    rc('font', family=font_name)\n",
    "elif platform.system()==\"Darwin\":\n",
    "    rc('font', family='AppleGothic')\n",
    "else:\n",
    "    print(\"Unknown System\")"
   ]
  },
  {
   "cell_type": "code",
   "execution_count": 3,
   "metadata": {},
   "outputs": [],
   "source": [
    "from sklearn.svm import SVC\n",
    "from sklearn.tree import DecisionTreeClassifier\n",
    "from sklearn.model_selection import train_test_split\n",
    "import matplotlib.pyplot as plt\n",
    "import numpy as np\n",
    "from sklearn.metrics import classification_report"
   ]
  },
  {
   "cell_type": "code",
   "execution_count": 4,
   "metadata": {},
   "outputs": [
    {
     "name": "stdout",
     "output_type": "stream",
     "text": [
      "(450, 2) (450,)\n"
     ]
    }
   ],
   "source": [
    "from mglearn.datasets import make_blobs \n",
    "X, y = make_blobs(n_samples=(400, 50), \n",
    "                  centers=2, cluster_std=[7.0, 2],        \n",
    "                  random_state=22)\n",
    "                     \n",
    "print(X.shape, y.shape)"
   ]
  },
  {
   "cell_type": "code",
   "execution_count": 5,
   "metadata": {},
   "outputs": [],
   "source": [
    "X_train, X_test, y_train, y_test = train_test_split(X, y, random_state=0)\n",
    "svc = SVC(gamma=.05).fit(X_train, y_train)   \n",
    "tree = DecisionTreeClassifier().fit(X_train, y_train)  "
   ]
  },
  {
   "cell_type": "code",
   "execution_count": 6,
   "metadata": {},
   "outputs": [
    {
     "name": "stdout",
     "output_type": "stream",
     "text": [
      "              precision    recall  f1-score   support\n",
      "\n",
      "           0       0.97      0.89      0.93       104\n",
      "           1       0.35      0.67      0.46         9\n",
      "\n",
      "    accuracy                           0.88       113\n",
      "   macro avg       0.66      0.78      0.70       113\n",
      "weighted avg       0.92      0.88      0.89       113\n",
      "\n"
     ]
    }
   ],
   "source": [
    "# SVC 모델\n",
    "pred = svc.predict(X_test)\n",
    "print(classification_report(y_test, pred))"
   ]
  },
  {
   "cell_type": "code",
   "execution_count": 7,
   "metadata": {},
   "outputs": [
    {
     "name": "stdout",
     "output_type": "stream",
     "text": [
      "              precision    recall  f1-score   support\n",
      "\n",
      "           0       0.98      0.88      0.93       104\n",
      "           1       0.37      0.78      0.50         9\n",
      "\n",
      "    accuracy                           0.88       113\n",
      "   macro avg       0.67      0.83      0.71       113\n",
      "weighted avg       0.93      0.88      0.90       113\n",
      "\n"
     ]
    }
   ],
   "source": [
    "# 의사결정 트리 모델\n",
    "pred = tree.predict(X_test)\n",
    "print(classification_report(y_test, pred))"
   ]
  },
  {
   "cell_type": "code",
   "execution_count": 8,
   "metadata": {},
   "outputs": [],
   "source": [
    "from sklearn.metrics import precision_recall_curve\n",
    "\n",
    "precision, recall, thresholds = precision_recall_curve(y_test, svc.decision_function(X_test))"
   ]
  },
  {
   "cell_type": "code",
   "execution_count": 9,
   "metadata": {},
   "outputs": [
    {
     "data": {
      "text/plain": [
       "(-0.7512562994258652, 1.2505999085811395)"
      ]
     },
     "execution_count": 9,
     "metadata": {},
     "output_type": "execute_result"
    }
   ],
   "source": [
    "thresholds.min(), thresholds.max()"
   ]
  },
  {
   "cell_type": "code",
   "execution_count": 10,
   "metadata": {},
   "outputs": [
    {
     "data": {
      "text/plain": [
       "(0.2962962962962963, 1.0)"
      ]
     },
     "execution_count": 10,
     "metadata": {},
     "output_type": "execute_result"
    }
   ],
   "source": [
    "precision.min(), precision.max()"
   ]
  },
  {
   "cell_type": "code",
   "execution_count": 11,
   "metadata": {},
   "outputs": [
    {
     "data": {
      "text/plain": [
       "(0.0, 1.0)"
      ]
     },
     "execution_count": 11,
     "metadata": {},
     "output_type": "execute_result"
    }
   ],
   "source": [
    "recall.min(), recall.max()"
   ]
  },
  {
   "cell_type": "code",
   "execution_count": 12,
   "metadata": {},
   "outputs": [
    {
     "name": "stdout",
     "output_type": "stream",
     "text": [
      "(4500, 2) (4500,)\n"
     ]
    }
   ],
   "source": [
    "# 부드러운 곡선을 위해 데이터 포인트 수를 늘립니다\n",
    "X, y = make_blobs(n_samples=(4000, 500), \n",
    "                  centers=2, \n",
    "                  cluster_std=[7.0, 2],\n",
    "                  random_state=22)\n",
    "\n",
    "print(X.shape, y.shape)\n",
    "\n",
    "X_train, X_test, y_train, y_test = train_test_split(X, y, random_state=0)"
   ]
  },
  {
   "cell_type": "code",
   "execution_count": 14,
   "metadata": {},
   "outputs": [],
   "source": [
    "svc = SVC(gamma=.05).fit(X_train, y_train)\n",
    "\n",
    "pred = svc.decision_function(X_test)  #  0의 값을 기준으로 분포\n",
    "precision, recall, thresholds = precision_recall_curve(y_test, pred)"
   ]
  },
  {
   "cell_type": "code",
   "execution_count": 15,
   "metadata": {},
   "outputs": [
    {
     "name": "stdout",
     "output_type": "stream",
     "text": [
      "-1.4264466917666971 1.467573203281382\n",
      "0.11019283746556474 1.0\n",
      "0.0 1.0\n"
     ]
    }
   ],
   "source": [
    "print(thresholds.min(), thresholds.max())\n",
    "print(precision.min(), precision.max())\n",
    "print(recall.min(), recall.max())"
   ]
  },
  {
   "cell_type": "code",
   "execution_count": 16,
   "metadata": {},
   "outputs": [
    {
     "name": "stdout",
     "output_type": "stream",
     "text": [
      "임계값 :  -1.4264466917666971 1.467573203281382\n",
      "964\n"
     ]
    },
    {
     "data": {
      "text/plain": [
       "<matplotlib.legend.Legend at 0x201da512670>"
      ]
     },
     "execution_count": 16,
     "metadata": {},
     "output_type": "execute_result"
    },
    {
     "data": {
      "image/png": "[encoded data removed]",
      "text/plain": [
       "<Figure size 432x288 with 1 Axes>"
      ]
     },
     "metadata": {
      "needs_background": "light"
     },
     "output_type": "display_data"
    }
   ],
   "source": [
    "precision, recall, thresholds = precision_recall_curve(y_test, pred)\n",
    "\n",
    "print(\"임계값 : \", thresholds.min(),  thresholds.max())\n",
    "\n",
    "# 0에 가까운 임계값을 찾습니다\n",
    "close_zero = np.argmin(np.abs(thresholds))  # thresholds의 절대값이 가장 작은 것(위치)\n",
    "print(close_zero)  \n",
    "\n",
    "plt.plot(precision[close_zero], \n",
    "         recall[close_zero], 'o', \n",
    "         markersize=10,\n",
    "         label=\"임계값 0\", \n",
    "         fillstyle=\"none\", c='k')\n",
    "\n",
    "plt.plot(precision, recall, label=\"정밀도-재현율 곡선\")\n",
    "plt.xlabel(\"정밀도\")\n",
    "plt.ylabel(\"재현율\")\n",
    "plt.legend(loc=\"best\")"
   ]
  },
  {
   "cell_type": "code",
   "execution_count": 17,
   "metadata": {},
   "outputs": [
    {
     "data": {
      "text/plain": [
       "array([0.  , 0.35, 0.7 , ..., 0.  , 0.  , 0.  ])"
      ]
     },
     "execution_count": 17,
     "metadata": {},
     "output_type": "execute_result"
    }
   ],
   "source": [
    "from sklearn.ensemble import RandomForestClassifier\n",
    "\n",
    "rf = RandomForestClassifier(n_estimators=100, random_state=0, max_features=2)\n",
    "rf.fit(X_train, y_train)\n",
    "pred =  rf.predict_proba(X_test)[:, 1]\n",
    "pred"
   ]
  },
  {
   "cell_type": "code",
   "execution_count": 18,
   "metadata": {},
   "outputs": [
    {
     "name": "stdout",
     "output_type": "stream",
     "text": [
      "47\n"
     ]
    },
    {
     "data": {
      "text/plain": [
       "<matplotlib.legend.Legend at 0x201e0f4edf0>"
      ]
     },
     "execution_count": 18,
     "metadata": {},
     "output_type": "execute_result"
    },
    {
     "data": {
      "image/png": "[encoded data removed]",
      "text/plain": [
       "<Figure size 432x288 with 1 Axes>"
      ]
     },
     "metadata": {
      "needs_background": "light"
     },
     "output_type": "display_data"
    }
   ],
   "source": [
    "# SVC모델 그래프\n",
    "plt.plot(precision, recall, label=\"svc\")\n",
    "\n",
    "plt.plot(precision[close_zero], \n",
    "         recall[close_zero], 'o', \n",
    "         markersize=10,\n",
    "         label=\"svc: 임계값 0\", \n",
    "         fillstyle=\"none\", \n",
    "         c='k', \n",
    "         mew=2)\n",
    "\n",
    "# RandomForestClassifier는 decision_function 대신 predict_proba를 제공합니다.\n",
    "precision_rf, recall_rf, thresholds_rf = precision_recall_curve(y_test, pred)\n",
    "\n",
    "# 랜덤포레스트 그래프\n",
    "plt.plot(precision_rf, recall_rf, label=\"rf\")\n",
    "\n",
    "close_zero_rf = np.argmin(  np.abs(thresholds_rf - 0.5)  )   # 임계값이 0.5 위치\n",
    "print(close_zero_rf)\n",
    "\n",
    "plt.plot(precision_rf[close_zero_rf], recall_rf[close_zero_rf], '^', c='k',\n",
    "         markersize=10, label=\"rf: 임계값 0.5\", fillstyle=\"none\", mew=2)\n",
    "plt.xlabel(\"정밀도\")\n",
    "plt.ylabel(\"재현율\")\n",
    "plt.legend(loc=\"best\")"
   ]
  },
  {
   "cell_type": "code",
   "execution_count": 19,
   "metadata": {},
   "outputs": [
    {
     "name": "stdout",
     "output_type": "stream",
     "text": [
      "랜덤 포레스트의 f1_score: 0.610\n",
      "svc의 f1_score: 0.656\n"
     ]
    }
   ],
   "source": [
    "from sklearn.metrics import f1_score\n",
    "\n",
    "rf_f1score = f1_score(y_test, rf.predict(X_test) )\n",
    "svc_f1score = f1_score(y_test, svc.predict(X_test))\n",
    "\n",
    "print(\"랜덤 포레스트의 f1_score: {:.3f}\".format(rf_f1score))\n",
    "print(\"svc의 f1_score: {:.3f}\".format(svc_f1score))"
   ]
  },
  {
   "cell_type": "code",
   "execution_count": 20,
   "metadata": {},
   "outputs": [
    {
     "name": "stdout",
     "output_type": "stream",
     "text": [
      "랜덤 포레스트의 평균 정밀도: 0.660\n",
      "svc의 평균 정밀도: 0.666\n"
     ]
    }
   ],
   "source": [
    "from sklearn.metrics import average_precision_score\n",
    "\n",
    "## 확률 예측 \n",
    "rf_pro = rf.predict_proba(X_test)[:, 1]\n",
    "svc_dcfun = svc.decision_function(X_test)\n",
    "\n",
    "ap_rf = average_precision_score(y_test, rf_pro)\n",
    "ap_svc = average_precision_score(y_test, svc_dcfun)\n",
    "\n",
    "print(\"랜덤 포레스트의 평균 정밀도: {:.3f}\".format(ap_rf))\n",
    "print(\"svc의 평균 정밀도: {:.3f}\".format(ap_svc))"
   ]
  },
  {
   "cell_type": "code",
   "execution_count": 21,
   "metadata": {},
   "outputs": [],
   "source": [
    "from sklearn.metrics import roc_curve\n",
    "fpr, tpr, thresholds = roc_curve(y_test, svc.decision_function(X_test))"
   ]
  },
  {
   "cell_type": "code",
   "execution_count": 22,
   "metadata": {},
   "outputs": [
    {
     "data": {
      "text/plain": [
       "<matplotlib.legend.Legend at 0x201e0fc40a0>"
      ]
     },
     "execution_count": 22,
     "metadata": {},
     "output_type": "execute_result"
    },
    {
     "data": {
      "image/png": "[encoded data removed]",
      "text/plain": [
       "<Figure size 432x288 with 1 Axes>"
      ]
     },
     "metadata": {
      "needs_background": "light"
     },
     "output_type": "display_data"
    }
   ],
   "source": [
    "plt.plot(fpr, tpr, label=\"ROC 곡선\")\n",
    "plt.xlabel(\"FPR\")\n",
    "plt.ylabel(\"TPR (재현율)\")\n",
    "\n",
    "# 임계값이 0 근처의 임계값을 찾습니다\n",
    "close_zero = np.argmin(np.abs(thresholds))\n",
    "plt.plot(fpr[close_zero], tpr[close_zero], 'o', markersize=10,\n",
    "         label=\"임계값 0\", fillstyle=\"none\", c='k', mew=2)\n",
    "plt.legend(loc=4)"
   ]
  },
  {
   "cell_type": "code",
   "execution_count": 23,
   "metadata": {},
   "outputs": [
    {
     "data": {
      "text/plain": [
       "<matplotlib.legend.Legend at 0x201e0f1da00>"
      ]
     },
     "execution_count": 23,
     "metadata": {},
     "output_type": "execute_result"
    },
    {
     "data": {
      "image/png": "[encoded data removed]",
      "text/plain": [
       "<Figure size 432x288 with 1 Axes>"
      ]
     },
     "metadata": {
      "needs_background": "light"
     },
     "output_type": "display_data"
    }
   ],
   "source": [
    "from sklearn.metrics import roc_curve\n",
    "fpr_rf, tpr_rf, thresholds_rf = roc_curve(y_test, rf.predict_proba(X_test)[:, 1])\n",
    "\n",
    "plt.plot(fpr, tpr, label=\"SVC의 ROC 곡선\")\n",
    "plt.plot(fpr_rf, tpr_rf, label=\"RF의 ROC 곡선\")\n",
    "\n",
    "plt.xlabel(\"FPR\")\n",
    "plt.ylabel(\"TPR (재현율)\")\n",
    "plt.plot(fpr[close_zero], tpr[close_zero], 'o', markersize=10,\n",
    "         label=\"SVC 임계값 0\", fillstyle=\"none\", c='k', mew=2)\n",
    "\n",
    "close_05_rf = np.argmin(np.abs(thresholds_rf - 0.5))\n",
    "plt.plot(fpr_rf[close_05_rf], tpr[close_05_rf], '^', markersize=10,\n",
    "         label=\"RF 임계값 0.5\", fillstyle=\"none\", c='k', mew=2)\n",
    "\n",
    "plt.legend(loc=4)"
   ]
  },
  {
   "cell_type": "code",
   "execution_count": 24,
   "metadata": {},
   "outputs": [
    {
     "name": "stdout",
     "output_type": "stream",
     "text": [
      "랜덤 포레스트의 AUC: 0.937\n",
      "SVC의 AUC: 0.916\n"
     ]
    }
   ],
   "source": [
    "from sklearn.metrics import roc_auc_score\n",
    "rf_auc = roc_auc_score(y_test, rf.predict_proba(X_test)[:, 1])\n",
    "svc_auc = roc_auc_score(y_test, svc.decision_function(X_test))\n",
    "\n",
    "print(\"랜덤 포레스트의 AUC: {:.3f}\".format(rf_auc))\n",
    "print(\"SVC의 AUC: {:.3f}\".format(svc_auc))"
   ]
  },
  {
   "cell_type": "code",
   "execution_count": null,
   "metadata": {},
   "outputs": [],
   "source": []
  }
 ],
 "metadata": {
  "kernelspec": {
   "display_name": "Python 3",
   "language": "python",
   "name": "python3"
  },
  "language_info": {
   "codemirror_mode": {
    "name": "ipython",
    "version": 3
   },
   "file_extension": ".py",
   "mimetype": "text/x-python",
   "name": "python",
   "nbconvert_exporter": "python",
   "pygments_lexer": "ipython3",
   "version": "3.8.5"
  }
 },
 "nbformat": 4,
 "nbformat_minor": 4
}
