{
 "cells": [
  {
   "cell_type": "code",
   "execution_count": 1,
   "metadata": {},
   "outputs": [],
   "source": [
    "import matplotlib.pyplot as plt\n",
    "import seaborn as sns\n",
    "from sklearn.linear_model import LinearRegression"
   ]
  },
  {
   "cell_type": "code",
   "execution_count": 2,
   "metadata": {},
   "outputs": [
    {
     "data": {
      "text/plain": [
       "((2896, 15), (1008, 14), (150, 2), (16, 23))"
      ]
     },
     "execution_count": 2,
     "metadata": {},
     "output_type": "execute_result"
    }
   ],
   "source": [
    "import pandas as pd\n",
    "\n",
    "train = pd.read_csv('./Data/train_df_errno.csv')\n",
    "test = pd.read_csv('./Data/test_df.csv')\n",
    "sub = pd.read_csv('./Data/sample_submission.csv')\n",
    "age = pd.read_csv('./Data/age_gender_info.csv')\n",
    "\n",
    "train.shape, test.shape, sub.shape, age.shape"
   ]
  },
  {
   "cell_type": "code",
   "execution_count": 3,
   "metadata": {},
   "outputs": [],
   "source": [
    "train.columns = ['단지코드', '총세대수', '임대건물구분', '지역', '공급유형', '전용면적', '전용면적별세대수', '공가수',\n",
    "       '자격유형', '임대보증금', '임대료', '10분내지하철수',\n",
    "       '10분내버스정류장수', '단지내주차면수', '등록차량수']\n",
    "test.columns = ['단지코드', '총세대수', '임대건물구분', '지역', '공급유형', '전용면적', '전용면적별세대수', '공가수',\n",
    "       '자격유형', '임대보증금', '임대료', '10분내지하철수',\n",
    "       '10분내버스정류장수', '단지내주차면수']"
   ]
  },
  {
   "cell_type": "code",
   "execution_count": 5,
   "metadata": {},
   "outputs": [
    {
     "data": {
      "text/plain": [
       "단지코드            0\n",
       "총세대수            0\n",
       "임대건물구분          0\n",
       "지역              0\n",
       "공급유형            0\n",
       "전용면적            0\n",
       "전용면적별세대수        0\n",
       "공가수             0\n",
       "자격유형            0\n",
       "임대보증금         569\n",
       "임대료           569\n",
       "10분내지하철수      211\n",
       "10분내버스정류장수      4\n",
       "단지내주차면수         0\n",
       "등록차량수           0\n",
       "dtype: int64"
      ]
     },
     "execution_count": 5,
     "metadata": {},
     "output_type": "execute_result"
    }
   ],
   "source": [
    "train.isnull().sum()"
   ]
  },
  {
   "cell_type": "code",
   "execution_count": 6,
   "metadata": {},
   "outputs": [
    {
     "data": {
      "text/plain": [
       "단지코드            0\n",
       "총세대수            0\n",
       "임대건물구분          0\n",
       "지역              0\n",
       "공급유형            0\n",
       "전용면적            0\n",
       "전용면적별세대수        0\n",
       "공가수             0\n",
       "자격유형            2\n",
       "임대보증금         180\n",
       "임대료           180\n",
       "10분내지하철수       38\n",
       "10분내버스정류장수      0\n",
       "단지내주차면수         0\n",
       "dtype: int64"
      ]
     },
     "execution_count": 6,
     "metadata": {},
     "output_type": "execute_result"
    }
   ],
   "source": [
    "test.isnull().sum()"
   ]
  },
  {
   "cell_type": "code",
   "execution_count": null,
   "metadata": {},
   "outputs": [],
   "source": []
  }
 ],
 "metadata": {
  "kernelspec": {
   "display_name": "Python 3",
   "language": "python",
   "name": "python3"
  },
  "language_info": {
   "codemirror_mode": {
    "name": "ipython",
    "version": 3
   },
   "file_extension": ".py",
   "mimetype": "text/x-python",
   "name": "python",
   "nbconvert_exporter": "python",
   "pygments_lexer": "ipython3",
   "version": "3.8.5"
  }
 },
 "nbformat": 4,
 "nbformat_minor": 4
}
