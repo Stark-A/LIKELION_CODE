{
 "cells": [
  {
   "cell_type": "code",
   "execution_count": 2,
   "metadata": {},
   "outputs": [],
   "source": [
    "from bs4 import BeautifulSoup\n",
    "from urllib.request import urlopen"
   ]
  },
  {
   "cell_type": "code",
   "execution_count": 3,
   "metadata": {},
   "outputs": [],
   "source": [
    "url = \"https://movie.naver.com/movie/running/premovie.nhn\"\n",
    "page = urlopen(url)\n",
    "soup = BeautifulSoup(page, 'lxml')"
   ]
  },
  {
   "cell_type": "markdown",
   "metadata": {},
   "source": [
    "## 첫 번째 영상 제목 가져오기\n",
    "  * github commit 하기"
   ]
  },
  {
   "cell_type": "code",
   "execution_count": 4,
   "metadata": {},
   "outputs": [
    {
     "data": {
      "text/plain": [
       "'2046'"
      ]
     },
     "execution_count": 4,
     "metadata": {},
     "output_type": "execute_result"
    }
   ],
   "source": [
    "title = soup.find('ul', class_='lst_detail_t1').find('img').get('alt')\n",
    "title"
   ]
  },
  {
   "cell_type": "code",
   "execution_count": 5,
   "metadata": {},
   "outputs": [
    {
     "data": {
      "text/plain": [
       "'흩어진 밤'"
      ]
     },
     "execution_count": 5,
     "metadata": {},
     "output_type": "execute_result"
    }
   ],
   "source": [
    "all_title = soup.findAll('ul', class_='lst_detail_t1')[2].find('img').get('alt')\n",
    "all_title"
   ]
  },
  {
   "cell_type": "markdown",
   "metadata": {},
   "source": [
    "## 영화 제목 전체 가져오기"
   ]
  },
  {
   "cell_type": "code",
   "execution_count": 12,
   "metadata": {},
   "outputs": [
    {
     "name": "stdout",
     "output_type": "stream",
     "text": [
      "['2046', '킬러의 보디가드 2', '흩어진 밤', '아사다 가족', '미드나이트', '기적', '매직아치', '블랙 위도우', '미션 임파서블: 루벤', '꽃다발 같은 사랑을 했다', '와인 패밀리', '극장판 짱구는 못말려: 격돌! 낙서왕국과 얼추 네 명의 용사들', '베놈 2: 렛 데어 비 카니지', '007 노 타임 투 다이', '웨스트 사이드 스토리', '모비우스', '쥬라기 월드: 도미니언', '미니언즈2']\n"
     ]
    }
   ],
   "source": [
    "all_titles = []\n",
    "all_title = soup.findAll('ul', class_='lst_detail_t1')\n",
    "for one in all_title:\n",
    "    one_title = one.find('img').get('alt')\n",
    "    all_titles.append(one_title)\n",
    "print(all_titles)"
   ]
  },
  {
   "cell_type": "code",
   "execution_count": null,
   "metadata": {},
   "outputs": [],
   "source": []
  }
 ],
 "metadata": {
  "kernelspec": {
   "display_name": "Python 3",
   "language": "python",
   "name": "python3"
  },
  "language_info": {
   "codemirror_mode": {
    "name": "ipython",
    "version": 3
   },
   "file_extension": ".py",
   "mimetype": "text/x-python",
   "name": "python",
   "nbconvert_exporter": "python",
   "pygments_lexer": "ipython3",
   "version": "3.8.5"
  }
 },
 "nbformat": 4,
 "nbformat_minor": 4
}
